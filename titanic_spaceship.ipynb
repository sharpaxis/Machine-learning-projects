{
 "cells": [
  {
   "cell_type": "code",
   "execution_count": null,
   "id": "721d7fd2",
   "metadata": {},
   "outputs": [],
   "source": [
    "#basic import\n",
    "import numpy as np\n",
    "import pandas as pd\n",
    "import matplotlib.pyplot as plt\n",
    "import seaborn as sns"
   ]
  },
  {
   "cell_type": "code",
   "execution_count": null,
   "id": "79720711",
   "metadata": {},
   "outputs": [],
   "source": [
    "#data aqistion\n",
    "train_sp = pd.read_csv(\"train_spaceship.csv\")\n",
    "test_sp = pd.read_csv(\"test_spaceship.csv\")"
   ]
  },
  {
   "cell_type": "code",
   "execution_count": null,
   "id": "0ac6941d",
   "metadata": {},
   "outputs": [],
   "source": [
    "train_sp.head()\n",
    "#categorical - HomePlanet,CryoSleep,Destination,VIP\n",
    "#target - Transported\n",
    "#numerical - Age,RoomService,FoofCourt,ShoppingMall,Spa,VRDeck\n",
    "#string - PassengerId,Cabin,Name"
   ]
  },
  {
   "cell_type": "code",
   "execution_count": null,
   "id": "4a1e3a77",
   "metadata": {},
   "outputs": [],
   "source": [
    "train_sp.info()"
   ]
  },
  {
   "cell_type": "code",
   "execution_count": null,
   "id": "5d513a55",
   "metadata": {},
   "outputs": [],
   "source": [
    "train_sp.describe()"
   ]
  },
  {
   "cell_type": "code",
   "execution_count": null,
   "id": "c3009a22",
   "metadata": {},
   "outputs": [],
   "source": [
    "#visualization\n",
    "#target column countplot with other categorical\n",
    "sns.countplot(x=\"Transported\",data=train_sp,hue=\"HomePlanet\",palette=\"winter_r\")\n",
    "#most people from class -0 (not transported) are from earth\n",
    "#same for class 1 but its more evenly distributed"
   ]
  },
  {
   "cell_type": "code",
   "execution_count": null,
   "id": "447d5a62",
   "metadata": {},
   "outputs": [],
   "source": [
    "sns.countplot(x=\"Transported\",data=train_sp,hue=\"Destination\",palette=\"winter_r\")\n",
    "#most people from both classes 0,1 had same destination -TRAPPIST-1e"
   ]
  },
  {
   "cell_type": "code",
   "execution_count": null,
   "id": "cda35185",
   "metadata": {},
   "outputs": [],
   "source": [
    "sns.countplot(x=\"Transported\",data=train_sp,hue=\"CryoSleep\",palette=\"winter_r\")\n",
    "#most people from class 0 were in cryosleep"
   ]
  },
  {
   "cell_type": "code",
   "execution_count": null,
   "id": "dbff8305",
   "metadata": {},
   "outputs": [],
   "source": [
    "sns.countplot(x=\"Transported\",data=train_sp,hue=\"VIP\",palette=\"winter_r\")"
   ]
  },
  {
   "cell_type": "code",
   "execution_count": null,
   "id": "d980df5a",
   "metadata": {},
   "outputs": [],
   "source": [
    "#age vs target\n",
    "facet_kws = {\"hue\":\"Transported\",\"palette\":{0:\"red\",1:\"blue\"}}\n",
    "sns.displot(x=\"Age\",data=train_sp,col=\"Transported\",**facet_kws,alpha=0.4)\n",
    "#age is more or less equally distributed among both columns "
   ]
  },
  {
   "cell_type": "code",
   "execution_count": null,
   "id": "ec82ff01",
   "metadata": {},
   "outputs": [],
   "source": [
    "#pairplot for rest of numerical\n",
    "sns.pairplot(train_sp,hue='Transported',palette=\"magma\")"
   ]
  },
  {
   "cell_type": "code",
   "execution_count": null,
   "id": "5b77ff25",
   "metadata": {},
   "outputs": [],
   "source": [
    "#converting categorical columns\n",
    "cat_ft = [\"HomePlanet\",\"CryoSleep\",\"Destination\",\"VIP\"]\n",
    "train_sp = pd.get_dummies(train_sp,columns=cat_ft,drop_first=True)"
   ]
  },
  {
   "cell_type": "code",
   "execution_count": null,
   "id": "6e66317c",
   "metadata": {},
   "outputs": [],
   "source": [
    "test_sp = pd.get_dummies(test_sp,columns=cat_ft,drop_first=True)"
   ]
  },
  {
   "cell_type": "code",
   "execution_count": null,
   "id": "94315af9",
   "metadata": {},
   "outputs": [],
   "source": [
    "train_sp.drop([\"PassengerId\",\"Cabin\",\"Name\"],axis=1,inplace=True)"
   ]
  },
  {
   "cell_type": "code",
   "execution_count": null,
   "id": "b769eeec",
   "metadata": {},
   "outputs": [],
   "source": [
    "test_sp.drop([\"PassengerId\",\"Cabin\",\"Name\"],axis=1,inplace=True)"
   ]
  },
  {
   "cell_type": "code",
   "execution_count": null,
   "id": "dd3a5871",
   "metadata": {},
   "outputs": [],
   "source": [
    "train_sp.info()"
   ]
  },
  {
   "cell_type": "code",
   "execution_count": null,
   "id": "6b524ffa",
   "metadata": {},
   "outputs": [],
   "source": [
    "test_sp.info()"
   ]
  },
  {
   "cell_type": "code",
   "execution_count": null,
   "id": "95b23782",
   "metadata": {},
   "outputs": [],
   "source": [
    "#data split\n",
    "X_train = train_sp.drop(\"Transported\",axis=1)\n",
    "y_train = train_sp[\"Transported\"]\n",
    "X_test = test_sp"
   ]
  },
  {
   "cell_type": "code",
   "execution_count": null,
   "id": "588c68eb",
   "metadata": {},
   "outputs": [],
   "source": [
    "#Model - 1 DecisionTree\n",
    "from sklearn.tree import DecisionTreeClassifier\n",
    "dtree = DecisionTreeClassifier()"
   ]
  },
  {
   "cell_type": "code",
   "execution_count": null,
   "id": "a3478273",
   "metadata": {},
   "outputs": [],
   "source": [
    "#model-1 training\n",
    "dtree.fit(X_train,y_train)"
   ]
  },
  {
   "cell_type": "code",
   "execution_count": null,
   "id": "dbf63a80",
   "metadata": {},
   "outputs": [],
   "source": [
    "#testing\n",
    "predictions_dtree = dtree.predict(X_test)"
   ]
  },
  {
   "cell_type": "code",
   "execution_count": null,
   "id": "a5cdcf15",
   "metadata": {},
   "outputs": [],
   "source": [
    "test_2 = pd.read_csv(\"test_spaceship.csv\")\n",
    "pred_2 = pd.DataFrame(predictions_dtree,columns=[\"Transported\"])\n",
    "pred_2 = pd.concat([pred_2,test_2[\"PassengerId\"]],axis=1)\n",
    "pred_2.set_index(\"PassengerId\",inplace=True)\n",
    "pred_2.to_csv(\"titanic_spaceship_dtree.csv\")"
   ]
  },
  {
   "cell_type": "code",
   "execution_count": null,
   "id": "72e2ce66",
   "metadata": {},
   "outputs": [],
   "source": [
    "#Model 2-RandomForest\n",
    "from sklearn.ensemble import RandomForestClassifier\n",
    "rfc = RandomForestClassifier(n_estimators=2000)"
   ]
  },
  {
   "cell_type": "code",
   "execution_count": null,
   "id": "16abe6be",
   "metadata": {},
   "outputs": [],
   "source": [
    "#model - 2 training\n",
    "rfc.fit(X_train,y_train)"
   ]
  },
  {
   "cell_type": "code",
   "execution_count": null,
   "id": "1d56c30e",
   "metadata": {},
   "outputs": [],
   "source": [
    "#model-2 test\n",
    "predictions_rfc = rfc.predict(X_test)"
   ]
  },
  {
   "cell_type": "code",
   "execution_count": null,
   "id": "3d934b94",
   "metadata": {},
   "outputs": [],
   "source": [
    "test_2 = pd.read_csv(\"test_spaceship.csv\")\n",
    "pred_2 = pd.DataFrame(predictions_rfc,columns=[\"Transported\"])\n",
    "pred_2 = pd.concat([pred_2,test_2[\"PassengerId\"]],axis=1)\n",
    "pred_2.set_index(\"PassengerId\",inplace=True)\n",
    "pred_2.to_csv(\"titanic_spaceship_rfc.csv\")"
   ]
  },
  {
   "cell_type": "code",
   "execution_count": null,
   "id": "8144f36a",
   "metadata": {},
   "outputs": [],
   "source": [
    "#preprocessing data for log reg\n",
    "from sklearn.preprocessing import StandardScaler\n",
    "st = StandardScaler()\n",
    "st.fit(X_train)\n",
    "X_train_lr = st.transform(X_train)\n",
    "st.fit(X_test) \n",
    "X_test_lr = st.transform(X_test)"
   ]
  },
  {
   "cell_type": "code",
   "execution_count": null,
   "id": "5a0db612",
   "metadata": {},
   "outputs": [],
   "source": [
    "#Model-3 Logistic regression\n",
    "from sklearn.linear_model import LogisticRegression\n",
    "log_reg = LogisticRegression()"
   ]
  },
  {
   "cell_type": "code",
   "execution_count": null,
   "id": "6ac6b8d4",
   "metadata": {},
   "outputs": [],
   "source": [
    "#model-3 training\n",
    "log_reg.fit(X_train_lr,y_train)"
   ]
  },
  {
   "cell_type": "code",
   "execution_count": null,
   "id": "10a84afd",
   "metadata": {},
   "outputs": [],
   "source": [
    "#model -3 testing \n",
    "predictions_log_reg = log_reg.predict(X_test_lr)"
   ]
  },
  {
   "cell_type": "code",
   "execution_count": null,
   "id": "7c9fb977",
   "metadata": {},
   "outputs": [],
   "source": [
    "test_2 = pd.read_csv(\"test_spaceship.csv\")\n",
    "pred_2 = pd.DataFrame(predictions_log_reg,columns=[\"Transported\"])\n",
    "pred_2 = pd.concat([pred_2,test_2[\"PassengerId\"]],axis=1)\n",
    "pred_2.set_index(\"PassengerId\",inplace=True)\n",
    "pred_2.to_csv(\"titanic_spaceship_log_reg.csv\")"
   ]
  }
 ],
 "metadata": {
  "kernelspec": {
   "display_name": "Python 3 (ipykernel)",
   "language": "python",
   "name": "python3"
  },
  "language_info": {
   "codemirror_mode": {
    "name": "ipython",
    "version": 3
   },
   "file_extension": ".py",
   "mimetype": "text/x-python",
   "name": "python",
   "nbconvert_exporter": "python",
   "pygments_lexer": "ipython3",
   "version": "3.10.9"
  }
 },
 "nbformat": 4,
 "nbformat_minor": 5
}
