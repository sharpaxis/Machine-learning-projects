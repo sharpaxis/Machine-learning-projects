{
 "cells": [
  {
   "cell_type": "markdown",
   "id": "4371a3ac",
   "metadata": {},
   "source": [
    "## Web-scraping-task"
   ]
  },
  {
   "cell_type": "code",
   "execution_count": 55,
   "id": "8fa122ce",
   "metadata": {},
   "outputs": [],
   "source": [
    "#basic imports\n",
    "from selenium import webdriver\n",
    "from selenium.webdriver.chrome.service import Service\n",
    "from selenium.webdriver.common.by import By\n",
    "from selenium.webdriver.support.ui import WebDriverWait\n",
    "from selenium.webdriver.support import expected_conditions as EC\n",
    "from selenium.webdriver.chrome.options import Options\n",
    "from webdriver_manager.chrome import ChromeDriverManager\n",
    "import pandas as pd\n",
    "import time\n",
    "import random\n",
    "from datetime import datetime\n",
    "from IPython.display import display, clear_output\n",
    "from tqdm.notebook import tqdm\n",
    "import warnings\n",
    "warnings.filterwarnings('ignore')"
   ]
  },
  {
   "cell_type": "code",
   "execution_count": 2,
   "id": "bc03e4e6",
   "metadata": {},
   "outputs": [],
   "source": [
    "#driver for scraping \n",
    "def setup_driver():\n",
    "    chrome_options = Options()\n",
    "    chrome_options.add_argument('--disable-gpu')\n",
    "    chrome_options.add_argument('--no-sandbox')\n",
    "    chrome_options.add_argument('--start-maximized')\n",
    "    chrome_options.add_argument('--disable-dev-shm-usage')\n",
    "    chrome_options.add_argument('--disable-blink-features=AutomationControlled')\n",
    "    chrome_options.add_experimental_option('excludeSwitches', ['enable-automation'])\n",
    "    chrome_options.add_experimental_option('useAutomationExtension', False)\n",
    "    chrome_options.add_argument('--user-agent=Mozilla/5.0 (Windows NT 10.0; Win64; x64) AppleWebKit/537.36 (KHTML, like Gecko) Chrome/120.0.0.0 Safari/537.36')\n",
    "    driver = webdriver.Chrome(service=Service(ChromeDriverManager().install()), \n",
    "                            options=chrome_options)\n",
    "    \n",
    "    return driver"
   ]
  },
  {
   "cell_type": "code",
   "execution_count": 3,
   "id": "03fb7abc",
   "metadata": {},
   "outputs": [],
   "source": [
    "def wait_for_page_load(driver, timeout=20):\n",
    "    try:\n",
    "        print(\"Waiting for page to load...\", end='')\n",
    "        WebDriverWait(driver, timeout).until(\n",
    "            lambda d: d.execute_script('return document.readyState') == 'complete'\n",
    "        )\n",
    "        time.sleep(3) \n",
    "        print(\" Done!\")\n",
    "    except Exception as e:\n",
    "        print(f\"\\nWarning during page load: {str(e)}\")"
   ]
  },
  {
   "cell_type": "code",
   "execution_count": 4,
   "id": "22ba8cb5",
   "metadata": {},
   "outputs": [],
   "source": [
    "def scroll_page(driver, scrolls=3):\n",
    "    last_height = driver.execute_script(\"return document.body.scrollHeight\")\n",
    "    for i in range(scrolls):\n",
    "        driver.execute_script(\"window.scrollTo(0, document.body.scrollHeight);\")\n",
    "        time.sleep(2)\n",
    "        print(f\"Scroll {i+1}/{scrolls} completed\")\n",
    "        \n",
    "        new_height = driver.execute_script(\"return document.body.scrollHeight\")\n",
    "        if new_height == last_height:\n",
    "            break\n",
    "        last_height = new_height"
   ]
  },
  {
   "cell_type": "code",
   "execution_count": 5,
   "id": "9f2b6a4c",
   "metadata": {},
   "outputs": [],
   "source": [
    "def find_article_links(driver):\n",
    "    article_urls = set()\n",
    "    scroll_page(driver)\n",
    "    links = driver.find_elements(By.TAG_NAME, 'a')\n",
    "    for link in links:\n",
    "        try:\n",
    "            href = link.get_attribute('href')\n",
    "            if href and 'thehindu.com' in href and '/article' in href:\n",
    "                article_urls.add(href)\n",
    "        except:\n",
    "            continue\n",
    "    selectors = [\n",
    "        'div.story-card a',\n",
    "        'div.story-card-news a',\n",
    "        'div.latest-news a',\n",
    "        'div.other-articles a',\n",
    "        'div[class*=\"article\"] a',\n",
    "        '.sticky-article a'\n",
    "    ]\n",
    "    \n",
    "    for selector in selectors:\n",
    "        try:\n",
    "            elements = driver.find_elements(By.CSS_SELECTOR, selector)\n",
    "            for element in elements:\n",
    "                href = element.get_attribute('href')\n",
    "                if href and 'thehindu.com' in href and '/article' in href:\n",
    "                    article_urls.add(href)\n",
    "        except:\n",
    "            continue\n",
    "    \n",
    "    print(f\"Found {len(article_urls)} unique article URLs\")\n",
    "    return list(article_urls)\n"
   ]
  },
  {
   "cell_type": "code",
   "execution_count": 6,
   "id": "6dd39501",
   "metadata": {},
   "outputs": [],
   "source": [
    "def scrape_article(driver, url):\n",
    "    try:\n",
    "        driver.get(url)\n",
    "        wait_for_page_load(driver)\n",
    "        \n",
    "        data = {'url': url}\n",
    "        try:\n",
    "            data['title'] = driver.find_element(By.CSS_SELECTOR, 'h1.title, h1.article-title, h1').text.strip()\n",
    "        except:\n",
    "            data['title'] = \"Title not found\"\n",
    "        try:\n",
    "            date_element = driver.find_element(By.CSS_SELECTOR, 'meta[property=\"article:published_time\"]')\n",
    "            data['date'] = date_element.get_attribute('content')\n",
    "        except:\n",
    "            try:\n",
    "                date_element = driver.find_element(By.CSS_SELECTOR, '.published-time')\n",
    "                data['date'] = date_element.text.strip()\n",
    "            except:\n",
    "                data['date'] = \"Date not found\"\n",
    "        try:\n",
    "            data['author'] = driver.find_element(By.CSS_SELECTOR, '.author-name, .auth-nm, [class*=\"author\"]').text.strip()\n",
    "        except:\n",
    "            data['author'] = \"Author not specified\"\n",
    "        try:\n",
    "            content_elements = driver.find_elements(By.CSS_SELECTOR, '[id*=\"content-body\"], .article-body p')\n",
    "            data['content'] = '\\n'.join([elem.text.strip() for elem in content_elements if elem.text.strip()])\n",
    "        except:\n",
    "            data['content'] = \"Content not found\"\n",
    "        \n",
    "        return data\n",
    "        \n",
    "    except Exception as e:\n",
    "        print(f\"\\nError scraping article {url}: {str(e)}\")\n",
    "        return None"
   ]
  },
  {
   "cell_type": "code",
   "execution_count": 7,
   "id": "17052705",
   "metadata": {},
   "outputs": [],
   "source": [
    "def scrape_hindu_news():\n",
    "    driver = None\n",
    "    try:\n",
    "        driver = setup_driver()\n",
    "        \n",
    "        # Navigate to homepage\n",
    "        print(\"\\nNavigating to The Hindu...\")\n",
    "        driver.get('https://www.thehindu.com/')\n",
    "        wait_for_page_load(driver)\n",
    "        \n",
    "        # Get article URLs\n",
    "        article_urls = find_article_links(driver)\n",
    "        \n",
    "        if not article_urls:\n",
    "            print(\"No article URLs found. Please check the website's structure or try again.\")\n",
    "            return None\n",
    "        \n",
    "        # Scrape articles with progress bar\n",
    "        print(\"\\nScraping articles...\")\n",
    "        articles = []\n",
    "        \n",
    "        for url in tqdm(article_urls, desc=\"Scraping articles\"):\n",
    "            article_data = scrape_article(driver, url)\n",
    "            if article_data:\n",
    "                articles.append(article_data)\n",
    "                time.sleep(random.uniform(1, 2))  # Random delay between requests\n",
    "        \n",
    "        # Create DataFrame and save results\n",
    "        if articles:\n",
    "            df = pd.DataFrame(articles)\n",
    "            timestamp = datetime.now().strftime('%Y%m%d_%H%M%S')\n",
    "            filename = f'hindu_articles_{timestamp}.csv'\n",
    "            df.to_csv(filename, index=False, encoding='utf-8')\n",
    "            print(f\"\\nSuccessfully scraped {len(articles)} articles\")\n",
    "            print(f\"Data saved to {filename}\")\n",
    "            \n",
    "            # Display sample of results\n",
    "            print(\"\\nSample of scraped articles:\")\n",
    "            display(df[['title', 'date', 'author']].head())\n",
    "            \n",
    "            return df\n",
    "        else:\n",
    "            print(\"No articles were successfully scraped\")\n",
    "            return None\n",
    "            \n",
    "    except Exception as e:\n",
    "        print(f\"An error occurred: {str(e)}\")\n",
    "        return None\n",
    "        \n",
    "    finally:\n",
    "        if driver:\n",
    "            driver.quit()\n"
   ]
  },
  {
   "cell_type": "code",
   "execution_count": 35,
   "id": "284971f2",
   "metadata": {},
   "outputs": [
    {
     "name": "stdout",
     "output_type": "stream",
     "text": [
      "\n",
      "Navigating to The Hindu...\n",
      "Waiting for page to load... Done!\n",
      "Scroll 1/3 completed\n",
      "Found 99 unique article URLs\n",
      "\n",
      "Scraping articles...\n"
     ]
    },
    {
     "data": {
      "application/vnd.jupyter.widget-view+json": {
       "model_id": "9e7f2777207744119a05555cb0a32972",
       "version_major": 2,
       "version_minor": 0
      },
      "text/plain": [
       "Scraping articles:   0%|          | 0/99 [00:00<?, ?it/s]"
      ]
     },
     "metadata": {},
     "output_type": "display_data"
    },
    {
     "name": "stdout",
     "output_type": "stream",
     "text": [
      "Waiting for page to load... Done!\n",
      "Waiting for page to load... Done!\n",
      "Waiting for page to load... Done!\n",
      "Waiting for page to load... Done!\n",
      "Waiting for page to load... Done!\n",
      "Waiting for page to load... Done!\n",
      "Waiting for page to load... Done!\n",
      "Waiting for page to load... Done!\n",
      "Waiting for page to load... Done!\n",
      "Waiting for page to load... Done!\n",
      "Waiting for page to load... Done!\n",
      "Waiting for page to load... Done!\n",
      "Waiting for page to load... Done!\n",
      "Waiting for page to load... Done!\n",
      "Waiting for page to load... Done!\n",
      "Waiting for page to load... Done!\n",
      "Waiting for page to load... Done!\n",
      "Waiting for page to load... Done!\n",
      "Waiting for page to load... Done!\n",
      "Waiting for page to load... Done!\n",
      "Waiting for page to load... Done!\n",
      "Waiting for page to load... Done!\n",
      "Waiting for page to load... Done!\n",
      "Waiting for page to load... Done!\n",
      "Waiting for page to load... Done!\n",
      "Waiting for page to load... Done!\n",
      "Waiting for page to load... Done!\n",
      "Waiting for page to load... Done!\n",
      "Waiting for page to load... Done!\n",
      "Waiting for page to load... Done!\n",
      "Waiting for page to load... Done!\n",
      "Waiting for page to load... Done!\n",
      "Waiting for page to load... Done!\n",
      "Waiting for page to load... Done!\n",
      "Waiting for page to load... Done!\n",
      "Waiting for page to load... Done!\n",
      "Waiting for page to load... Done!\n",
      "Waiting for page to load... Done!\n",
      "Waiting for page to load... Done!\n",
      "Waiting for page to load... Done!\n",
      "Waiting for page to load... Done!\n",
      "Waiting for page to load... Done!\n",
      "Waiting for page to load... Done!\n",
      "Waiting for page to load... Done!\n",
      "Waiting for page to load... Done!\n",
      "Waiting for page to load... Done!\n",
      "Waiting for page to load... Done!\n",
      "Waiting for page to load... Done!\n",
      "Waiting for page to load... Done!\n",
      "Waiting for page to load... Done!\n",
      "Waiting for page to load... Done!\n",
      "Waiting for page to load... Done!\n",
      "Waiting for page to load... Done!\n",
      "Waiting for page to load... Done!\n",
      "Waiting for page to load... Done!\n",
      "Waiting for page to load... Done!\n",
      "Waiting for page to load... Done!\n",
      "Waiting for page to load... Done!\n",
      "Waiting for page to load... Done!\n",
      "Waiting for page to load... Done!\n",
      "Waiting for page to load... Done!\n",
      "Waiting for page to load... Done!\n",
      "Waiting for page to load... Done!\n",
      "Waiting for page to load... Done!\n",
      "Waiting for page to load... Done!\n",
      "Waiting for page to load... Done!\n",
      "Waiting for page to load... Done!\n",
      "Waiting for page to load... Done!\n",
      "Waiting for page to load... Done!\n",
      "Waiting for page to load... Done!\n",
      "Waiting for page to load... Done!\n",
      "Waiting for page to load... Done!\n",
      "Waiting for page to load... Done!\n",
      "Waiting for page to load... Done!\n",
      "Waiting for page to load... Done!\n",
      "Waiting for page to load... Done!\n",
      "Waiting for page to load... Done!\n",
      "Waiting for page to load... Done!\n",
      "Waiting for page to load... Done!\n",
      "Waiting for page to load... Done!\n",
      "Waiting for page to load... Done!\n",
      "Waiting for page to load... Done!\n",
      "Waiting for page to load... Done!\n",
      "Waiting for page to load... Done!\n",
      "Waiting for page to load... Done!\n",
      "Waiting for page to load... Done!\n",
      "Waiting for page to load... Done!\n",
      "Waiting for page to load... Done!\n",
      "Waiting for page to load... Done!\n",
      "Waiting for page to load... Done!\n",
      "Waiting for page to load... Done!\n",
      "Waiting for page to load... Done!\n",
      "Waiting for page to load... Done!\n",
      "Waiting for page to load... Done!\n",
      "Waiting for page to load... Done!\n",
      "Waiting for page to load... Done!\n",
      "Waiting for page to load... Done!\n",
      "Waiting for page to load... Done!\n",
      "Waiting for page to load... Done!\n",
      "\n",
      "Successfully scraped 99 articles\n",
      "Data saved to hindu_articles_20250113_195948.csv\n",
      "\n",
      "Sample of scraped articles:\n"
     ]
    },
    {
     "data": {
      "text/html": [
       "<div>\n",
       "<style scoped>\n",
       "    .dataframe tbody tr th:only-of-type {\n",
       "        vertical-align: middle;\n",
       "    }\n",
       "\n",
       "    .dataframe tbody tr th {\n",
       "        vertical-align: top;\n",
       "    }\n",
       "\n",
       "    .dataframe thead th {\n",
       "        text-align: right;\n",
       "    }\n",
       "</style>\n",
       "<table border=\"1\" class=\"dataframe\">\n",
       "  <thead>\n",
       "    <tr style=\"text-align: right;\">\n",
       "      <th></th>\n",
       "      <th>title</th>\n",
       "      <th>date</th>\n",
       "      <th>author</th>\n",
       "    </tr>\n",
       "  </thead>\n",
       "  <tbody>\n",
       "    <tr>\n",
       "      <th>0</th>\n",
       "      <td>Seven months after BJP comes to power, Odisha ...</td>\n",
       "      <td>2025-01-13T14:12:24.000Z</td>\n",
       "      <td>PTI</td>\n",
       "    </tr>\n",
       "    <tr>\n",
       "      <th>1</th>\n",
       "      <td>Net direct tax collections slow down marginall...</td>\n",
       "      <td>2025-01-13T14:09:31.000Z</td>\n",
       "      <td>THE HINDU BUREAU</td>\n",
       "    </tr>\n",
       "    <tr>\n",
       "      <th>2</th>\n",
       "      <td>Chennai wakes up to thick smog on Bhogi day; v...</td>\n",
       "      <td>2025-01-13T06:47:46.000Z</td>\n",
       "      <td>THE HINDU BUREAU</td>\n",
       "    </tr>\n",
       "    <tr>\n",
       "      <th>3</th>\n",
       "      <td>Erode (East) bypoll: With AIADMK choosing to s...</td>\n",
       "      <td>2025-01-13T06:57:59.000Z</td>\n",
       "      <td>T. RAMAKRISHNAN</td>\n",
       "    </tr>\n",
       "    <tr>\n",
       "      <th>4</th>\n",
       "      <td>India summons Bangladesh’s Deputy High Commiss...</td>\n",
       "      <td>2025-01-13T09:54:14.000Z</td>\n",
       "      <td>THE HINDU BUREAU</td>\n",
       "    </tr>\n",
       "  </tbody>\n",
       "</table>\n",
       "</div>"
      ],
      "text/plain": [
       "                                               title  \\\n",
       "0  Seven months after BJP comes to power, Odisha ...   \n",
       "1  Net direct tax collections slow down marginall...   \n",
       "2  Chennai wakes up to thick smog on Bhogi day; v...   \n",
       "3  Erode (East) bypoll: With AIADMK choosing to s...   \n",
       "4  India summons Bangladesh’s Deputy High Commiss...   \n",
       "\n",
       "                       date            author  \n",
       "0  2025-01-13T14:12:24.000Z               PTI  \n",
       "1  2025-01-13T14:09:31.000Z  THE HINDU BUREAU  \n",
       "2  2025-01-13T06:47:46.000Z  THE HINDU BUREAU  \n",
       "3  2025-01-13T06:57:59.000Z   T. RAMAKRISHNAN  \n",
       "4  2025-01-13T09:54:14.000Z  THE HINDU BUREAU  "
      ]
     },
     "metadata": {},
     "output_type": "display_data"
    }
   ],
   "source": [
    "df = scrape_hindu_news()"
   ]
  },
  {
   "cell_type": "markdown",
   "id": "7aa9c712",
   "metadata": {},
   "source": [
    "### import 2 days scraped articles"
   ]
  },
  {
   "cell_type": "code",
   "execution_count": 36,
   "id": "4dda6945",
   "metadata": {},
   "outputs": [],
   "source": [
    "df_day1 = pd.read_csv('hindu_articles.csv')\n",
    "df_day2 = pd.read_csv('hindu_articles_day2.csv')"
   ]
  },
  {
   "cell_type": "code",
   "execution_count": 37,
   "id": "ab333789",
   "metadata": {},
   "outputs": [],
   "source": [
    "df_day1.drop('Unnamed: 0',axis=1,inplace=True)"
   ]
  },
  {
   "cell_type": "code",
   "execution_count": 38,
   "id": "28fa2ed1",
   "metadata": {},
   "outputs": [
    {
     "data": {
      "text/html": [
       "<div>\n",
       "<style scoped>\n",
       "    .dataframe tbody tr th:only-of-type {\n",
       "        vertical-align: middle;\n",
       "    }\n",
       "\n",
       "    .dataframe tbody tr th {\n",
       "        vertical-align: top;\n",
       "    }\n",
       "\n",
       "    .dataframe thead th {\n",
       "        text-align: right;\n",
       "    }\n",
       "</style>\n",
       "<table border=\"1\" class=\"dataframe\">\n",
       "  <thead>\n",
       "    <tr style=\"text-align: right;\">\n",
       "      <th></th>\n",
       "      <th>url</th>\n",
       "      <th>title</th>\n",
       "      <th>date</th>\n",
       "      <th>author</th>\n",
       "      <th>content</th>\n",
       "    </tr>\n",
       "  </thead>\n",
       "  <tbody>\n",
       "    <tr>\n",
       "      <th>0</th>\n",
       "      <td>https://www.thehindu.com/news/international/lo...</td>\n",
       "      <td>Los Angeles fires: 24 dead as fire crews try t...</td>\n",
       "      <td>2025-01-13T02:46:29.000Z</td>\n",
       "      <td>AP</td>\n",
       "      <td>Firefighters scrambled on Sunday (January 12, ...</td>\n",
       "    </tr>\n",
       "    <tr>\n",
       "      <th>1</th>\n",
       "      <td>https://www.thehindu.com/news/national/prime-m...</td>\n",
       "      <td>PM inaugurates strategic Z-Morh tunnel in J&amp;K,...</td>\n",
       "      <td>2025-01-13T07:22:43.000Z</td>\n",
       "      <td>PEERZADA ASHIQ</td>\n",
       "      <td>Prime Minister Narendra Modi, who inaugurated ...</td>\n",
       "    </tr>\n",
       "    <tr>\n",
       "      <th>2</th>\n",
       "      <td>https://www.thehindu.com/lit-for-life/the-hind...</td>\n",
       "      <td>The Hindu Lit for Life | Engage with maths and...</td>\n",
       "      <td>2025-01-10T10:44:32.000Z</td>\n",
       "      <td>SANGITA RAJAN</td>\n",
       "      <td>The only true universal language is mathematic...</td>\n",
       "    </tr>\n",
       "    <tr>\n",
       "      <th>3</th>\n",
       "      <td>https://www.thehindu.com/opinion/op-ed/the-ref...</td>\n",
       "      <td>The reforms needed in the MEA\\nPremium</td>\n",
       "      <td>2025-01-12T20:16:56.000Z</td>\n",
       "      <td>RAJEEV AGARWAL</td>\n",
       "      <td>I\\nndia is on the rise, thanks to its consiste...</td>\n",
       "    </tr>\n",
       "    <tr>\n",
       "      <th>4</th>\n",
       "      <td>https://www.thehindu.com/news/national/jammu-a...</td>\n",
       "      <td>Jammu and Kashmir CM Omar Abdullah seeks resto...</td>\n",
       "      <td>2025-01-13T08:59:50.000Z</td>\n",
       "      <td>PTI</td>\n",
       "      <td>Chief Minister Omar Abdullah on Monday (Januar...</td>\n",
       "    </tr>\n",
       "    <tr>\n",
       "      <th>...</th>\n",
       "      <td>...</td>\n",
       "      <td>...</td>\n",
       "      <td>...</td>\n",
       "      <td>...</td>\n",
       "      <td>...</td>\n",
       "    </tr>\n",
       "    <tr>\n",
       "      <th>89</th>\n",
       "      <td>https://www.thehindu.com/news/national/pravasi...</td>\n",
       "      <td>Pravasi Bharatiya Divas highlights: India will...</td>\n",
       "      <td>2025-01-09T04:17:14.000Z</td>\n",
       "      <td>THE HINDU BUREAU</td>\n",
       "      <td>JANUARY 09, 2025 17:17\\nGuests from abroad lap...</td>\n",
       "    </tr>\n",
       "    <tr>\n",
       "      <th>90</th>\n",
       "      <td>https://www.thehindu.com/news/national/uttar-p...</td>\n",
       "      <td>Steve Jobs’ wife Laurene Powell offers prayers...</td>\n",
       "      <td>2025-01-12T07:33:14.000Z</td>\n",
       "      <td>THE HINDU BUREAU</td>\n",
       "      <td>Laurene Powell Jobs, the wife of late Apple co...</td>\n",
       "    </tr>\n",
       "    <tr>\n",
       "      <th>91</th>\n",
       "      <td>https://www.thehindu.com/sci-tech/energy-and-e...</td>\n",
       "      <td>Is groundwater contamination high in India? | ...</td>\n",
       "      <td>2025-01-11T20:40:00.000Z</td>\n",
       "      <td>JACOB KOSHY</td>\n",
       "      <td>The story so far: An assessment of India’s gro...</td>\n",
       "    </tr>\n",
       "    <tr>\n",
       "      <th>92</th>\n",
       "      <td>https://www.thehindu.com/news/national/inspire...</td>\n",
       "      <td>Inspired by the Belgium model, union demands l...</td>\n",
       "      <td>2025-01-13T03:55:07.000Z</td>\n",
       "      <td>SHRABANA CHATTERJEE</td>\n",
       "      <td>Durbar Mahila Samanway Commitee (DMSC), one of...</td>\n",
       "    </tr>\n",
       "    <tr>\n",
       "      <th>93</th>\n",
       "      <td>https://www.thehindu.com/news/national/tamil-n...</td>\n",
       "      <td>15 Indian fishermen detained near Diego Garcia...</td>\n",
       "      <td>2025-01-13T10:03:58.000Z</td>\n",
       "      <td>THE HINDU BUREAU</td>\n",
       "      <td>As many as 15 fishermen who ventured into the ...</td>\n",
       "    </tr>\n",
       "  </tbody>\n",
       "</table>\n",
       "<p>94 rows × 5 columns</p>\n",
       "</div>"
      ],
      "text/plain": [
       "                                                  url  \\\n",
       "0   https://www.thehindu.com/news/international/lo...   \n",
       "1   https://www.thehindu.com/news/national/prime-m...   \n",
       "2   https://www.thehindu.com/lit-for-life/the-hind...   \n",
       "3   https://www.thehindu.com/opinion/op-ed/the-ref...   \n",
       "4   https://www.thehindu.com/news/national/jammu-a...   \n",
       "..                                                ...   \n",
       "89  https://www.thehindu.com/news/national/pravasi...   \n",
       "90  https://www.thehindu.com/news/national/uttar-p...   \n",
       "91  https://www.thehindu.com/sci-tech/energy-and-e...   \n",
       "92  https://www.thehindu.com/news/national/inspire...   \n",
       "93  https://www.thehindu.com/news/national/tamil-n...   \n",
       "\n",
       "                                                title  \\\n",
       "0   Los Angeles fires: 24 dead as fire crews try t...   \n",
       "1   PM inaugurates strategic Z-Morh tunnel in J&K,...   \n",
       "2   The Hindu Lit for Life | Engage with maths and...   \n",
       "3              The reforms needed in the MEA\\nPremium   \n",
       "4   Jammu and Kashmir CM Omar Abdullah seeks resto...   \n",
       "..                                                ...   \n",
       "89  Pravasi Bharatiya Divas highlights: India will...   \n",
       "90  Steve Jobs’ wife Laurene Powell offers prayers...   \n",
       "91  Is groundwater contamination high in India? | ...   \n",
       "92  Inspired by the Belgium model, union demands l...   \n",
       "93  15 Indian fishermen detained near Diego Garcia...   \n",
       "\n",
       "                        date               author  \\\n",
       "0   2025-01-13T02:46:29.000Z                   AP   \n",
       "1   2025-01-13T07:22:43.000Z       PEERZADA ASHIQ   \n",
       "2   2025-01-10T10:44:32.000Z        SANGITA RAJAN   \n",
       "3   2025-01-12T20:16:56.000Z       RAJEEV AGARWAL   \n",
       "4   2025-01-13T08:59:50.000Z                  PTI   \n",
       "..                       ...                  ...   \n",
       "89  2025-01-09T04:17:14.000Z     THE HINDU BUREAU   \n",
       "90  2025-01-12T07:33:14.000Z     THE HINDU BUREAU   \n",
       "91  2025-01-11T20:40:00.000Z          JACOB KOSHY   \n",
       "92  2025-01-13T03:55:07.000Z  SHRABANA CHATTERJEE   \n",
       "93  2025-01-13T10:03:58.000Z     THE HINDU BUREAU   \n",
       "\n",
       "                                              content  \n",
       "0   Firefighters scrambled on Sunday (January 12, ...  \n",
       "1   Prime Minister Narendra Modi, who inaugurated ...  \n",
       "2   The only true universal language is mathematic...  \n",
       "3   I\\nndia is on the rise, thanks to its consiste...  \n",
       "4   Chief Minister Omar Abdullah on Monday (Januar...  \n",
       "..                                                ...  \n",
       "89  JANUARY 09, 2025 17:17\\nGuests from abroad lap...  \n",
       "90  Laurene Powell Jobs, the wife of late Apple co...  \n",
       "91  The story so far: An assessment of India’s gro...  \n",
       "92  Durbar Mahila Samanway Commitee (DMSC), one of...  \n",
       "93  As many as 15 fishermen who ventured into the ...  \n",
       "\n",
       "[94 rows x 5 columns]"
      ]
     },
     "execution_count": 38,
     "metadata": {},
     "output_type": "execute_result"
    }
   ],
   "source": [
    "df_day1"
   ]
  },
  {
   "cell_type": "code",
   "execution_count": 39,
   "id": "898b3d9b",
   "metadata": {},
   "outputs": [
    {
     "data": {
      "text/html": [
       "<div>\n",
       "<style scoped>\n",
       "    .dataframe tbody tr th:only-of-type {\n",
       "        vertical-align: middle;\n",
       "    }\n",
       "\n",
       "    .dataframe tbody tr th {\n",
       "        vertical-align: top;\n",
       "    }\n",
       "\n",
       "    .dataframe thead th {\n",
       "        text-align: right;\n",
       "    }\n",
       "</style>\n",
       "<table border=\"1\" class=\"dataframe\">\n",
       "  <thead>\n",
       "    <tr style=\"text-align: right;\">\n",
       "      <th></th>\n",
       "      <th>url</th>\n",
       "      <th>title</th>\n",
       "      <th>date</th>\n",
       "      <th>author</th>\n",
       "      <th>content</th>\n",
       "    </tr>\n",
       "  </thead>\n",
       "  <tbody>\n",
       "    <tr>\n",
       "      <th>0</th>\n",
       "      <td>https://www.thehindu.com/news/national/prime-m...</td>\n",
       "      <td>PM inaugurates strategic Z-Morh tunnel in J&amp;K,...</td>\n",
       "      <td>2025-01-13T07:22:43.000Z</td>\n",
       "      <td>PEERZADA ASHIQ</td>\n",
       "      <td>Prime Minister Narendra Modi, who inaugurated ...</td>\n",
       "    </tr>\n",
       "    <tr>\n",
       "      <th>1</th>\n",
       "      <td>https://www.thehindu.com/lit-for-life/the-hind...</td>\n",
       "      <td>The Hindu Lit for Life | Engage with maths and...</td>\n",
       "      <td>2025-01-10T10:44:32.000Z</td>\n",
       "      <td>SANGITA RAJAN</td>\n",
       "      <td>The only true universal language is mathematic...</td>\n",
       "    </tr>\n",
       "    <tr>\n",
       "      <th>2</th>\n",
       "      <td>https://www.thehindu.com/opinion/op-ed/the-ref...</td>\n",
       "      <td>The reforms needed in the MEA\\nPremium</td>\n",
       "      <td>2025-01-12T20:16:56.000Z</td>\n",
       "      <td>RAJEEV AGARWAL</td>\n",
       "      <td>I\\nndia is on the rise, thanks to its consiste...</td>\n",
       "    </tr>\n",
       "    <tr>\n",
       "      <th>3</th>\n",
       "      <td>https://www.thehindu.com/hindi/editorial/%E2%8...</td>\n",
       "      <td>राष्ट्रपति पद की वजह से राहत: अमेरिका के नवनिर...</td>\n",
       "      <td>2025-01-14T06:12:30.000Z</td>\n",
       "      <td>NaN</td>\n",
       "      <td>नवनिर्वाचित राष्ट्रपति डोनाल्ड ट्रम्प को न्यूय...</td>\n",
       "    </tr>\n",
       "    <tr>\n",
       "      <th>4</th>\n",
       "      <td>https://www.thehindu.com/news/national/tamil-n...</td>\n",
       "      <td>Russia ships nuclear reactor vessel for Kudank...</td>\n",
       "      <td>2025-01-13T23:15:00.000Z</td>\n",
       "      <td>P ANTONY JOSEPH SUDAHAR</td>\n",
       "      <td>The VVER-1,000 MWe reactor vessel for the sixt...</td>\n",
       "    </tr>\n",
       "    <tr>\n",
       "      <th>...</th>\n",
       "      <td>...</td>\n",
       "      <td>...</td>\n",
       "      <td>...</td>\n",
       "      <td>...</td>\n",
       "      <td>...</td>\n",
       "    </tr>\n",
       "    <tr>\n",
       "      <th>87</th>\n",
       "      <td>https://www.thehindu.com/lit-for-life/the-hind...</td>\n",
       "      <td>The Hindu Lit for Life launches mobile library</td>\n",
       "      <td>2025-01-08T06:20:29.000Z</td>\n",
       "      <td>THE HINDU BUREAU</td>\n",
       "      <td>The Hindu Lit for Life, The Hindu’s annual lit...</td>\n",
       "    </tr>\n",
       "    <tr>\n",
       "      <th>88</th>\n",
       "      <td>https://www.thehindu.com/news/national/uttar-p...</td>\n",
       "      <td>Steve Jobs’ wife Laurene Powell offers prayers...</td>\n",
       "      <td>2025-01-12T07:33:14.000Z</td>\n",
       "      <td>THE HINDU BUREAU</td>\n",
       "      <td>Laurene Powell Jobs, the wife of late Apple co...</td>\n",
       "    </tr>\n",
       "    <tr>\n",
       "      <th>89</th>\n",
       "      <td>https://www.thehindu.com/sci-tech/energy-and-e...</td>\n",
       "      <td>Is groundwater contamination high in India? | ...</td>\n",
       "      <td>2025-01-11T20:40:00.000Z</td>\n",
       "      <td>JACOB KOSHY</td>\n",
       "      <td>The story so far: An assessment of India’s gro...</td>\n",
       "    </tr>\n",
       "    <tr>\n",
       "      <th>90</th>\n",
       "      <td>https://www.thehindu.com/sci-tech/health/docto...</td>\n",
       "      <td>Doctors from 14 nations seek change in India-l...</td>\n",
       "      <td>2025-01-13T14:57:10.000Z</td>\n",
       "      <td>BINDU SHAJAN PERAPPADAN</td>\n",
       "      <td>Dermatologists from the India and 13 other cou...</td>\n",
       "    </tr>\n",
       "    <tr>\n",
       "      <th>91</th>\n",
       "      <td>https://www.thehindu.com/opinion/op-ed/transfo...</td>\n",
       "      <td>Transforming ‘men’-talities, redefining mascul...</td>\n",
       "      <td>2025-01-13T18:38:00.000Z</td>\n",
       "      <td>TIM CURTIS,RAVI VERMA</td>\n",
       "      <td>As another International Day for the Eliminati...</td>\n",
       "    </tr>\n",
       "  </tbody>\n",
       "</table>\n",
       "<p>92 rows × 5 columns</p>\n",
       "</div>"
      ],
      "text/plain": [
       "                                                  url  \\\n",
       "0   https://www.thehindu.com/news/national/prime-m...   \n",
       "1   https://www.thehindu.com/lit-for-life/the-hind...   \n",
       "2   https://www.thehindu.com/opinion/op-ed/the-ref...   \n",
       "3   https://www.thehindu.com/hindi/editorial/%E2%8...   \n",
       "4   https://www.thehindu.com/news/national/tamil-n...   \n",
       "..                                                ...   \n",
       "87  https://www.thehindu.com/lit-for-life/the-hind...   \n",
       "88  https://www.thehindu.com/news/national/uttar-p...   \n",
       "89  https://www.thehindu.com/sci-tech/energy-and-e...   \n",
       "90  https://www.thehindu.com/sci-tech/health/docto...   \n",
       "91  https://www.thehindu.com/opinion/op-ed/transfo...   \n",
       "\n",
       "                                                title  \\\n",
       "0   PM inaugurates strategic Z-Morh tunnel in J&K,...   \n",
       "1   The Hindu Lit for Life | Engage with maths and...   \n",
       "2              The reforms needed in the MEA\\nPremium   \n",
       "3   राष्ट्रपति पद की वजह से राहत: अमेरिका के नवनिर...   \n",
       "4   Russia ships nuclear reactor vessel for Kudank...   \n",
       "..                                                ...   \n",
       "87     The Hindu Lit for Life launches mobile library   \n",
       "88  Steve Jobs’ wife Laurene Powell offers prayers...   \n",
       "89  Is groundwater contamination high in India? | ...   \n",
       "90  Doctors from 14 nations seek change in India-l...   \n",
       "91  Transforming ‘men’-talities, redefining mascul...   \n",
       "\n",
       "                        date                   author  \\\n",
       "0   2025-01-13T07:22:43.000Z           PEERZADA ASHIQ   \n",
       "1   2025-01-10T10:44:32.000Z            SANGITA RAJAN   \n",
       "2   2025-01-12T20:16:56.000Z           RAJEEV AGARWAL   \n",
       "3   2025-01-14T06:12:30.000Z                      NaN   \n",
       "4   2025-01-13T23:15:00.000Z  P ANTONY JOSEPH SUDAHAR   \n",
       "..                       ...                      ...   \n",
       "87  2025-01-08T06:20:29.000Z         THE HINDU BUREAU   \n",
       "88  2025-01-12T07:33:14.000Z         THE HINDU BUREAU   \n",
       "89  2025-01-11T20:40:00.000Z              JACOB KOSHY   \n",
       "90  2025-01-13T14:57:10.000Z  BINDU SHAJAN PERAPPADAN   \n",
       "91  2025-01-13T18:38:00.000Z    TIM CURTIS,RAVI VERMA   \n",
       "\n",
       "                                              content  \n",
       "0   Prime Minister Narendra Modi, who inaugurated ...  \n",
       "1   The only true universal language is mathematic...  \n",
       "2   I\\nndia is on the rise, thanks to its consiste...  \n",
       "3   नवनिर्वाचित राष्ट्रपति डोनाल्ड ट्रम्प को न्यूय...  \n",
       "4   The VVER-1,000 MWe reactor vessel for the sixt...  \n",
       "..                                                ...  \n",
       "87  The Hindu Lit for Life, The Hindu’s annual lit...  \n",
       "88  Laurene Powell Jobs, the wife of late Apple co...  \n",
       "89  The story so far: An assessment of India’s gro...  \n",
       "90  Dermatologists from the India and 13 other cou...  \n",
       "91  As another International Day for the Eliminati...  \n",
       "\n",
       "[92 rows x 5 columns]"
      ]
     },
     "execution_count": 39,
     "metadata": {},
     "output_type": "execute_result"
    }
   ],
   "source": [
    "df_day2"
   ]
  },
  {
   "cell_type": "code",
   "execution_count": 166,
   "id": "7bfc1c5e",
   "metadata": {},
   "outputs": [],
   "source": [
    "#combine both dataframes\n",
    "df_final = pd.concat([df_day1,df_day2],axis=0)"
   ]
  },
  {
   "cell_type": "code",
   "execution_count": 167,
   "id": "c39f4f94",
   "metadata": {},
   "outputs": [],
   "source": [
    "#reset index \n",
    "df_final = df_final.reset_index().drop('index',axis=1)"
   ]
  },
  {
   "cell_type": "code",
   "execution_count": 168,
   "id": "4c29d403",
   "metadata": {},
   "outputs": [
    {
     "data": {
      "text/html": [
       "<div>\n",
       "<style scoped>\n",
       "    .dataframe tbody tr th:only-of-type {\n",
       "        vertical-align: middle;\n",
       "    }\n",
       "\n",
       "    .dataframe tbody tr th {\n",
       "        vertical-align: top;\n",
       "    }\n",
       "\n",
       "    .dataframe thead th {\n",
       "        text-align: right;\n",
       "    }\n",
       "</style>\n",
       "<table border=\"1\" class=\"dataframe\">\n",
       "  <thead>\n",
       "    <tr style=\"text-align: right;\">\n",
       "      <th></th>\n",
       "      <th>url</th>\n",
       "      <th>title</th>\n",
       "      <th>date</th>\n",
       "      <th>author</th>\n",
       "      <th>content</th>\n",
       "    </tr>\n",
       "  </thead>\n",
       "  <tbody>\n",
       "    <tr>\n",
       "      <th>0</th>\n",
       "      <td>https://www.thehindu.com/news/international/lo...</td>\n",
       "      <td>Los Angeles fires: 24 dead as fire crews try t...</td>\n",
       "      <td>2025-01-13T02:46:29.000Z</td>\n",
       "      <td>AP</td>\n",
       "      <td>Firefighters scrambled on Sunday (January 12, ...</td>\n",
       "    </tr>\n",
       "    <tr>\n",
       "      <th>1</th>\n",
       "      <td>https://www.thehindu.com/news/national/prime-m...</td>\n",
       "      <td>PM inaugurates strategic Z-Morh tunnel in J&amp;K,...</td>\n",
       "      <td>2025-01-13T07:22:43.000Z</td>\n",
       "      <td>PEERZADA ASHIQ</td>\n",
       "      <td>Prime Minister Narendra Modi, who inaugurated ...</td>\n",
       "    </tr>\n",
       "    <tr>\n",
       "      <th>2</th>\n",
       "      <td>https://www.thehindu.com/lit-for-life/the-hind...</td>\n",
       "      <td>The Hindu Lit for Life | Engage with maths and...</td>\n",
       "      <td>2025-01-10T10:44:32.000Z</td>\n",
       "      <td>SANGITA RAJAN</td>\n",
       "      <td>The only true universal language is mathematic...</td>\n",
       "    </tr>\n",
       "    <tr>\n",
       "      <th>3</th>\n",
       "      <td>https://www.thehindu.com/opinion/op-ed/the-ref...</td>\n",
       "      <td>The reforms needed in the MEA\\nPremium</td>\n",
       "      <td>2025-01-12T20:16:56.000Z</td>\n",
       "      <td>RAJEEV AGARWAL</td>\n",
       "      <td>I\\nndia is on the rise, thanks to its consiste...</td>\n",
       "    </tr>\n",
       "    <tr>\n",
       "      <th>4</th>\n",
       "      <td>https://www.thehindu.com/news/national/jammu-a...</td>\n",
       "      <td>Jammu and Kashmir CM Omar Abdullah seeks resto...</td>\n",
       "      <td>2025-01-13T08:59:50.000Z</td>\n",
       "      <td>PTI</td>\n",
       "      <td>Chief Minister Omar Abdullah on Monday (Januar...</td>\n",
       "    </tr>\n",
       "    <tr>\n",
       "      <th>...</th>\n",
       "      <td>...</td>\n",
       "      <td>...</td>\n",
       "      <td>...</td>\n",
       "      <td>...</td>\n",
       "      <td>...</td>\n",
       "    </tr>\n",
       "    <tr>\n",
       "      <th>181</th>\n",
       "      <td>https://www.thehindu.com/lit-for-life/the-hind...</td>\n",
       "      <td>The Hindu Lit for Life launches mobile library</td>\n",
       "      <td>2025-01-08T06:20:29.000Z</td>\n",
       "      <td>THE HINDU BUREAU</td>\n",
       "      <td>The Hindu Lit for Life, The Hindu’s annual lit...</td>\n",
       "    </tr>\n",
       "    <tr>\n",
       "      <th>182</th>\n",
       "      <td>https://www.thehindu.com/news/national/uttar-p...</td>\n",
       "      <td>Steve Jobs’ wife Laurene Powell offers prayers...</td>\n",
       "      <td>2025-01-12T07:33:14.000Z</td>\n",
       "      <td>THE HINDU BUREAU</td>\n",
       "      <td>Laurene Powell Jobs, the wife of late Apple co...</td>\n",
       "    </tr>\n",
       "    <tr>\n",
       "      <th>183</th>\n",
       "      <td>https://www.thehindu.com/sci-tech/energy-and-e...</td>\n",
       "      <td>Is groundwater contamination high in India? | ...</td>\n",
       "      <td>2025-01-11T20:40:00.000Z</td>\n",
       "      <td>JACOB KOSHY</td>\n",
       "      <td>The story so far: An assessment of India’s gro...</td>\n",
       "    </tr>\n",
       "    <tr>\n",
       "      <th>184</th>\n",
       "      <td>https://www.thehindu.com/sci-tech/health/docto...</td>\n",
       "      <td>Doctors from 14 nations seek change in India-l...</td>\n",
       "      <td>2025-01-13T14:57:10.000Z</td>\n",
       "      <td>BINDU SHAJAN PERAPPADAN</td>\n",
       "      <td>Dermatologists from the India and 13 other cou...</td>\n",
       "    </tr>\n",
       "    <tr>\n",
       "      <th>185</th>\n",
       "      <td>https://www.thehindu.com/opinion/op-ed/transfo...</td>\n",
       "      <td>Transforming ‘men’-talities, redefining mascul...</td>\n",
       "      <td>2025-01-13T18:38:00.000Z</td>\n",
       "      <td>TIM CURTIS,RAVI VERMA</td>\n",
       "      <td>As another International Day for the Eliminati...</td>\n",
       "    </tr>\n",
       "  </tbody>\n",
       "</table>\n",
       "<p>186 rows × 5 columns</p>\n",
       "</div>"
      ],
      "text/plain": [
       "                                                   url  \\\n",
       "0    https://www.thehindu.com/news/international/lo...   \n",
       "1    https://www.thehindu.com/news/national/prime-m...   \n",
       "2    https://www.thehindu.com/lit-for-life/the-hind...   \n",
       "3    https://www.thehindu.com/opinion/op-ed/the-ref...   \n",
       "4    https://www.thehindu.com/news/national/jammu-a...   \n",
       "..                                                 ...   \n",
       "181  https://www.thehindu.com/lit-for-life/the-hind...   \n",
       "182  https://www.thehindu.com/news/national/uttar-p...   \n",
       "183  https://www.thehindu.com/sci-tech/energy-and-e...   \n",
       "184  https://www.thehindu.com/sci-tech/health/docto...   \n",
       "185  https://www.thehindu.com/opinion/op-ed/transfo...   \n",
       "\n",
       "                                                 title  \\\n",
       "0    Los Angeles fires: 24 dead as fire crews try t...   \n",
       "1    PM inaugurates strategic Z-Morh tunnel in J&K,...   \n",
       "2    The Hindu Lit for Life | Engage with maths and...   \n",
       "3               The reforms needed in the MEA\\nPremium   \n",
       "4    Jammu and Kashmir CM Omar Abdullah seeks resto...   \n",
       "..                                                 ...   \n",
       "181     The Hindu Lit for Life launches mobile library   \n",
       "182  Steve Jobs’ wife Laurene Powell offers prayers...   \n",
       "183  Is groundwater contamination high in India? | ...   \n",
       "184  Doctors from 14 nations seek change in India-l...   \n",
       "185  Transforming ‘men’-talities, redefining mascul...   \n",
       "\n",
       "                         date                   author  \\\n",
       "0    2025-01-13T02:46:29.000Z                       AP   \n",
       "1    2025-01-13T07:22:43.000Z           PEERZADA ASHIQ   \n",
       "2    2025-01-10T10:44:32.000Z            SANGITA RAJAN   \n",
       "3    2025-01-12T20:16:56.000Z           RAJEEV AGARWAL   \n",
       "4    2025-01-13T08:59:50.000Z                      PTI   \n",
       "..                        ...                      ...   \n",
       "181  2025-01-08T06:20:29.000Z         THE HINDU BUREAU   \n",
       "182  2025-01-12T07:33:14.000Z         THE HINDU BUREAU   \n",
       "183  2025-01-11T20:40:00.000Z              JACOB KOSHY   \n",
       "184  2025-01-13T14:57:10.000Z  BINDU SHAJAN PERAPPADAN   \n",
       "185  2025-01-13T18:38:00.000Z    TIM CURTIS,RAVI VERMA   \n",
       "\n",
       "                                               content  \n",
       "0    Firefighters scrambled on Sunday (January 12, ...  \n",
       "1    Prime Minister Narendra Modi, who inaugurated ...  \n",
       "2    The only true universal language is mathematic...  \n",
       "3    I\\nndia is on the rise, thanks to its consiste...  \n",
       "4    Chief Minister Omar Abdullah on Monday (Januar...  \n",
       "..                                                 ...  \n",
       "181  The Hindu Lit for Life, The Hindu’s annual lit...  \n",
       "182  Laurene Powell Jobs, the wife of late Apple co...  \n",
       "183  The story so far: An assessment of India’s gro...  \n",
       "184  Dermatologists from the India and 13 other cou...  \n",
       "185  As another International Day for the Eliminati...  \n",
       "\n",
       "[186 rows x 5 columns]"
      ]
     },
     "execution_count": 168,
     "metadata": {},
     "output_type": "execute_result"
    }
   ],
   "source": [
    "df_final"
   ]
  },
  {
   "cell_type": "code",
   "execution_count": 169,
   "id": "2d55c67b",
   "metadata": {},
   "outputs": [
    {
     "name": "stdout",
     "output_type": "stream",
     "text": [
      "<class 'pandas.core.frame.DataFrame'>\n",
      "RangeIndex: 186 entries, 0 to 185\n",
      "Data columns (total 5 columns):\n",
      " #   Column   Non-Null Count  Dtype \n",
      "---  ------   --------------  ----- \n",
      " 0   url      186 non-null    object\n",
      " 1   title    186 non-null    object\n",
      " 2   date     186 non-null    object\n",
      " 3   author   172 non-null    object\n",
      " 4   content  177 non-null    object\n",
      "dtypes: object(5)\n",
      "memory usage: 7.4+ KB\n"
     ]
    }
   ],
   "source": [
    "df_final.info()"
   ]
  },
  {
   "cell_type": "markdown",
   "id": "b85c166f",
   "metadata": {},
   "source": [
    "### removing duplicate and empty items"
   ]
  },
  {
   "cell_type": "code",
   "execution_count": 170,
   "id": "4428e8a4",
   "metadata": {},
   "outputs": [],
   "source": [
    "df_final.drop_duplicates(inplace=True)\n",
    "df_final.dropna(inplace=True)"
   ]
  },
  {
   "cell_type": "code",
   "execution_count": 171,
   "id": "c2c10966",
   "metadata": {},
   "outputs": [
    {
     "name": "stdout",
     "output_type": "stream",
     "text": [
      "<class 'pandas.core.frame.DataFrame'>\n",
      "Index: 141 entries, 0 to 185\n",
      "Data columns (total 5 columns):\n",
      " #   Column   Non-Null Count  Dtype \n",
      "---  ------   --------------  ----- \n",
      " 0   url      141 non-null    object\n",
      " 1   title    141 non-null    object\n",
      " 2   date     141 non-null    object\n",
      " 3   author   141 non-null    object\n",
      " 4   content  141 non-null    object\n",
      "dtypes: object(5)\n",
      "memory usage: 6.6+ KB\n"
     ]
    }
   ],
   "source": [
    "df_final.info()"
   ]
  },
  {
   "cell_type": "markdown",
   "id": "fa57d067",
   "metadata": {},
   "source": [
    "### exploring length of news articles"
   ]
  },
  {
   "cell_type": "code",
   "execution_count": 172,
   "id": "96c4da43",
   "metadata": {},
   "outputs": [],
   "source": [
    "df_final['wrd_len'] = df_final['content'].str.split().apply(len)"
   ]
  },
  {
   "cell_type": "code",
   "execution_count": 173,
   "id": "06647d8c",
   "metadata": {},
   "outputs": [
    {
     "name": "stdout",
     "output_type": "stream",
     "text": [
      "<class 'pandas.core.frame.DataFrame'>\n",
      "Index: 141 entries, 0 to 185\n",
      "Data columns (total 6 columns):\n",
      " #   Column   Non-Null Count  Dtype \n",
      "---  ------   --------------  ----- \n",
      " 0   url      141 non-null    object\n",
      " 1   title    141 non-null    object\n",
      " 2   date     141 non-null    object\n",
      " 3   author   141 non-null    object\n",
      " 4   content  141 non-null    object\n",
      " 5   wrd_len  141 non-null    int64 \n",
      "dtypes: int64(1), object(5)\n",
      "memory usage: 7.7+ KB\n"
     ]
    }
   ],
   "source": [
    "df_final.info()"
   ]
  },
  {
   "cell_type": "code",
   "execution_count": 174,
   "id": "830018e9",
   "metadata": {},
   "outputs": [
    {
     "name": "stdout",
     "output_type": "stream",
     "text": [
      "<class 'pandas.core.frame.DataFrame'>\n",
      "Index: 135 entries, 0 to 184\n",
      "Data columns (total 6 columns):\n",
      " #   Column   Non-Null Count  Dtype \n",
      "---  ------   --------------  ----- \n",
      " 0   url      135 non-null    object\n",
      " 1   title    135 non-null    object\n",
      " 2   date     135 non-null    object\n",
      " 3   author   135 non-null    object\n",
      " 4   content  135 non-null    object\n",
      " 5   wrd_len  135 non-null    int64 \n",
      "dtypes: int64(1), object(5)\n",
      "memory usage: 7.4+ KB\n"
     ]
    }
   ],
   "source": [
    "df_final = df_final[df_final['wrd_len'] < 750]\n",
    "df_final.info()"
   ]
  },
  {
   "cell_type": "markdown",
   "id": "b1c330cd",
   "metadata": {},
   "source": [
    "### sample 100 articles"
   ]
  },
  {
   "cell_type": "code",
   "execution_count": 175,
   "id": "f1e89401",
   "metadata": {},
   "outputs": [],
   "source": [
    "df_final = df_final.sample(frac=100/135)"
   ]
  },
  {
   "cell_type": "code",
   "execution_count": 176,
   "id": "d3f609e0",
   "metadata": {},
   "outputs": [
    {
     "name": "stdout",
     "output_type": "stream",
     "text": [
      "<class 'pandas.core.frame.DataFrame'>\n",
      "Index: 100 entries, 134 to 126\n",
      "Data columns (total 6 columns):\n",
      " #   Column   Non-Null Count  Dtype \n",
      "---  ------   --------------  ----- \n",
      " 0   url      100 non-null    object\n",
      " 1   title    100 non-null    object\n",
      " 2   date     100 non-null    object\n",
      " 3   author   100 non-null    object\n",
      " 4   content  100 non-null    object\n",
      " 5   wrd_len  100 non-null    int64 \n",
      "dtypes: int64(1), object(5)\n",
      "memory usage: 5.5+ KB\n"
     ]
    }
   ],
   "source": [
    "df_final.info()"
   ]
  },
  {
   "cell_type": "markdown",
   "id": "d0e365fe",
   "metadata": {},
   "source": [
    "### gemini api"
   ]
  },
  {
   "cell_type": "code",
   "execution_count": 177,
   "id": "da1a4463",
   "metadata": {},
   "outputs": [],
   "source": [
    "import google.generativeai as genai\n",
    "import pandas as pd\n",
    "from tqdm.notebook import tqdm\n",
    "import time\n",
    "import json\n",
    "from datetime import datetime\n",
    "import random\n",
    "from tenacity import retry, stop_after_attempt, wait_exponential"
   ]
  },
  {
   "cell_type": "code",
   "execution_count": 178,
   "id": "7e243883",
   "metadata": {},
   "outputs": [],
   "source": [
    "def setup_gemini(api_key):\n",
    "    genai.configure(api_key=api_key)\n",
    "    model = genai.GenerativeModel('gemini-pro')\n",
    "    return model"
   ]
  },
  {
   "cell_type": "code",
   "execution_count": 179,
   "id": "193f771e",
   "metadata": {},
   "outputs": [],
   "source": [
    "@retry(\n",
    "    wait=wait_exponential(multiplier=1, min=4, max=60),\n",
    "    stop=stop_after_attempt(5)\n",
    ")\n",
    "def analyze_article_with_retry(model, article_text, title):\n",
    "    prompt = f\"\"\"\n",
    "    Title: {title}\n",
    "    \n",
    "    Content: {article_text}\n",
    "    \n",
    "    Please provide the following analysis:\n",
    "    1. A concise 2-3 sentence summary focusing on key points and main message.\n",
    "    2. Classify the type of news (e.g., Politics, Technology, Business, Sports, Entertainment, etc.)\n",
    "    3. Determine if the news sentiment is positive, negative, or neutral.\n",
    "    \n",
    "    Format the response exactly as follows:\n",
    "    Summary: [your summary]\n",
    "    Type: [news type]\n",
    "    Sentiment: [positive/negative/neutral]\n",
    "    \"\"\"\n",
    "    \n",
    "    response = model.generate_content(prompt)\n",
    "    return parse_analysis_response(response.text.strip())\n",
    "\n",
    "def parse_analysis_response(response_text):\n",
    "    lines = response_text.split('\\n')\n",
    "    result = {\n",
    "        'summary': '',\n",
    "        'type': '',\n",
    "        'sentiment': ''\n",
    "    }\n",
    "    \n",
    "    for line in lines:\n",
    "        if line.startswith('Summary:'):\n",
    "            result['summary'] = line.replace('Summary:', '').strip()\n",
    "        elif line.startswith('Type:'):\n",
    "            result['type'] = line.replace('Type:', '').strip()\n",
    "        elif line.startswith('Sentiment:'):\n",
    "            result['sentiment'] = line.replace('Sentiment:', '').strip()\n",
    "    \n",
    "    return result\n",
    "\n",
    "def analyze_article(model, article_text, title):\n",
    "    try:\n",
    "        return analyze_article_with_retry(model, article_text, title)\n",
    "    except Exception as e:\n",
    "        print(f\"\\nError analyzing article '{title}': {str(e)}\")\n",
    "        return {\n",
    "            'summary': \"Error generating analysis - API quota exceeded\",\n",
    "            'type': \"Error\",\n",
    "            'sentiment': \"Error\"\n",
    "        }\n",
    "\n",
    "def analyze_articles_in_batches(df, api_key, batch_size=5):\n",
    "    model = setup_gemini(api_key)\n",
    "    \n",
    "    # Add new columns for analysis results\n",
    "    df['summary'] = ''\n",
    "    df['news_type'] = ''\n",
    "    df['sentiment'] = ''\n",
    "    \n",
    "    for start_idx in tqdm(range(0, len(df), batch_size), desc=\"Processing batches\"):\n",
    "        end_idx = min(start_idx + batch_size, len(df))\n",
    "        batch = df.iloc[start_idx:end_idx]\n",
    "        \n",
    "        print(f\"\\nProcessing batch {start_idx//batch_size + 1}\")\n",
    "        \n",
    "        # Process each article in the batch\n",
    "        for idx in batch.index:\n",
    "            title = df.loc[idx, 'title']\n",
    "            content = df.loc[idx, 'content']\n",
    "            \n",
    "            print(f\"Processing: {title[:50]}...\")\n",
    "            analysis = analyze_article(model, content, title)\n",
    "            \n",
    "            # Update all analysis fields\n",
    "            df.loc[idx, 'summary'] = analysis['summary']\n",
    "            df.loc[idx, 'news_type'] = analysis['type']\n",
    "            df.loc[idx, 'sentiment'] = analysis['sentiment']\n",
    "            \n",
    "            # Random delay between articles within batch\n",
    "            time.sleep(random.uniform(2, 4))\n",
    "        \n",
    "        if end_idx < len(df):\n",
    "            pause_time = random.uniform(10, 15)\n",
    "            print(f\"\\nPausing for {pause_time:.1f} seconds before next batch...\")\n",
    "            time.sleep(pause_time)\n",
    "        \n",
    "        # Save intermediate results\n",
    "        timestamp = datetime.now().strftime('%Y%m%d_%H%M%S')\n",
    "        intermediate_file = f'news_analysis_intermediate_{timestamp}.csv'\n",
    "        df.to_csv(intermediate_file, index=False)\n",
    "        print(f\"Intermediate results saved to {intermediate_file}\")\n",
    "    \n",
    "    # Save final results\n",
    "    final_file = f'news_analysis_final_{timestamp}.csv'\n",
    "    df.to_csv(final_file, index=False)\n",
    "    print(f\"\\nAll analysis completed and saved to {final_file}\")\n",
    "    \n",
    "    return df"
   ]
  },
  {
   "cell_type": "code",
   "execution_count": 181,
   "id": "d7d9d785",
   "metadata": {},
   "outputs": [
    {
     "data": {
      "application/vnd.jupyter.widget-view+json": {
       "model_id": "ca193307c4864a7d86ddcfadf0945d91",
       "version_major": 2,
       "version_minor": 0
      },
      "text/plain": [
       "Processing batches:   0%|          | 0/20 [00:00<?, ?it/s]"
      ]
     },
     "metadata": {},
     "output_type": "display_data"
    },
    {
     "name": "stdout",
     "output_type": "stream",
     "text": [
      "\n",
      "Processing batch 1\n",
      "Processing: Need tech-savvy force to protect India's digital i...\n",
      "Processing: Kumbhvani radio keeps pilgrims at Kumbh informed, ...\n",
      "Processing: 15 Indian fishermen detained near Diego Garcia isl...\n",
      "Processing: Uttarakhand bus accident: 6 dead, 22 injured as bu...\n",
      "Processing: Here are some activities you should attend at The ...\n",
      "\n",
      "Pausing for 12.1 seconds before next batch...\n",
      "Intermediate results saved to news_analysis_intermediate_20250114_143820.csv\n",
      "\n",
      "Processing batch 2\n",
      "Processing: Gang of seven arrested for cheating businessman of...\n",
      "Processing: The Hindu Lit for Life | Build self-worth and inne...\n",
      "Processing: What led to the Azerbaijan Airlines jet crash? | E...\n",
      "Processing: Bamboo Biryani tickles the taste buds of tourists ...\n",
      "Processing: BBMP’s new portal allows those without khata to ge...\n",
      "\n",
      "Pausing for 11.8 seconds before next batch...\n",
      "Intermediate results saved to news_analysis_intermediate_20250114_143856.csv\n",
      "\n",
      "Processing batch 3\n",
      "Processing: The Hindu Lit for Life launches mobile library...\n",
      "Processing: The Hindu Lit for Life launches mobile library...\n",
      "Processing: Doctors from 14 nations seek change in India-linke...\n",
      "Processing: CCB busts drug racket in Bengaluru...\n",
      "Processing: Strong winds forecast to return and threaten Los A...\n",
      "\n",
      "Pausing for 10.3 seconds before next batch...\n",
      "Intermediate results saved to news_analysis_intermediate_20250114_143930.csv\n",
      "\n",
      "Processing batch 4\n",
      "Processing: Accused in Bengaluru cow horror case arrested...\n",
      "Processing: Minister terms Meta CEO’s description of Indian el...\n",
      "Processing: Is groundwater contamination high in India? | Expl...\n",
      "Processing: How does BJP elect its party president?\n",
      "Premium...\n",
      "Processing: Ranbir Kapoor to kickstart ‘Dhoom 4’ next year wit...\n",
      "\n",
      "Pausing for 13.2 seconds before next batch...\n",
      "Intermediate results saved to news_analysis_intermediate_20250114_144006.csv\n",
      "\n",
      "Processing batch 5\n",
      "Processing: T.N. police disburse compensation to victims of cr...\n",
      "Processing: No difference between PM and Kejriwal, says Rahul ...\n",
      "Processing: I welcome healthy criticism, says CM Siddaramaiah ...\n",
      "Processing: Manmohan Singh: Legacy of a peacemaker\n",
      "Premium...\n",
      "Processing: The way you delayed tabling CAG reports in Assembl...\n",
      "\n",
      "Pausing for 12.6 seconds before next batch...\n",
      "Intermediate results saved to news_analysis_intermediate_20250114_144041.csv\n",
      "\n",
      "Processing batch 6\n",
      "Processing: Chennai: Two held for smuggling gutka; 440 kg of c...\n",
      "Processing: The evolution of the Maha Kumbh Mela\n",
      "Premium...\n",
      "Processing: Russia ships nuclear reactor vessel for Kudankulam...\n",
      "Processing: Telangana’s promised land record\n",
      "Premium...\n",
      "Processing: In Kerala, declining fertility levels push up mate...\n",
      "\n",
      "Pausing for 10.6 seconds before next batch...\n",
      "Intermediate results saved to news_analysis_intermediate_20250114_144116.csv\n",
      "\n",
      "Processing batch 7\n",
      "Processing: Beat the Blues with your plate: Can a fibre-rich d...\n",
      "Processing: Pugmarks finally lead to capture of male tiger in ...\n",
      "Processing: Dense fog hits operations at Delhi airport; over 1...\n",
      "Processing: UGC-NET exam on January 15 postponed...\n",
      "Processing: The making of Carnatic vocalist Sanjay Subrahmanya...\n",
      "\n",
      "Pausing for 10.7 seconds before next batch...\n",
      "Intermediate results saved to news_analysis_intermediate_20250114_144147.csv\n",
      "\n",
      "Processing batch 8\n",
      "Processing: A total of 3,000 police personnel in T.N. to recei...\n",
      "Processing: T.N. to launch programme to promote Tamil language...\n",
      "Processing: The Hindu Lit for Life | Build self-worth and inne...\n",
      "Processing: Los Angeles fires: 24 dead as fire crews try to co...\n",
      "Processing: Gandhimathi, elephant of Tirunelveli Nellaiappar T...\n",
      "\n",
      "Pausing for 13.4 seconds before next batch...\n",
      "Intermediate results saved to news_analysis_intermediate_20250114_144224.csv\n",
      "\n",
      "Processing batch 9\n",
      "Processing: Steve Jobs’ wife Laurene Powell offers prayers at ...\n",
      "Processing: Medical education in India is at a crossroads; her...\n",
      "Processing: India’s data protection rules need some fine-tunin...\n",
      "Processing: We are balancing welfare outgo with prudent fiscal...\n",
      "Processing: Jammu and Kashmir CM Omar Abdullah seeks restorati...\n",
      "\n",
      "Pausing for 14.4 seconds before next batch...\n",
      "Intermediate results saved to news_analysis_intermediate_20250114_144301.csv\n",
      "\n",
      "Processing batch 10\n",
      "Processing: The Hindu Lit for Life | Why geography matters to ...\n",
      "Processing: The price of protection: tackling inequity in cerv...\n",
      "Processing: Laxmi Hebbalkar’s car meets with accident; Ministe...\n",
      "Processing: Tamil Nadu CM Stalin’s arrogance is not good: Raj ...\n",
      "Processing: Madras HC directs T.N. govt. to take possession of...\n",
      "\n",
      "Pausing for 13.7 seconds before next batch...\n",
      "Intermediate results saved to news_analysis_intermediate_20250114_144338.csv\n",
      "\n",
      "Processing batch 11\n",
      "Processing: Oscars push back nominations announcement amid Cal...\n",
      "Processing: India’s journey so far on the AI military bandwago...\n",
      "Processing: Delhi shivers in cold wave, dense fog disrupts fli...\n",
      "Processing: The Trump card, global politics and outcomes for I...\n",
      "Processing: Resisting transparency, eroding public trust\n",
      "Premi...\n",
      "\n",
      "Pausing for 15.0 seconds before next batch...\n",
      "Intermediate results saved to news_analysis_intermediate_20250114_144416.csv\n",
      "\n",
      "Processing batch 12\n",
      "Processing: India summons Bangladesh’s Deputy High Commissione...\n",
      "Processing: The Hindu Lit for Life | Engage with maths and dat...\n",
      "Processing: Is groundwater contamination high in India? | Expl...\n",
      "Processing: Bengal govt announces new initiatives to attract p...\n",
      "Processing: 7/11 local train blasts case accused are innocent,...\n",
      "\n",
      "Pausing for 13.9 seconds before next batch...\n",
      "Intermediate results saved to news_analysis_intermediate_20250114_144454.csv\n",
      "\n",
      "Processing batch 13\n",
      "Processing: Out of the terrorists eliminated last year, 60% we...\n",
      "Processing: Why is Meta shutting down fact-checkers? | Explain...\n",
      "Processing: CPI(M) activists burn power bills in Bhogi fire in...\n",
      "Processing: Centre’s wildlife panel clears oil and gas explora...\n",
      "Processing: ‘I felt like a messenger,’ says Nirmala Lakshman, ...\n",
      "\n",
      "Pausing for 14.9 seconds before next batch...\n",
      "Intermediate results saved to news_analysis_intermediate_20250114_144533.csv\n",
      "\n",
      "Processing batch 14\n",
      "Processing: Dhanush shares first look at ‘Idli Kadai’ on Ponga...\n",
      "Processing: Pravasi Bharatiya Divas highlights: India will ful...\n",
      "Processing: Watch: Assam ranks 4th on The New York Times ‘52 P...\n",
      "Processing: Editor’s Note: Putting Muslims in their place?...\n",
      "\n",
      "Error analyzing article 'Editor’s Note: Putting Muslims in their place?': RetryError[<Future at 0x15f11c520 state=finished raised ValueError>]\n",
      "Processing: Thiruvabharanam procession begins from Pandalam...\n",
      "\n",
      "Pausing for 11.6 seconds before next batch...\n",
      "Intermediate results saved to news_analysis_intermediate_20250114_144636.csv\n",
      "\n",
      "Processing batch 15\n",
      "Processing: Jayam Ravi changes name to Ravi Mohan; announces h...\n",
      "Processing: Maha Kumbh: Akharas take ‘Amrit Snan’ on Makar San...\n",
      "Processing: Los Angeles fire evacuees told no chance of return...\n",
      "Processing: Kumbh Mela | At Prayagraj, an encounter with naga ...\n",
      "Processing: 12-year-old boy killed in road accident on his bir...\n",
      "\n",
      "Pausing for 13.1 seconds before next batch...\n",
      "Intermediate results saved to news_analysis_intermediate_20250114_144716.csv\n",
      "\n",
      "Processing batch 16\n",
      "Processing: Wildfires burn out of control across Los Angeles a...\n",
      "Processing: Three women remain critical after being given expi...\n",
      "Processing: Centre sitting on proposal to name Navi Mumbai air...\n",
      "Processing: Is India open to the idea of dual citizenship?\n",
      "Pre...\n",
      "Processing: Unified Mass: Truce in Syro-Malabar Church’s Ernak...\n",
      "\n",
      "Pausing for 10.1 seconds before next batch...\n",
      "Intermediate results saved to news_analysis_intermediate_20250114_144752.csv\n",
      "\n",
      "Processing batch 17\n",
      "Processing: The Hindu Lit for Life | David Walliams in the hou...\n",
      "Processing: On Bhogi, Chennai residents draw kolams to protest...\n",
      "Processing: The Hindu Lit for Life | Decode Mughal symbols and...\n",
      "Processing: Decoding the Draft Digital Personal Data Protectio...\n",
      "Processing: Building the dream capital\n",
      "Premium...\n",
      "\n",
      "Pausing for 13.7 seconds before next batch...\n",
      "Intermediate results saved to news_analysis_intermediate_20250114_144831.csv\n",
      "\n",
      "Processing batch 18\n",
      "Processing: Bhopal’s 40-year-old past is Pithampur’s paranoid ...\n"
     ]
    },
    {
     "name": "stdout",
     "output_type": "stream",
     "text": [
      "Processing: ‘Way you dragged your feet raises doubts’: Delhi H...\n",
      "Processing: Maha Kumbh begins in Prayagraj, 15 million pilgrim...\n",
      "Processing: Sensex, Nifty tumble amid weak global peers, forei...\n",
      "Processing: Rupee sinks to record low, settles 58 paise down a...\n",
      "\n",
      "Pausing for 11.9 seconds before next batch...\n",
      "Intermediate results saved to news_analysis_intermediate_20250114_144906.csv\n",
      "\n",
      "Processing batch 19\n",
      "Processing: Billion-pound lawsuit against Apple over App Store...\n",
      "Processing: Why is deciphering the Indus script important? | E...\n",
      "Processing: Accused in Bengaluru cow horror arrested...\n",
      "Processing: Lebanon to name a prime minister as new phase begi...\n",
      "Processing: Ajith Kumar secures third spot at Dubai 24H race d...\n",
      "\n",
      "Pausing for 13.7 seconds before next batch...\n",
      "Intermediate results saved to news_analysis_intermediate_20250114_144942.csv\n",
      "\n",
      "Processing batch 20\n",
      "Processing: Novak Djokovic, Andy Murray chat mid-match thanks ...\n",
      "Processing: National Conference mobilises local people to atte...\n",
      "Processing: Know more about the element of Carnatic music that...\n",
      "Processing: PM inaugurates strategic Z-Morh tunnel in J&K, rem...\n",
      "Processing: Chief Minister M.K. Stalin inaugurates research in...\n",
      "Intermediate results saved to news_analysis_intermediate_20250114_145004.csv\n",
      "\n",
      "All analysis completed and saved to news_analysis_final_20250114_145004.csv\n"
     ]
    }
   ],
   "source": [
    "#removing API key for security*\n",
    "api_key = \"\"\n",
    "df_with_summaries = analyze_articles_in_batches(df_final,api_key)"
   ]
  },
  {
   "cell_type": "code",
   "execution_count": 190,
   "id": "5b72c70a",
   "metadata": {},
   "outputs": [],
   "source": [
    "df_with_summaries.to_csv('final_article_scraping.csv')"
   ]
  },
  {
   "cell_type": "code",
   "execution_count": 183,
   "id": "074550d0",
   "metadata": {},
   "outputs": [],
   "source": [
    "df_with_summaries.index = range(len(df_with_summaries))"
   ]
  },
  {
   "cell_type": "code",
   "execution_count": 184,
   "id": "f932b51f",
   "metadata": {},
   "outputs": [
    {
     "data": {
      "text/html": [
       "<div>\n",
       "<style scoped>\n",
       "    .dataframe tbody tr th:only-of-type {\n",
       "        vertical-align: middle;\n",
       "    }\n",
       "\n",
       "    .dataframe tbody tr th {\n",
       "        vertical-align: top;\n",
       "    }\n",
       "\n",
       "    .dataframe thead th {\n",
       "        text-align: right;\n",
       "    }\n",
       "</style>\n",
       "<table border=\"1\" class=\"dataframe\">\n",
       "  <thead>\n",
       "    <tr style=\"text-align: right;\">\n",
       "      <th></th>\n",
       "      <th>url</th>\n",
       "      <th>title</th>\n",
       "      <th>date</th>\n",
       "      <th>author</th>\n",
       "      <th>content</th>\n",
       "      <th>wrd_len</th>\n",
       "      <th>summary</th>\n",
       "      <th>news_type</th>\n",
       "      <th>sentiment</th>\n",
       "    </tr>\n",
       "  </thead>\n",
       "  <tbody>\n",
       "    <tr>\n",
       "      <th>0</th>\n",
       "      <td>https://www.thehindu.com/news/national/need-te...</td>\n",
       "      <td>Need tech-savvy force to protect India's digit...</td>\n",
       "      <td>2025-01-13T21:45:00.000Z</td>\n",
       "      <td>PTI</td>\n",
       "      <td>Union Finance Minister Nirmala Sitharaman on M...</td>\n",
       "      <td>77</td>\n",
       "      <td>Union Finance Minister Nirmala Sitharaman stre...</td>\n",
       "      <td>Politics/Technology</td>\n",
       "      <td>Negative</td>\n",
       "    </tr>\n",
       "    <tr>\n",
       "      <th>1</th>\n",
       "      <td>https://www.thehindu.com/news/national/uttar-p...</td>\n",
       "      <td>Kumbhvani radio keeps pilgrims at Kumbh inform...</td>\n",
       "      <td>2025-01-13T15:48:36.000Z</td>\n",
       "      <td>THE HINDU BUREAU</td>\n",
       "      <td>Devotional songs interspersed with discussions...</td>\n",
       "      <td>128</td>\n",
       "      <td>Kumbhvani radio, launched for the Kumbh Mela, ...</td>\n",
       "      <td>Religion/Entertainment</td>\n",
       "      <td>Positive</td>\n",
       "    </tr>\n",
       "    <tr>\n",
       "      <th>2</th>\n",
       "      <td>https://www.thehindu.com/news/national/tamil-n...</td>\n",
       "      <td>15 Indian fishermen detained near Diego Garcia...</td>\n",
       "      <td>2025-01-13T10:03:58.000Z</td>\n",
       "      <td>THE HINDU BUREAU</td>\n",
       "      <td>As many as 15 fishermen who ventured into the ...</td>\n",
       "      <td>86</td>\n",
       "      <td>Fifteen Indian fishermen were detained near Di...</td>\n",
       "      <td>Politics</td>\n",
       "      <td>Negative</td>\n",
       "    </tr>\n",
       "    <tr>\n",
       "      <th>3</th>\n",
       "      <td>https://www.thehindu.com/news/national/uttarak...</td>\n",
       "      <td>Uttarakhand bus accident: 6 dead, 22 injured a...</td>\n",
       "      <td>2025-01-13T02:42:39.000Z</td>\n",
       "      <td>PTI</td>\n",
       "      <td>“Six people died and 22 others were injured wh...</td>\n",
       "      <td>57</td>\n",
       "      <td>A bus accident in Uttarakhand’s Pauri Garhwal ...</td>\n",
       "      <td>Local News</td>\n",
       "      <td>Negative</td>\n",
       "    </tr>\n",
       "    <tr>\n",
       "      <th>4</th>\n",
       "      <td>https://www.thehindu.com/lit-for-life/here-are...</td>\n",
       "      <td>Here are some activities you should attend at ...</td>\n",
       "      <td>2025-01-10T12:27:43.000Z</td>\n",
       "      <td>AMARJOT KAUR</td>\n",
       "      <td>The Hindu Lit for Life is presented by KIA Ind...</td>\n",
       "      <td>482</td>\n",
       "      <td>The Hindu Lit For Life festival will feature v...</td>\n",
       "      <td>Entertainment</td>\n",
       "      <td>Positive</td>\n",
       "    </tr>\n",
       "    <tr>\n",
       "      <th>...</th>\n",
       "      <td>...</td>\n",
       "      <td>...</td>\n",
       "      <td>...</td>\n",
       "      <td>...</td>\n",
       "      <td>...</td>\n",
       "      <td>...</td>\n",
       "      <td>...</td>\n",
       "      <td>...</td>\n",
       "      <td>...</td>\n",
       "    </tr>\n",
       "    <tr>\n",
       "      <th>95</th>\n",
       "      <td>https://www.thehindu.com/sport/tennis/novak-dj...</td>\n",
       "      <td>Novak Djokovic, Andy Murray chat mid-match tha...</td>\n",
       "      <td>2025-01-14T05:06:03.000Z</td>\n",
       "      <td>AP</td>\n",
       "      <td>Novak Djokovic stood with his hands on his hip...</td>\n",
       "      <td>101</td>\n",
       "      <td>During a match at the Australian Open, Andy Mu...</td>\n",
       "      <td>Sports</td>\n",
       "      <td>Positive</td>\n",
       "    </tr>\n",
       "    <tr>\n",
       "      <th>96</th>\n",
       "      <td>https://www.thehindu.com/news/national/jammu-a...</td>\n",
       "      <td>National Conference mobilises local people to ...</td>\n",
       "      <td>2025-01-13T16:25:30.000Z</td>\n",
       "      <td>PEERZADA ASHIQ</td>\n",
       "      <td>Unlike the past trend of ferrying government e...</td>\n",
       "      <td>116</td>\n",
       "      <td>Locals in Kashmir attended Prime Minister Modi...</td>\n",
       "      <td>Politics</td>\n",
       "      <td>Positive</td>\n",
       "    </tr>\n",
       "    <tr>\n",
       "      <th>97</th>\n",
       "      <td>https://www.thehindu.com/entertainment/music/k...</td>\n",
       "      <td>Know more about the element of Carnatic music ...</td>\n",
       "      <td>2025-01-13T10:17:04.000Z</td>\n",
       "      <td>S. ADITHYANARAYANAN,ARCHANA MURALI</td>\n",
       "      <td>At the Music Academy’s morning lec dem session...</td>\n",
       "      <td>62</td>\n",
       "      <td>At the Music Academy's morning lec dem session...</td>\n",
       "      <td>Entertainment</td>\n",
       "      <td>Positive</td>\n",
       "    </tr>\n",
       "    <tr>\n",
       "      <th>98</th>\n",
       "      <td>https://www.thehindu.com/news/national/prime-m...</td>\n",
       "      <td>PM inaugurates strategic Z-Morh tunnel in J&amp;K,...</td>\n",
       "      <td>2025-01-13T07:22:43.000Z</td>\n",
       "      <td>PEERZADA ASHIQ</td>\n",
       "      <td>Prime Minister Narendra Modi, who inaugurated ...</td>\n",
       "      <td>94</td>\n",
       "      <td>Prime Minister Narendra Modi opened the strate...</td>\n",
       "      <td>Politics</td>\n",
       "      <td>Neutral</td>\n",
       "    </tr>\n",
       "    <tr>\n",
       "      <th>99</th>\n",
       "      <td>https://www.thehindu.com/news/national/tamil-n...</td>\n",
       "      <td>Chief Minister M.K. Stalin inaugurates researc...</td>\n",
       "      <td>2025-01-13T15:02:53.000Z</td>\n",
       "      <td>THE HINDU BUREAU</td>\n",
       "      <td>Chief Minister M.K. Stalin on Monday virtually...</td>\n",
       "      <td>61</td>\n",
       "      <td>Chief Minister M.K. Stalin inaugurated the Adv...</td>\n",
       "      <td>Politics</td>\n",
       "      <td>Positive</td>\n",
       "    </tr>\n",
       "  </tbody>\n",
       "</table>\n",
       "<p>100 rows × 9 columns</p>\n",
       "</div>"
      ],
      "text/plain": [
       "                                                  url  \\\n",
       "0   https://www.thehindu.com/news/national/need-te...   \n",
       "1   https://www.thehindu.com/news/national/uttar-p...   \n",
       "2   https://www.thehindu.com/news/national/tamil-n...   \n",
       "3   https://www.thehindu.com/news/national/uttarak...   \n",
       "4   https://www.thehindu.com/lit-for-life/here-are...   \n",
       "..                                                ...   \n",
       "95  https://www.thehindu.com/sport/tennis/novak-dj...   \n",
       "96  https://www.thehindu.com/news/national/jammu-a...   \n",
       "97  https://www.thehindu.com/entertainment/music/k...   \n",
       "98  https://www.thehindu.com/news/national/prime-m...   \n",
       "99  https://www.thehindu.com/news/national/tamil-n...   \n",
       "\n",
       "                                                title  \\\n",
       "0   Need tech-savvy force to protect India's digit...   \n",
       "1   Kumbhvani radio keeps pilgrims at Kumbh inform...   \n",
       "2   15 Indian fishermen detained near Diego Garcia...   \n",
       "3   Uttarakhand bus accident: 6 dead, 22 injured a...   \n",
       "4   Here are some activities you should attend at ...   \n",
       "..                                                ...   \n",
       "95  Novak Djokovic, Andy Murray chat mid-match tha...   \n",
       "96  National Conference mobilises local people to ...   \n",
       "97  Know more about the element of Carnatic music ...   \n",
       "98  PM inaugurates strategic Z-Morh tunnel in J&K,...   \n",
       "99  Chief Minister M.K. Stalin inaugurates researc...   \n",
       "\n",
       "                        date                              author  \\\n",
       "0   2025-01-13T21:45:00.000Z                                 PTI   \n",
       "1   2025-01-13T15:48:36.000Z                    THE HINDU BUREAU   \n",
       "2   2025-01-13T10:03:58.000Z                    THE HINDU BUREAU   \n",
       "3   2025-01-13T02:42:39.000Z                                 PTI   \n",
       "4   2025-01-10T12:27:43.000Z                        AMARJOT KAUR   \n",
       "..                       ...                                 ...   \n",
       "95  2025-01-14T05:06:03.000Z                                  AP   \n",
       "96  2025-01-13T16:25:30.000Z                      PEERZADA ASHIQ   \n",
       "97  2025-01-13T10:17:04.000Z  S. ADITHYANARAYANAN,ARCHANA MURALI   \n",
       "98  2025-01-13T07:22:43.000Z                      PEERZADA ASHIQ   \n",
       "99  2025-01-13T15:02:53.000Z                    THE HINDU BUREAU   \n",
       "\n",
       "                                              content  wrd_len  \\\n",
       "0   Union Finance Minister Nirmala Sitharaman on M...       77   \n",
       "1   Devotional songs interspersed with discussions...      128   \n",
       "2   As many as 15 fishermen who ventured into the ...       86   \n",
       "3   “Six people died and 22 others were injured wh...       57   \n",
       "4   The Hindu Lit for Life is presented by KIA Ind...      482   \n",
       "..                                                ...      ...   \n",
       "95  Novak Djokovic stood with his hands on his hip...      101   \n",
       "96  Unlike the past trend of ferrying government e...      116   \n",
       "97  At the Music Academy’s morning lec dem session...       62   \n",
       "98  Prime Minister Narendra Modi, who inaugurated ...       94   \n",
       "99  Chief Minister M.K. Stalin on Monday virtually...       61   \n",
       "\n",
       "                                              summary               news_type  \\\n",
       "0   Union Finance Minister Nirmala Sitharaman stre...     Politics/Technology   \n",
       "1   Kumbhvani radio, launched for the Kumbh Mela, ...  Religion/Entertainment   \n",
       "2   Fifteen Indian fishermen were detained near Di...                Politics   \n",
       "3   A bus accident in Uttarakhand’s Pauri Garhwal ...              Local News   \n",
       "4   The Hindu Lit For Life festival will feature v...           Entertainment   \n",
       "..                                                ...                     ...   \n",
       "95  During a match at the Australian Open, Andy Mu...                  Sports   \n",
       "96  Locals in Kashmir attended Prime Minister Modi...                Politics   \n",
       "97  At the Music Academy's morning lec dem session...           Entertainment   \n",
       "98  Prime Minister Narendra Modi opened the strate...                Politics   \n",
       "99  Chief Minister M.K. Stalin inaugurated the Adv...                Politics   \n",
       "\n",
       "   sentiment  \n",
       "0   Negative  \n",
       "1   Positive  \n",
       "2   Negative  \n",
       "3   Negative  \n",
       "4   Positive  \n",
       "..       ...  \n",
       "95  Positive  \n",
       "96  Positive  \n",
       "97  Positive  \n",
       "98   Neutral  \n",
       "99  Positive  \n",
       "\n",
       "[100 rows x 9 columns]"
      ]
     },
     "execution_count": 184,
     "metadata": {},
     "output_type": "execute_result"
    }
   ],
   "source": [
    "df_with_summaries"
   ]
  },
  {
   "cell_type": "markdown",
   "id": "d51ed778",
   "metadata": {},
   "source": [
    "## Note : If Graphs arent visible please check attachments"
   ]
  },
  {
   "cell_type": "code",
   "execution_count": 196,
   "id": "09ededa8",
   "metadata": {},
   "outputs": [
    {
     "data": {
      "application/vnd.plotly.v1+json": {
       "config": {
        "plotlyServerURL": "https://plot.ly"
       },
       "data": [
        {
         "alignmentgroup": "True",
         "hovertemplate": "News Type=%{x}<br>Word Length=%{y}<extra></extra>",
         "legendgroup": "",
         "marker": {
          "color": "#636efa"
         },
         "name": "",
         "notched": false,
         "offsetgroup": "",
         "orientation": "v",
         "showlegend": false,
         "type": "box",
         "x": [
          "Politics/Technology",
          "Religion/Entertainment",
          "Politics",
          "Local News",
          "Entertainment",
          "Business",
          "Entertainment",
          "Politics",
          "Entertainment",
          "Politics",
          "Entertainment",
          "Entertainment",
          "Health",
          "Crime",
          "News",
          "Local News",
          "Politics",
          "Environmental Issues",
          "Politics",
          "Entertainment",
          "Politics",
          "Politics",
          "Politics",
          "Politics",
          "Politics",
          "Crime",
          "Politics",
          "Technology",
          "Politics",
          "Health",
          "Health/Science",
          "Local News",
          "Travel",
          "Education",
          "Entertainment (Arts)",
          "Politics",
          "Politics",
          "Entertainment",
          "Politics",
          "Local News",
          "Entertainment",
          "Science/Health",
          "Technology",
          "Politics",
          "Politics",
          "Entertainment",
          "Health",
          "Politics",
          "Politics",
          "Politics",
          "Entertainment",
          "Technology",
          "Weather",
          "Politics",
          "Politics",
          "Politics",
          "Entertainment",
          "Health",
          "News",
          "Politics",
          "Politics",
          "Technology",
          "Politics",
          "Environment",
          "Entertainment",
          "Entertainment",
          "Politics",
          "Travel",
          "Error",
          "Religion",
          "Entertainment",
          "Religion",
          "Local News",
          "Religion/Culture",
          "Local News",
          "",
          "Health",
          "Politics",
          "Politics",
          "Religion",
          "Entertainment",
          "Environment",
          "Art and Culture",
          "Technology",
          "Politics",
          "Politics",
          "Politics",
          "Religion/Spirituality",
          "Business",
          "Business",
          "Technology",
          "Politics",
          "Crime",
          "Politics",
          "Sports",
          "Sports",
          "Politics",
          "Entertainment",
          "Politics",
          "Politics"
         ],
         "x0": " ",
         "xaxis": "x",
         "y": [
          77,
          128,
          86,
          57,
          482,
          85,
          371,
          188,
          110,
          83,
          247,
          245,
          447,
          90,
          92,
          114,
          429,
          704,
          174,
          250,
          79,
          495,
          116,
          233,
          106,
          59,
          134,
          32,
          143,
          90,
          117,
          78,
          49,
          52,
          605,
          79,
          124,
          365,
          106,
          99,
          102,
          191,
          108,
          83,
          57,
          150,
          102,
          246,
          75,
          103,
          37,
          150,
          56,
          199,
          130,
          84,
          295,
          152,
          112,
          56,
          60,
          121,
          102,
          69,
          111,
          229,
          185,
          57,
          183,
          55,
          127,
          42,
          55,
          64,
          72,
          72,
          75,
          67,
          79,
          113,
          92,
          80,
          373,
          77,
          84,
          143,
          56,
          111,
          86,
          86,
          65,
          132,
          104,
          91,
          129,
          101,
          116,
          62,
          94,
          61
         ],
         "y0": " ",
         "yaxis": "y"
        }
       ],
       "layout": {
        "boxmode": "group",
        "font": {
         "color": "white"
        },
        "legend": {
         "tracegroupgap": 0
        },
        "paper_bgcolor": "black",
        "plot_bgcolor": "black",
        "template": {
         "data": {
          "bar": [
           {
            "error_x": {
             "color": "#2a3f5f"
            },
            "error_y": {
             "color": "#2a3f5f"
            },
            "marker": {
             "line": {
              "color": "#E5ECF6",
              "width": 0.5
             },
             "pattern": {
              "fillmode": "overlay",
              "size": 10,
              "solidity": 0.2
             }
            },
            "type": "bar"
           }
          ],
          "barpolar": [
           {
            "marker": {
             "line": {
              "color": "#E5ECF6",
              "width": 0.5
             },
             "pattern": {
              "fillmode": "overlay",
              "size": 10,
              "solidity": 0.2
             }
            },
            "type": "barpolar"
           }
          ],
          "carpet": [
           {
            "aaxis": {
             "endlinecolor": "#2a3f5f",
             "gridcolor": "white",
             "linecolor": "white",
             "minorgridcolor": "white",
             "startlinecolor": "#2a3f5f"
            },
            "baxis": {
             "endlinecolor": "#2a3f5f",
             "gridcolor": "white",
             "linecolor": "white",
             "minorgridcolor": "white",
             "startlinecolor": "#2a3f5f"
            },
            "type": "carpet"
           }
          ],
          "choropleth": [
           {
            "colorbar": {
             "outlinewidth": 0,
             "ticks": ""
            },
            "type": "choropleth"
           }
          ],
          "contour": [
           {
            "colorbar": {
             "outlinewidth": 0,
             "ticks": ""
            },
            "colorscale": [
             [
              0,
              "#0d0887"
             ],
             [
              0.1111111111111111,
              "#46039f"
             ],
             [
              0.2222222222222222,
              "#7201a8"
             ],
             [
              0.3333333333333333,
              "#9c179e"
             ],
             [
              0.4444444444444444,
              "#bd3786"
             ],
             [
              0.5555555555555556,
              "#d8576b"
             ],
             [
              0.6666666666666666,
              "#ed7953"
             ],
             [
              0.7777777777777778,
              "#fb9f3a"
             ],
             [
              0.8888888888888888,
              "#fdca26"
             ],
             [
              1,
              "#f0f921"
             ]
            ],
            "type": "contour"
           }
          ],
          "contourcarpet": [
           {
            "colorbar": {
             "outlinewidth": 0,
             "ticks": ""
            },
            "type": "contourcarpet"
           }
          ],
          "heatmap": [
           {
            "colorbar": {
             "outlinewidth": 0,
             "ticks": ""
            },
            "colorscale": [
             [
              0,
              "#0d0887"
             ],
             [
              0.1111111111111111,
              "#46039f"
             ],
             [
              0.2222222222222222,
              "#7201a8"
             ],
             [
              0.3333333333333333,
              "#9c179e"
             ],
             [
              0.4444444444444444,
              "#bd3786"
             ],
             [
              0.5555555555555556,
              "#d8576b"
             ],
             [
              0.6666666666666666,
              "#ed7953"
             ],
             [
              0.7777777777777778,
              "#fb9f3a"
             ],
             [
              0.8888888888888888,
              "#fdca26"
             ],
             [
              1,
              "#f0f921"
             ]
            ],
            "type": "heatmap"
           }
          ],
          "heatmapgl": [
           {
            "colorbar": {
             "outlinewidth": 0,
             "ticks": ""
            },
            "colorscale": [
             [
              0,
              "#0d0887"
             ],
             [
              0.1111111111111111,
              "#46039f"
             ],
             [
              0.2222222222222222,
              "#7201a8"
             ],
             [
              0.3333333333333333,
              "#9c179e"
             ],
             [
              0.4444444444444444,
              "#bd3786"
             ],
             [
              0.5555555555555556,
              "#d8576b"
             ],
             [
              0.6666666666666666,
              "#ed7953"
             ],
             [
              0.7777777777777778,
              "#fb9f3a"
             ],
             [
              0.8888888888888888,
              "#fdca26"
             ],
             [
              1,
              "#f0f921"
             ]
            ],
            "type": "heatmapgl"
           }
          ],
          "histogram": [
           {
            "marker": {
             "pattern": {
              "fillmode": "overlay",
              "size": 10,
              "solidity": 0.2
             }
            },
            "type": "histogram"
           }
          ],
          "histogram2d": [
           {
            "colorbar": {
             "outlinewidth": 0,
             "ticks": ""
            },
            "colorscale": [
             [
              0,
              "#0d0887"
             ],
             [
              0.1111111111111111,
              "#46039f"
             ],
             [
              0.2222222222222222,
              "#7201a8"
             ],
             [
              0.3333333333333333,
              "#9c179e"
             ],
             [
              0.4444444444444444,
              "#bd3786"
             ],
             [
              0.5555555555555556,
              "#d8576b"
             ],
             [
              0.6666666666666666,
              "#ed7953"
             ],
             [
              0.7777777777777778,
              "#fb9f3a"
             ],
             [
              0.8888888888888888,
              "#fdca26"
             ],
             [
              1,
              "#f0f921"
             ]
            ],
            "type": "histogram2d"
           }
          ],
          "histogram2dcontour": [
           {
            "colorbar": {
             "outlinewidth": 0,
             "ticks": ""
            },
            "colorscale": [
             [
              0,
              "#0d0887"
             ],
             [
              0.1111111111111111,
              "#46039f"
             ],
             [
              0.2222222222222222,
              "#7201a8"
             ],
             [
              0.3333333333333333,
              "#9c179e"
             ],
             [
              0.4444444444444444,
              "#bd3786"
             ],
             [
              0.5555555555555556,
              "#d8576b"
             ],
             [
              0.6666666666666666,
              "#ed7953"
             ],
             [
              0.7777777777777778,
              "#fb9f3a"
             ],
             [
              0.8888888888888888,
              "#fdca26"
             ],
             [
              1,
              "#f0f921"
             ]
            ],
            "type": "histogram2dcontour"
           }
          ],
          "mesh3d": [
           {
            "colorbar": {
             "outlinewidth": 0,
             "ticks": ""
            },
            "type": "mesh3d"
           }
          ],
          "parcoords": [
           {
            "line": {
             "colorbar": {
              "outlinewidth": 0,
              "ticks": ""
             }
            },
            "type": "parcoords"
           }
          ],
          "pie": [
           {
            "automargin": true,
            "type": "pie"
           }
          ],
          "scatter": [
           {
            "fillpattern": {
             "fillmode": "overlay",
             "size": 10,
             "solidity": 0.2
            },
            "type": "scatter"
           }
          ],
          "scatter3d": [
           {
            "line": {
             "colorbar": {
              "outlinewidth": 0,
              "ticks": ""
             }
            },
            "marker": {
             "colorbar": {
              "outlinewidth": 0,
              "ticks": ""
             }
            },
            "type": "scatter3d"
           }
          ],
          "scattercarpet": [
           {
            "marker": {
             "colorbar": {
              "outlinewidth": 0,
              "ticks": ""
             }
            },
            "type": "scattercarpet"
           }
          ],
          "scattergeo": [
           {
            "marker": {
             "colorbar": {
              "outlinewidth": 0,
              "ticks": ""
             }
            },
            "type": "scattergeo"
           }
          ],
          "scattergl": [
           {
            "marker": {
             "colorbar": {
              "outlinewidth": 0,
              "ticks": ""
             }
            },
            "type": "scattergl"
           }
          ],
          "scattermapbox": [
           {
            "marker": {
             "colorbar": {
              "outlinewidth": 0,
              "ticks": ""
             }
            },
            "type": "scattermapbox"
           }
          ],
          "scatterpolar": [
           {
            "marker": {
             "colorbar": {
              "outlinewidth": 0,
              "ticks": ""
             }
            },
            "type": "scatterpolar"
           }
          ],
          "scatterpolargl": [
           {
            "marker": {
             "colorbar": {
              "outlinewidth": 0,
              "ticks": ""
             }
            },
            "type": "scatterpolargl"
           }
          ],
          "scatterternary": [
           {
            "marker": {
             "colorbar": {
              "outlinewidth": 0,
              "ticks": ""
             }
            },
            "type": "scatterternary"
           }
          ],
          "surface": [
           {
            "colorbar": {
             "outlinewidth": 0,
             "ticks": ""
            },
            "colorscale": [
             [
              0,
              "#0d0887"
             ],
             [
              0.1111111111111111,
              "#46039f"
             ],
             [
              0.2222222222222222,
              "#7201a8"
             ],
             [
              0.3333333333333333,
              "#9c179e"
             ],
             [
              0.4444444444444444,
              "#bd3786"
             ],
             [
              0.5555555555555556,
              "#d8576b"
             ],
             [
              0.6666666666666666,
              "#ed7953"
             ],
             [
              0.7777777777777778,
              "#fb9f3a"
             ],
             [
              0.8888888888888888,
              "#fdca26"
             ],
             [
              1,
              "#f0f921"
             ]
            ],
            "type": "surface"
           }
          ],
          "table": [
           {
            "cells": {
             "fill": {
              "color": "#EBF0F8"
             },
             "line": {
              "color": "white"
             }
            },
            "header": {
             "fill": {
              "color": "#C8D4E3"
             },
             "line": {
              "color": "white"
             }
            },
            "type": "table"
           }
          ]
         },
         "layout": {
          "annotationdefaults": {
           "arrowcolor": "#2a3f5f",
           "arrowhead": 0,
           "arrowwidth": 1
          },
          "autotypenumbers": "strict",
          "coloraxis": {
           "colorbar": {
            "outlinewidth": 0,
            "ticks": ""
           }
          },
          "colorscale": {
           "diverging": [
            [
             0,
             "#8e0152"
            ],
            [
             0.1,
             "#c51b7d"
            ],
            [
             0.2,
             "#de77ae"
            ],
            [
             0.3,
             "#f1b6da"
            ],
            [
             0.4,
             "#fde0ef"
            ],
            [
             0.5,
             "#f7f7f7"
            ],
            [
             0.6,
             "#e6f5d0"
            ],
            [
             0.7,
             "#b8e186"
            ],
            [
             0.8,
             "#7fbc41"
            ],
            [
             0.9,
             "#4d9221"
            ],
            [
             1,
             "#276419"
            ]
           ],
           "sequential": [
            [
             0,
             "#0d0887"
            ],
            [
             0.1111111111111111,
             "#46039f"
            ],
            [
             0.2222222222222222,
             "#7201a8"
            ],
            [
             0.3333333333333333,
             "#9c179e"
            ],
            [
             0.4444444444444444,
             "#bd3786"
            ],
            [
             0.5555555555555556,
             "#d8576b"
            ],
            [
             0.6666666666666666,
             "#ed7953"
            ],
            [
             0.7777777777777778,
             "#fb9f3a"
            ],
            [
             0.8888888888888888,
             "#fdca26"
            ],
            [
             1,
             "#f0f921"
            ]
           ],
           "sequentialminus": [
            [
             0,
             "#0d0887"
            ],
            [
             0.1111111111111111,
             "#46039f"
            ],
            [
             0.2222222222222222,
             "#7201a8"
            ],
            [
             0.3333333333333333,
             "#9c179e"
            ],
            [
             0.4444444444444444,
             "#bd3786"
            ],
            [
             0.5555555555555556,
             "#d8576b"
            ],
            [
             0.6666666666666666,
             "#ed7953"
            ],
            [
             0.7777777777777778,
             "#fb9f3a"
            ],
            [
             0.8888888888888888,
             "#fdca26"
            ],
            [
             1,
             "#f0f921"
            ]
           ]
          },
          "colorway": [
           "#636efa",
           "#EF553B",
           "#00cc96",
           "#ab63fa",
           "#FFA15A",
           "#19d3f3",
           "#FF6692",
           "#B6E880",
           "#FF97FF",
           "#FECB52"
          ],
          "font": {
           "color": "#2a3f5f"
          },
          "geo": {
           "bgcolor": "white",
           "lakecolor": "white",
           "landcolor": "#E5ECF6",
           "showlakes": true,
           "showland": true,
           "subunitcolor": "white"
          },
          "hoverlabel": {
           "align": "left"
          },
          "hovermode": "closest",
          "mapbox": {
           "style": "light"
          },
          "paper_bgcolor": "white",
          "plot_bgcolor": "#E5ECF6",
          "polar": {
           "angularaxis": {
            "gridcolor": "white",
            "linecolor": "white",
            "ticks": ""
           },
           "bgcolor": "#E5ECF6",
           "radialaxis": {
            "gridcolor": "white",
            "linecolor": "white",
            "ticks": ""
           }
          },
          "scene": {
           "xaxis": {
            "backgroundcolor": "#E5ECF6",
            "gridcolor": "white",
            "gridwidth": 2,
            "linecolor": "white",
            "showbackground": true,
            "ticks": "",
            "zerolinecolor": "white"
           },
           "yaxis": {
            "backgroundcolor": "#E5ECF6",
            "gridcolor": "white",
            "gridwidth": 2,
            "linecolor": "white",
            "showbackground": true,
            "ticks": "",
            "zerolinecolor": "white"
           },
           "zaxis": {
            "backgroundcolor": "#E5ECF6",
            "gridcolor": "white",
            "gridwidth": 2,
            "linecolor": "white",
            "showbackground": true,
            "ticks": "",
            "zerolinecolor": "white"
           }
          },
          "shapedefaults": {
           "line": {
            "color": "#2a3f5f"
           }
          },
          "ternary": {
           "aaxis": {
            "gridcolor": "white",
            "linecolor": "white",
            "ticks": ""
           },
           "baxis": {
            "gridcolor": "white",
            "linecolor": "white",
            "ticks": ""
           },
           "bgcolor": "#E5ECF6",
           "caxis": {
            "gridcolor": "white",
            "linecolor": "white",
            "ticks": ""
           }
          },
          "title": {
           "x": 0.05
          },
          "xaxis": {
           "automargin": true,
           "gridcolor": "white",
           "linecolor": "white",
           "ticks": "",
           "title": {
            "standoff": 15
           },
           "zerolinecolor": "white",
           "zerolinewidth": 2
          },
          "yaxis": {
           "automargin": true,
           "gridcolor": "white",
           "linecolor": "white",
           "ticks": "",
           "title": {
            "standoff": 15
           },
           "zerolinecolor": "white",
           "zerolinewidth": 2
          }
         }
        },
        "title": {
         "font": {
          "color": "white"
         },
         "text": "Boxplot of Word Length per News Type"
        },
        "xaxis": {
         "anchor": "y",
         "domain": [
          0,
          1
         ],
         "title": {
          "text": "News Type"
         }
        },
        "yaxis": {
         "anchor": "x",
         "domain": [
          0,
          1
         ],
         "title": {
          "text": "Word Length"
         }
        }
       }
      },
      "text/html": [
       "<div>                            <div id=\"7022d4f1-dcca-4671-9cd1-6366fc66605e\" class=\"plotly-graph-div\" style=\"height:525px; width:100%;\"></div>            <script type=\"text/javascript\">                require([\"plotly\"], function(Plotly) {                    window.PLOTLYENV=window.PLOTLYENV || {};                                    if (document.getElementById(\"7022d4f1-dcca-4671-9cd1-6366fc66605e\")) {                    Plotly.newPlot(                        \"7022d4f1-dcca-4671-9cd1-6366fc66605e\",                        [{\"alignmentgroup\":\"True\",\"hovertemplate\":\"News Type=%{x}\\u003cbr\\u003eWord Length=%{y}\\u003cextra\\u003e\\u003c\\u002fextra\\u003e\",\"legendgroup\":\"\",\"marker\":{\"color\":\"#636efa\"},\"name\":\"\",\"notched\":false,\"offsetgroup\":\"\",\"orientation\":\"v\",\"showlegend\":false,\"x\":[\"Politics\\u002fTechnology\",\"Religion\\u002fEntertainment\",\"Politics\",\"Local News\",\"Entertainment\",\"Business\",\"Entertainment\",\"Politics\",\"Entertainment\",\"Politics\",\"Entertainment\",\"Entertainment\",\"Health\",\"Crime\",\"News\",\"Local News\",\"Politics\",\"Environmental Issues\",\"Politics\",\"Entertainment\",\"Politics\",\"Politics\",\"Politics\",\"Politics\",\"Politics\",\"Crime\",\"Politics\",\"Technology\",\"Politics\",\"Health\",\"Health\\u002fScience\",\"Local News\",\"Travel\",\"Education\",\"Entertainment (Arts)\",\"Politics\",\"Politics\",\"Entertainment\",\"Politics\",\"Local News\",\"Entertainment\",\"Science\\u002fHealth\",\"Technology\",\"Politics\",\"Politics\",\"Entertainment\",\"Health\",\"Politics\",\"Politics\",\"Politics\",\"Entertainment\",\"Technology\",\"Weather\",\"Politics\",\"Politics\",\"Politics\",\"Entertainment\",\"Health\",\"News\",\"Politics\",\"Politics\",\"Technology\",\"Politics\",\"Environment\",\"Entertainment\",\"Entertainment\",\"Politics\",\"Travel\",\"Error\",\"Religion\",\"Entertainment\",\"Religion\",\"Local News\",\"Religion\\u002fCulture\",\"Local News\",\"\",\"Health\",\"Politics\",\"Politics\",\"Religion\",\"Entertainment\",\"Environment\",\"Art and Culture\",\"Technology\",\"Politics\",\"Politics\",\"Politics\",\"Religion\\u002fSpirituality\",\"Business\",\"Business\",\"Technology\",\"Politics\",\"Crime\",\"Politics\",\"Sports\",\"Sports\",\"Politics\",\"Entertainment\",\"Politics\",\"Politics\"],\"x0\":\" \",\"xaxis\":\"x\",\"y\":[77,128,86,57,482,85,371,188,110,83,247,245,447,90,92,114,429,704,174,250,79,495,116,233,106,59,134,32,143,90,117,78,49,52,605,79,124,365,106,99,102,191,108,83,57,150,102,246,75,103,37,150,56,199,130,84,295,152,112,56,60,121,102,69,111,229,185,57,183,55,127,42,55,64,72,72,75,67,79,113,92,80,373,77,84,143,56,111,86,86,65,132,104,91,129,101,116,62,94,61],\"y0\":\" \",\"yaxis\":\"y\",\"type\":\"box\"}],                        {\"template\":{\"data\":{\"histogram2dcontour\":[{\"type\":\"histogram2dcontour\",\"colorbar\":{\"outlinewidth\":0,\"ticks\":\"\"},\"colorscale\":[[0.0,\"#0d0887\"],[0.1111111111111111,\"#46039f\"],[0.2222222222222222,\"#7201a8\"],[0.3333333333333333,\"#9c179e\"],[0.4444444444444444,\"#bd3786\"],[0.5555555555555556,\"#d8576b\"],[0.6666666666666666,\"#ed7953\"],[0.7777777777777778,\"#fb9f3a\"],[0.8888888888888888,\"#fdca26\"],[1.0,\"#f0f921\"]]}],\"choropleth\":[{\"type\":\"choropleth\",\"colorbar\":{\"outlinewidth\":0,\"ticks\":\"\"}}],\"histogram2d\":[{\"type\":\"histogram2d\",\"colorbar\":{\"outlinewidth\":0,\"ticks\":\"\"},\"colorscale\":[[0.0,\"#0d0887\"],[0.1111111111111111,\"#46039f\"],[0.2222222222222222,\"#7201a8\"],[0.3333333333333333,\"#9c179e\"],[0.4444444444444444,\"#bd3786\"],[0.5555555555555556,\"#d8576b\"],[0.6666666666666666,\"#ed7953\"],[0.7777777777777778,\"#fb9f3a\"],[0.8888888888888888,\"#fdca26\"],[1.0,\"#f0f921\"]]}],\"heatmap\":[{\"type\":\"heatmap\",\"colorbar\":{\"outlinewidth\":0,\"ticks\":\"\"},\"colorscale\":[[0.0,\"#0d0887\"],[0.1111111111111111,\"#46039f\"],[0.2222222222222222,\"#7201a8\"],[0.3333333333333333,\"#9c179e\"],[0.4444444444444444,\"#bd3786\"],[0.5555555555555556,\"#d8576b\"],[0.6666666666666666,\"#ed7953\"],[0.7777777777777778,\"#fb9f3a\"],[0.8888888888888888,\"#fdca26\"],[1.0,\"#f0f921\"]]}],\"heatmapgl\":[{\"type\":\"heatmapgl\",\"colorbar\":{\"outlinewidth\":0,\"ticks\":\"\"},\"colorscale\":[[0.0,\"#0d0887\"],[0.1111111111111111,\"#46039f\"],[0.2222222222222222,\"#7201a8\"],[0.3333333333333333,\"#9c179e\"],[0.4444444444444444,\"#bd3786\"],[0.5555555555555556,\"#d8576b\"],[0.6666666666666666,\"#ed7953\"],[0.7777777777777778,\"#fb9f3a\"],[0.8888888888888888,\"#fdca26\"],[1.0,\"#f0f921\"]]}],\"contourcarpet\":[{\"type\":\"contourcarpet\",\"colorbar\":{\"outlinewidth\":0,\"ticks\":\"\"}}],\"contour\":[{\"type\":\"contour\",\"colorbar\":{\"outlinewidth\":0,\"ticks\":\"\"},\"colorscale\":[[0.0,\"#0d0887\"],[0.1111111111111111,\"#46039f\"],[0.2222222222222222,\"#7201a8\"],[0.3333333333333333,\"#9c179e\"],[0.4444444444444444,\"#bd3786\"],[0.5555555555555556,\"#d8576b\"],[0.6666666666666666,\"#ed7953\"],[0.7777777777777778,\"#fb9f3a\"],[0.8888888888888888,\"#fdca26\"],[1.0,\"#f0f921\"]]}],\"surface\":[{\"type\":\"surface\",\"colorbar\":{\"outlinewidth\":0,\"ticks\":\"\"},\"colorscale\":[[0.0,\"#0d0887\"],[0.1111111111111111,\"#46039f\"],[0.2222222222222222,\"#7201a8\"],[0.3333333333333333,\"#9c179e\"],[0.4444444444444444,\"#bd3786\"],[0.5555555555555556,\"#d8576b\"],[0.6666666666666666,\"#ed7953\"],[0.7777777777777778,\"#fb9f3a\"],[0.8888888888888888,\"#fdca26\"],[1.0,\"#f0f921\"]]}],\"mesh3d\":[{\"type\":\"mesh3d\",\"colorbar\":{\"outlinewidth\":0,\"ticks\":\"\"}}],\"scatter\":[{\"fillpattern\":{\"fillmode\":\"overlay\",\"size\":10,\"solidity\":0.2},\"type\":\"scatter\"}],\"parcoords\":[{\"type\":\"parcoords\",\"line\":{\"colorbar\":{\"outlinewidth\":0,\"ticks\":\"\"}}}],\"scatterpolargl\":[{\"type\":\"scatterpolargl\",\"marker\":{\"colorbar\":{\"outlinewidth\":0,\"ticks\":\"\"}}}],\"bar\":[{\"error_x\":{\"color\":\"#2a3f5f\"},\"error_y\":{\"color\":\"#2a3f5f\"},\"marker\":{\"line\":{\"color\":\"#E5ECF6\",\"width\":0.5},\"pattern\":{\"fillmode\":\"overlay\",\"size\":10,\"solidity\":0.2}},\"type\":\"bar\"}],\"scattergeo\":[{\"type\":\"scattergeo\",\"marker\":{\"colorbar\":{\"outlinewidth\":0,\"ticks\":\"\"}}}],\"scatterpolar\":[{\"type\":\"scatterpolar\",\"marker\":{\"colorbar\":{\"outlinewidth\":0,\"ticks\":\"\"}}}],\"histogram\":[{\"marker\":{\"pattern\":{\"fillmode\":\"overlay\",\"size\":10,\"solidity\":0.2}},\"type\":\"histogram\"}],\"scattergl\":[{\"type\":\"scattergl\",\"marker\":{\"colorbar\":{\"outlinewidth\":0,\"ticks\":\"\"}}}],\"scatter3d\":[{\"type\":\"scatter3d\",\"line\":{\"colorbar\":{\"outlinewidth\":0,\"ticks\":\"\"}},\"marker\":{\"colorbar\":{\"outlinewidth\":0,\"ticks\":\"\"}}}],\"scattermapbox\":[{\"type\":\"scattermapbox\",\"marker\":{\"colorbar\":{\"outlinewidth\":0,\"ticks\":\"\"}}}],\"scatterternary\":[{\"type\":\"scatterternary\",\"marker\":{\"colorbar\":{\"outlinewidth\":0,\"ticks\":\"\"}}}],\"scattercarpet\":[{\"type\":\"scattercarpet\",\"marker\":{\"colorbar\":{\"outlinewidth\":0,\"ticks\":\"\"}}}],\"carpet\":[{\"aaxis\":{\"endlinecolor\":\"#2a3f5f\",\"gridcolor\":\"white\",\"linecolor\":\"white\",\"minorgridcolor\":\"white\",\"startlinecolor\":\"#2a3f5f\"},\"baxis\":{\"endlinecolor\":\"#2a3f5f\",\"gridcolor\":\"white\",\"linecolor\":\"white\",\"minorgridcolor\":\"white\",\"startlinecolor\":\"#2a3f5f\"},\"type\":\"carpet\"}],\"table\":[{\"cells\":{\"fill\":{\"color\":\"#EBF0F8\"},\"line\":{\"color\":\"white\"}},\"header\":{\"fill\":{\"color\":\"#C8D4E3\"},\"line\":{\"color\":\"white\"}},\"type\":\"table\"}],\"barpolar\":[{\"marker\":{\"line\":{\"color\":\"#E5ECF6\",\"width\":0.5},\"pattern\":{\"fillmode\":\"overlay\",\"size\":10,\"solidity\":0.2}},\"type\":\"barpolar\"}],\"pie\":[{\"automargin\":true,\"type\":\"pie\"}]},\"layout\":{\"autotypenumbers\":\"strict\",\"colorway\":[\"#636efa\",\"#EF553B\",\"#00cc96\",\"#ab63fa\",\"#FFA15A\",\"#19d3f3\",\"#FF6692\",\"#B6E880\",\"#FF97FF\",\"#FECB52\"],\"font\":{\"color\":\"#2a3f5f\"},\"hovermode\":\"closest\",\"hoverlabel\":{\"align\":\"left\"},\"paper_bgcolor\":\"white\",\"plot_bgcolor\":\"#E5ECF6\",\"polar\":{\"bgcolor\":\"#E5ECF6\",\"angularaxis\":{\"gridcolor\":\"white\",\"linecolor\":\"white\",\"ticks\":\"\"},\"radialaxis\":{\"gridcolor\":\"white\",\"linecolor\":\"white\",\"ticks\":\"\"}},\"ternary\":{\"bgcolor\":\"#E5ECF6\",\"aaxis\":{\"gridcolor\":\"white\",\"linecolor\":\"white\",\"ticks\":\"\"},\"baxis\":{\"gridcolor\":\"white\",\"linecolor\":\"white\",\"ticks\":\"\"},\"caxis\":{\"gridcolor\":\"white\",\"linecolor\":\"white\",\"ticks\":\"\"}},\"coloraxis\":{\"colorbar\":{\"outlinewidth\":0,\"ticks\":\"\"}},\"colorscale\":{\"sequential\":[[0.0,\"#0d0887\"],[0.1111111111111111,\"#46039f\"],[0.2222222222222222,\"#7201a8\"],[0.3333333333333333,\"#9c179e\"],[0.4444444444444444,\"#bd3786\"],[0.5555555555555556,\"#d8576b\"],[0.6666666666666666,\"#ed7953\"],[0.7777777777777778,\"#fb9f3a\"],[0.8888888888888888,\"#fdca26\"],[1.0,\"#f0f921\"]],\"sequentialminus\":[[0.0,\"#0d0887\"],[0.1111111111111111,\"#46039f\"],[0.2222222222222222,\"#7201a8\"],[0.3333333333333333,\"#9c179e\"],[0.4444444444444444,\"#bd3786\"],[0.5555555555555556,\"#d8576b\"],[0.6666666666666666,\"#ed7953\"],[0.7777777777777778,\"#fb9f3a\"],[0.8888888888888888,\"#fdca26\"],[1.0,\"#f0f921\"]],\"diverging\":[[0,\"#8e0152\"],[0.1,\"#c51b7d\"],[0.2,\"#de77ae\"],[0.3,\"#f1b6da\"],[0.4,\"#fde0ef\"],[0.5,\"#f7f7f7\"],[0.6,\"#e6f5d0\"],[0.7,\"#b8e186\"],[0.8,\"#7fbc41\"],[0.9,\"#4d9221\"],[1,\"#276419\"]]},\"xaxis\":{\"gridcolor\":\"white\",\"linecolor\":\"white\",\"ticks\":\"\",\"title\":{\"standoff\":15},\"zerolinecolor\":\"white\",\"automargin\":true,\"zerolinewidth\":2},\"yaxis\":{\"gridcolor\":\"white\",\"linecolor\":\"white\",\"ticks\":\"\",\"title\":{\"standoff\":15},\"zerolinecolor\":\"white\",\"automargin\":true,\"zerolinewidth\":2},\"scene\":{\"xaxis\":{\"backgroundcolor\":\"#E5ECF6\",\"gridcolor\":\"white\",\"linecolor\":\"white\",\"showbackground\":true,\"ticks\":\"\",\"zerolinecolor\":\"white\",\"gridwidth\":2},\"yaxis\":{\"backgroundcolor\":\"#E5ECF6\",\"gridcolor\":\"white\",\"linecolor\":\"white\",\"showbackground\":true,\"ticks\":\"\",\"zerolinecolor\":\"white\",\"gridwidth\":2},\"zaxis\":{\"backgroundcolor\":\"#E5ECF6\",\"gridcolor\":\"white\",\"linecolor\":\"white\",\"showbackground\":true,\"ticks\":\"\",\"zerolinecolor\":\"white\",\"gridwidth\":2}},\"shapedefaults\":{\"line\":{\"color\":\"#2a3f5f\"}},\"annotationdefaults\":{\"arrowcolor\":\"#2a3f5f\",\"arrowhead\":0,\"arrowwidth\":1},\"geo\":{\"bgcolor\":\"white\",\"landcolor\":\"#E5ECF6\",\"subunitcolor\":\"white\",\"showland\":true,\"showlakes\":true,\"lakecolor\":\"white\"},\"title\":{\"x\":0.05},\"mapbox\":{\"style\":\"light\"}}},\"xaxis\":{\"anchor\":\"y\",\"domain\":[0.0,1.0],\"title\":{\"text\":\"News Type\"}},\"yaxis\":{\"anchor\":\"x\",\"domain\":[0.0,1.0],\"title\":{\"text\":\"Word Length\"}},\"legend\":{\"tracegroupgap\":0},\"title\":{\"text\":\"Boxplot of Word Length per News Type\",\"font\":{\"color\":\"white\"}},\"boxmode\":\"group\",\"font\":{\"color\":\"white\"},\"plot_bgcolor\":\"black\",\"paper_bgcolor\":\"black\"},                        {\"responsive\": true}                    ).then(function(){\n",
       "                            \n",
       "var gd = document.getElementById('7022d4f1-dcca-4671-9cd1-6366fc66605e');\n",
       "var x = new MutationObserver(function (mutations, observer) {{\n",
       "        var display = window.getComputedStyle(gd).display;\n",
       "        if (!display || display === 'none') {{\n",
       "            console.log([gd, 'removed!']);\n",
       "            Plotly.purge(gd);\n",
       "            observer.disconnect();\n",
       "        }}\n",
       "}});\n",
       "\n",
       "// Listen for the removal of the full notebook cells\n",
       "var notebookContainer = gd.closest('#notebook-container');\n",
       "if (notebookContainer) {{\n",
       "    x.observe(notebookContainer, {childList: true});\n",
       "}}\n",
       "\n",
       "// Listen for the clearing of the current output cell\n",
       "var outputEl = gd.closest('.output');\n",
       "if (outputEl) {{\n",
       "    x.observe(outputEl, {childList: true});\n",
       "}}\n",
       "\n",
       "                        })                };                });            </script>        </div>"
      ]
     },
     "metadata": {},
     "output_type": "display_data"
    }
   ],
   "source": [
    "#wrd_len per news type\n",
    "import plotly.express as px\n",
    "fig = px.box(df_with_summaries, x='news_type', y='wrd_len', title='Boxplot of Word Length per News Type', labels={'wrd_len': 'Word Length', 'news_type': 'News Type'})\n",
    "fig.update_layout(\n",
    "    plot_bgcolor='black',\n",
    "    paper_bgcolor='black',  \n",
    "    font=dict(color='white'),\n",
    "    title=dict(font=dict(color='white')))\n",
    "\n",
    "fig.show()"
   ]
  },
  {
   "cell_type": "code",
   "execution_count": 203,
   "id": "bb4888ed",
   "metadata": {},
   "outputs": [],
   "source": [
    "fig.write_html(\"news_type_countplot.html\")"
   ]
  },
  {
   "cell_type": "code",
   "execution_count": 194,
   "id": "11b742e7",
   "metadata": {},
   "outputs": [
    {
     "data": {
      "application/vnd.plotly.v1+json": {
       "config": {
        "plotlyServerURL": "https://plot.ly"
       },
       "data": [
        {
         "alignmentgroup": "True",
         "hovertemplate": "sentiment=%{x}<br>Word Length=%{y}<extra></extra>",
         "legendgroup": "",
         "marker": {
          "color": "#636efa"
         },
         "name": "",
         "notched": false,
         "offsetgroup": "",
         "orientation": "v",
         "showlegend": false,
         "type": "box",
         "x": [
          "Negative",
          "Positive",
          "Negative",
          "Negative",
          "Positive",
          "Negative",
          "Positive",
          "Negative",
          "Positive",
          "Positive",
          "Positive",
          "Positive",
          "Negative",
          "Negative",
          "Negative",
          "Negative",
          "Negative",
          "Neutral",
          "Neutral",
          "Positive",
          "Positive",
          "Negative",
          "Neutral",
          "Positive",
          "Negative",
          "Negative",
          "Positive",
          "Positive",
          "Negative",
          "Negative",
          "Positive",
          "Positive",
          "Negative",
          "Neutral",
          "Positive",
          "Positive",
          "Positive",
          "Positive",
          "Negative",
          "Negative",
          "Neutral",
          "Negative",
          "Positive",
          "Neutral",
          "Neutral",
          "Positive",
          "Negative",
          "Neutral",
          "Negative",
          "Positive",
          "Neutral",
          "Positive",
          "Neutral",
          "Neutral",
          "Negative",
          "Negative",
          "Positive",
          "Negative",
          "Positive",
          "Negative",
          "Neutral",
          "Negative",
          "Negative",
          "Negative",
          "Positive",
          "Positive",
          "Positive",
          "Positive",
          "Neutral",
          "Positive",
          "Positive",
          "Positive",
          "Negative",
          "Positive",
          "Negative",
          "Neutral",
          "Negative",
          "Negative",
          "Neutral",
          "Neutral",
          "Positive",
          "Neutral",
          "Positive",
          "Positive",
          "Positive",
          "Negative",
          "Negative",
          "Positive",
          "Negative",
          "Negative",
          "Negative",
          "Positive",
          "Negative",
          "Neutral",
          "Positive",
          "Positive",
          "Positive",
          "Positive",
          "Neutral",
          "Positive"
         ],
         "x0": " ",
         "xaxis": "x",
         "y": [
          77,
          128,
          86,
          57,
          482,
          85,
          371,
          188,
          110,
          83,
          247,
          245,
          447,
          90,
          92,
          114,
          429,
          704,
          174,
          250,
          79,
          495,
          116,
          233,
          106,
          59,
          134,
          32,
          143,
          90,
          117,
          78,
          49,
          52,
          605,
          79,
          124,
          365,
          106,
          99,
          102,
          191,
          108,
          83,
          57,
          150,
          102,
          246,
          75,
          103,
          37,
          150,
          56,
          199,
          130,
          84,
          295,
          152,
          112,
          56,
          60,
          121,
          102,
          69,
          111,
          229,
          185,
          57,
          183,
          55,
          127,
          42,
          55,
          64,
          72,
          72,
          75,
          67,
          79,
          113,
          92,
          80,
          373,
          77,
          84,
          143,
          56,
          111,
          86,
          86,
          65,
          132,
          104,
          91,
          129,
          101,
          116,
          62,
          94,
          61
         ],
         "y0": " ",
         "yaxis": "y"
        }
       ],
       "layout": {
        "boxmode": "group",
        "font": {
         "color": "white"
        },
        "legend": {
         "tracegroupgap": 0
        },
        "paper_bgcolor": "black",
        "plot_bgcolor": "black",
        "template": {
         "data": {
          "bar": [
           {
            "error_x": {
             "color": "#2a3f5f"
            },
            "error_y": {
             "color": "#2a3f5f"
            },
            "marker": {
             "line": {
              "color": "#E5ECF6",
              "width": 0.5
             },
             "pattern": {
              "fillmode": "overlay",
              "size": 10,
              "solidity": 0.2
             }
            },
            "type": "bar"
           }
          ],
          "barpolar": [
           {
            "marker": {
             "line": {
              "color": "#E5ECF6",
              "width": 0.5
             },
             "pattern": {
              "fillmode": "overlay",
              "size": 10,
              "solidity": 0.2
             }
            },
            "type": "barpolar"
           }
          ],
          "carpet": [
           {
            "aaxis": {
             "endlinecolor": "#2a3f5f",
             "gridcolor": "white",
             "linecolor": "white",
             "minorgridcolor": "white",
             "startlinecolor": "#2a3f5f"
            },
            "baxis": {
             "endlinecolor": "#2a3f5f",
             "gridcolor": "white",
             "linecolor": "white",
             "minorgridcolor": "white",
             "startlinecolor": "#2a3f5f"
            },
            "type": "carpet"
           }
          ],
          "choropleth": [
           {
            "colorbar": {
             "outlinewidth": 0,
             "ticks": ""
            },
            "type": "choropleth"
           }
          ],
          "contour": [
           {
            "colorbar": {
             "outlinewidth": 0,
             "ticks": ""
            },
            "colorscale": [
             [
              0,
              "#0d0887"
             ],
             [
              0.1111111111111111,
              "#46039f"
             ],
             [
              0.2222222222222222,
              "#7201a8"
             ],
             [
              0.3333333333333333,
              "#9c179e"
             ],
             [
              0.4444444444444444,
              "#bd3786"
             ],
             [
              0.5555555555555556,
              "#d8576b"
             ],
             [
              0.6666666666666666,
              "#ed7953"
             ],
             [
              0.7777777777777778,
              "#fb9f3a"
             ],
             [
              0.8888888888888888,
              "#fdca26"
             ],
             [
              1,
              "#f0f921"
             ]
            ],
            "type": "contour"
           }
          ],
          "contourcarpet": [
           {
            "colorbar": {
             "outlinewidth": 0,
             "ticks": ""
            },
            "type": "contourcarpet"
           }
          ],
          "heatmap": [
           {
            "colorbar": {
             "outlinewidth": 0,
             "ticks": ""
            },
            "colorscale": [
             [
              0,
              "#0d0887"
             ],
             [
              0.1111111111111111,
              "#46039f"
             ],
             [
              0.2222222222222222,
              "#7201a8"
             ],
             [
              0.3333333333333333,
              "#9c179e"
             ],
             [
              0.4444444444444444,
              "#bd3786"
             ],
             [
              0.5555555555555556,
              "#d8576b"
             ],
             [
              0.6666666666666666,
              "#ed7953"
             ],
             [
              0.7777777777777778,
              "#fb9f3a"
             ],
             [
              0.8888888888888888,
              "#fdca26"
             ],
             [
              1,
              "#f0f921"
             ]
            ],
            "type": "heatmap"
           }
          ],
          "heatmapgl": [
           {
            "colorbar": {
             "outlinewidth": 0,
             "ticks": ""
            },
            "colorscale": [
             [
              0,
              "#0d0887"
             ],
             [
              0.1111111111111111,
              "#46039f"
             ],
             [
              0.2222222222222222,
              "#7201a8"
             ],
             [
              0.3333333333333333,
              "#9c179e"
             ],
             [
              0.4444444444444444,
              "#bd3786"
             ],
             [
              0.5555555555555556,
              "#d8576b"
             ],
             [
              0.6666666666666666,
              "#ed7953"
             ],
             [
              0.7777777777777778,
              "#fb9f3a"
             ],
             [
              0.8888888888888888,
              "#fdca26"
             ],
             [
              1,
              "#f0f921"
             ]
            ],
            "type": "heatmapgl"
           }
          ],
          "histogram": [
           {
            "marker": {
             "pattern": {
              "fillmode": "overlay",
              "size": 10,
              "solidity": 0.2
             }
            },
            "type": "histogram"
           }
          ],
          "histogram2d": [
           {
            "colorbar": {
             "outlinewidth": 0,
             "ticks": ""
            },
            "colorscale": [
             [
              0,
              "#0d0887"
             ],
             [
              0.1111111111111111,
              "#46039f"
             ],
             [
              0.2222222222222222,
              "#7201a8"
             ],
             [
              0.3333333333333333,
              "#9c179e"
             ],
             [
              0.4444444444444444,
              "#bd3786"
             ],
             [
              0.5555555555555556,
              "#d8576b"
             ],
             [
              0.6666666666666666,
              "#ed7953"
             ],
             [
              0.7777777777777778,
              "#fb9f3a"
             ],
             [
              0.8888888888888888,
              "#fdca26"
             ],
             [
              1,
              "#f0f921"
             ]
            ],
            "type": "histogram2d"
           }
          ],
          "histogram2dcontour": [
           {
            "colorbar": {
             "outlinewidth": 0,
             "ticks": ""
            },
            "colorscale": [
             [
              0,
              "#0d0887"
             ],
             [
              0.1111111111111111,
              "#46039f"
             ],
             [
              0.2222222222222222,
              "#7201a8"
             ],
             [
              0.3333333333333333,
              "#9c179e"
             ],
             [
              0.4444444444444444,
              "#bd3786"
             ],
             [
              0.5555555555555556,
              "#d8576b"
             ],
             [
              0.6666666666666666,
              "#ed7953"
             ],
             [
              0.7777777777777778,
              "#fb9f3a"
             ],
             [
              0.8888888888888888,
              "#fdca26"
             ],
             [
              1,
              "#f0f921"
             ]
            ],
            "type": "histogram2dcontour"
           }
          ],
          "mesh3d": [
           {
            "colorbar": {
             "outlinewidth": 0,
             "ticks": ""
            },
            "type": "mesh3d"
           }
          ],
          "parcoords": [
           {
            "line": {
             "colorbar": {
              "outlinewidth": 0,
              "ticks": ""
             }
            },
            "type": "parcoords"
           }
          ],
          "pie": [
           {
            "automargin": true,
            "type": "pie"
           }
          ],
          "scatter": [
           {
            "fillpattern": {
             "fillmode": "overlay",
             "size": 10,
             "solidity": 0.2
            },
            "type": "scatter"
           }
          ],
          "scatter3d": [
           {
            "line": {
             "colorbar": {
              "outlinewidth": 0,
              "ticks": ""
             }
            },
            "marker": {
             "colorbar": {
              "outlinewidth": 0,
              "ticks": ""
             }
            },
            "type": "scatter3d"
           }
          ],
          "scattercarpet": [
           {
            "marker": {
             "colorbar": {
              "outlinewidth": 0,
              "ticks": ""
             }
            },
            "type": "scattercarpet"
           }
          ],
          "scattergeo": [
           {
            "marker": {
             "colorbar": {
              "outlinewidth": 0,
              "ticks": ""
             }
            },
            "type": "scattergeo"
           }
          ],
          "scattergl": [
           {
            "marker": {
             "colorbar": {
              "outlinewidth": 0,
              "ticks": ""
             }
            },
            "type": "scattergl"
           }
          ],
          "scattermapbox": [
           {
            "marker": {
             "colorbar": {
              "outlinewidth": 0,
              "ticks": ""
             }
            },
            "type": "scattermapbox"
           }
          ],
          "scatterpolar": [
           {
            "marker": {
             "colorbar": {
              "outlinewidth": 0,
              "ticks": ""
             }
            },
            "type": "scatterpolar"
           }
          ],
          "scatterpolargl": [
           {
            "marker": {
             "colorbar": {
              "outlinewidth": 0,
              "ticks": ""
             }
            },
            "type": "scatterpolargl"
           }
          ],
          "scatterternary": [
           {
            "marker": {
             "colorbar": {
              "outlinewidth": 0,
              "ticks": ""
             }
            },
            "type": "scatterternary"
           }
          ],
          "surface": [
           {
            "colorbar": {
             "outlinewidth": 0,
             "ticks": ""
            },
            "colorscale": [
             [
              0,
              "#0d0887"
             ],
             [
              0.1111111111111111,
              "#46039f"
             ],
             [
              0.2222222222222222,
              "#7201a8"
             ],
             [
              0.3333333333333333,
              "#9c179e"
             ],
             [
              0.4444444444444444,
              "#bd3786"
             ],
             [
              0.5555555555555556,
              "#d8576b"
             ],
             [
              0.6666666666666666,
              "#ed7953"
             ],
             [
              0.7777777777777778,
              "#fb9f3a"
             ],
             [
              0.8888888888888888,
              "#fdca26"
             ],
             [
              1,
              "#f0f921"
             ]
            ],
            "type": "surface"
           }
          ],
          "table": [
           {
            "cells": {
             "fill": {
              "color": "#EBF0F8"
             },
             "line": {
              "color": "white"
             }
            },
            "header": {
             "fill": {
              "color": "#C8D4E3"
             },
             "line": {
              "color": "white"
             }
            },
            "type": "table"
           }
          ]
         },
         "layout": {
          "annotationdefaults": {
           "arrowcolor": "#2a3f5f",
           "arrowhead": 0,
           "arrowwidth": 1
          },
          "autotypenumbers": "strict",
          "coloraxis": {
           "colorbar": {
            "outlinewidth": 0,
            "ticks": ""
           }
          },
          "colorscale": {
           "diverging": [
            [
             0,
             "#8e0152"
            ],
            [
             0.1,
             "#c51b7d"
            ],
            [
             0.2,
             "#de77ae"
            ],
            [
             0.3,
             "#f1b6da"
            ],
            [
             0.4,
             "#fde0ef"
            ],
            [
             0.5,
             "#f7f7f7"
            ],
            [
             0.6,
             "#e6f5d0"
            ],
            [
             0.7,
             "#b8e186"
            ],
            [
             0.8,
             "#7fbc41"
            ],
            [
             0.9,
             "#4d9221"
            ],
            [
             1,
             "#276419"
            ]
           ],
           "sequential": [
            [
             0,
             "#0d0887"
            ],
            [
             0.1111111111111111,
             "#46039f"
            ],
            [
             0.2222222222222222,
             "#7201a8"
            ],
            [
             0.3333333333333333,
             "#9c179e"
            ],
            [
             0.4444444444444444,
             "#bd3786"
            ],
            [
             0.5555555555555556,
             "#d8576b"
            ],
            [
             0.6666666666666666,
             "#ed7953"
            ],
            [
             0.7777777777777778,
             "#fb9f3a"
            ],
            [
             0.8888888888888888,
             "#fdca26"
            ],
            [
             1,
             "#f0f921"
            ]
           ],
           "sequentialminus": [
            [
             0,
             "#0d0887"
            ],
            [
             0.1111111111111111,
             "#46039f"
            ],
            [
             0.2222222222222222,
             "#7201a8"
            ],
            [
             0.3333333333333333,
             "#9c179e"
            ],
            [
             0.4444444444444444,
             "#bd3786"
            ],
            [
             0.5555555555555556,
             "#d8576b"
            ],
            [
             0.6666666666666666,
             "#ed7953"
            ],
            [
             0.7777777777777778,
             "#fb9f3a"
            ],
            [
             0.8888888888888888,
             "#fdca26"
            ],
            [
             1,
             "#f0f921"
            ]
           ]
          },
          "colorway": [
           "#636efa",
           "#EF553B",
           "#00cc96",
           "#ab63fa",
           "#FFA15A",
           "#19d3f3",
           "#FF6692",
           "#B6E880",
           "#FF97FF",
           "#FECB52"
          ],
          "font": {
           "color": "#2a3f5f"
          },
          "geo": {
           "bgcolor": "white",
           "lakecolor": "white",
           "landcolor": "#E5ECF6",
           "showlakes": true,
           "showland": true,
           "subunitcolor": "white"
          },
          "hoverlabel": {
           "align": "left"
          },
          "hovermode": "closest",
          "mapbox": {
           "style": "light"
          },
          "paper_bgcolor": "white",
          "plot_bgcolor": "#E5ECF6",
          "polar": {
           "angularaxis": {
            "gridcolor": "white",
            "linecolor": "white",
            "ticks": ""
           },
           "bgcolor": "#E5ECF6",
           "radialaxis": {
            "gridcolor": "white",
            "linecolor": "white",
            "ticks": ""
           }
          },
          "scene": {
           "xaxis": {
            "backgroundcolor": "#E5ECF6",
            "gridcolor": "white",
            "gridwidth": 2,
            "linecolor": "white",
            "showbackground": true,
            "ticks": "",
            "zerolinecolor": "white"
           },
           "yaxis": {
            "backgroundcolor": "#E5ECF6",
            "gridcolor": "white",
            "gridwidth": 2,
            "linecolor": "white",
            "showbackground": true,
            "ticks": "",
            "zerolinecolor": "white"
           },
           "zaxis": {
            "backgroundcolor": "#E5ECF6",
            "gridcolor": "white",
            "gridwidth": 2,
            "linecolor": "white",
            "showbackground": true,
            "ticks": "",
            "zerolinecolor": "white"
           }
          },
          "shapedefaults": {
           "line": {
            "color": "#2a3f5f"
           }
          },
          "ternary": {
           "aaxis": {
            "gridcolor": "white",
            "linecolor": "white",
            "ticks": ""
           },
           "baxis": {
            "gridcolor": "white",
            "linecolor": "white",
            "ticks": ""
           },
           "bgcolor": "#E5ECF6",
           "caxis": {
            "gridcolor": "white",
            "linecolor": "white",
            "ticks": ""
           }
          },
          "title": {
           "x": 0.05
          },
          "xaxis": {
           "automargin": true,
           "gridcolor": "white",
           "linecolor": "white",
           "ticks": "",
           "title": {
            "standoff": 15
           },
           "zerolinecolor": "white",
           "zerolinewidth": 2
          },
          "yaxis": {
           "automargin": true,
           "gridcolor": "white",
           "linecolor": "white",
           "ticks": "",
           "title": {
            "standoff": 15
           },
           "zerolinecolor": "white",
           "zerolinewidth": 2
          }
         }
        },
        "title": {
         "font": {
          "color": "white"
         },
         "text": "Boxplot of Word Length per Setiment"
        },
        "xaxis": {
         "anchor": "y",
         "domain": [
          0,
          1
         ],
         "title": {
          "text": "sentiment"
         }
        },
        "yaxis": {
         "anchor": "x",
         "domain": [
          0,
          1
         ],
         "title": {
          "text": "Word Length"
         }
        }
       }
      },
      "text/html": [
       "<div>                            <div id=\"faa08766-39a4-4699-bf6a-413973374209\" class=\"plotly-graph-div\" style=\"height:525px; width:100%;\"></div>            <script type=\"text/javascript\">                require([\"plotly\"], function(Plotly) {                    window.PLOTLYENV=window.PLOTLYENV || {};                                    if (document.getElementById(\"faa08766-39a4-4699-bf6a-413973374209\")) {                    Plotly.newPlot(                        \"faa08766-39a4-4699-bf6a-413973374209\",                        [{\"alignmentgroup\":\"True\",\"hovertemplate\":\"sentiment=%{x}\\u003cbr\\u003eWord Length=%{y}\\u003cextra\\u003e\\u003c\\u002fextra\\u003e\",\"legendgroup\":\"\",\"marker\":{\"color\":\"#636efa\"},\"name\":\"\",\"notched\":false,\"offsetgroup\":\"\",\"orientation\":\"v\",\"showlegend\":false,\"x\":[\"Negative\",\"Positive\",\"Negative\",\"Negative\",\"Positive\",\"Negative\",\"Positive\",\"Negative\",\"Positive\",\"Positive\",\"Positive\",\"Positive\",\"Negative\",\"Negative\",\"Negative\",\"Negative\",\"Negative\",\"Neutral\",\"Neutral\",\"Positive\",\"Positive\",\"Negative\",\"Neutral\",\"Positive\",\"Negative\",\"Negative\",\"Positive\",\"Positive\",\"Negative\",\"Negative\",\"Positive\",\"Positive\",\"Negative\",\"Neutral\",\"Positive\",\"Positive\",\"Positive\",\"Positive\",\"Negative\",\"Negative\",\"Neutral\",\"Negative\",\"Positive\",\"Neutral\",\"Neutral\",\"Positive\",\"Negative\",\"Neutral\",\"Negative\",\"Positive\",\"Neutral\",\"Positive\",\"Neutral\",\"Neutral\",\"Negative\",\"Negative\",\"Positive\",\"Negative\",\"Positive\",\"Negative\",\"Neutral\",\"Negative\",\"Negative\",\"Negative\",\"Positive\",\"Positive\",\"Positive\",\"Positive\",\"Neutral\",\"Positive\",\"Positive\",\"Positive\",\"Negative\",\"Positive\",\"Negative\",\"Neutral\",\"Negative\",\"Negative\",\"Neutral\",\"Neutral\",\"Positive\",\"Neutral\",\"Positive\",\"Positive\",\"Positive\",\"Negative\",\"Negative\",\"Positive\",\"Negative\",\"Negative\",\"Negative\",\"Positive\",\"Negative\",\"Neutral\",\"Positive\",\"Positive\",\"Positive\",\"Positive\",\"Neutral\",\"Positive\"],\"x0\":\" \",\"xaxis\":\"x\",\"y\":[77,128,86,57,482,85,371,188,110,83,247,245,447,90,92,114,429,704,174,250,79,495,116,233,106,59,134,32,143,90,117,78,49,52,605,79,124,365,106,99,102,191,108,83,57,150,102,246,75,103,37,150,56,199,130,84,295,152,112,56,60,121,102,69,111,229,185,57,183,55,127,42,55,64,72,72,75,67,79,113,92,80,373,77,84,143,56,111,86,86,65,132,104,91,129,101,116,62,94,61],\"y0\":\" \",\"yaxis\":\"y\",\"type\":\"box\"}],                        {\"template\":{\"data\":{\"histogram2dcontour\":[{\"type\":\"histogram2dcontour\",\"colorbar\":{\"outlinewidth\":0,\"ticks\":\"\"},\"colorscale\":[[0.0,\"#0d0887\"],[0.1111111111111111,\"#46039f\"],[0.2222222222222222,\"#7201a8\"],[0.3333333333333333,\"#9c179e\"],[0.4444444444444444,\"#bd3786\"],[0.5555555555555556,\"#d8576b\"],[0.6666666666666666,\"#ed7953\"],[0.7777777777777778,\"#fb9f3a\"],[0.8888888888888888,\"#fdca26\"],[1.0,\"#f0f921\"]]}],\"choropleth\":[{\"type\":\"choropleth\",\"colorbar\":{\"outlinewidth\":0,\"ticks\":\"\"}}],\"histogram2d\":[{\"type\":\"histogram2d\",\"colorbar\":{\"outlinewidth\":0,\"ticks\":\"\"},\"colorscale\":[[0.0,\"#0d0887\"],[0.1111111111111111,\"#46039f\"],[0.2222222222222222,\"#7201a8\"],[0.3333333333333333,\"#9c179e\"],[0.4444444444444444,\"#bd3786\"],[0.5555555555555556,\"#d8576b\"],[0.6666666666666666,\"#ed7953\"],[0.7777777777777778,\"#fb9f3a\"],[0.8888888888888888,\"#fdca26\"],[1.0,\"#f0f921\"]]}],\"heatmap\":[{\"type\":\"heatmap\",\"colorbar\":{\"outlinewidth\":0,\"ticks\":\"\"},\"colorscale\":[[0.0,\"#0d0887\"],[0.1111111111111111,\"#46039f\"],[0.2222222222222222,\"#7201a8\"],[0.3333333333333333,\"#9c179e\"],[0.4444444444444444,\"#bd3786\"],[0.5555555555555556,\"#d8576b\"],[0.6666666666666666,\"#ed7953\"],[0.7777777777777778,\"#fb9f3a\"],[0.8888888888888888,\"#fdca26\"],[1.0,\"#f0f921\"]]}],\"heatmapgl\":[{\"type\":\"heatmapgl\",\"colorbar\":{\"outlinewidth\":0,\"ticks\":\"\"},\"colorscale\":[[0.0,\"#0d0887\"],[0.1111111111111111,\"#46039f\"],[0.2222222222222222,\"#7201a8\"],[0.3333333333333333,\"#9c179e\"],[0.4444444444444444,\"#bd3786\"],[0.5555555555555556,\"#d8576b\"],[0.6666666666666666,\"#ed7953\"],[0.7777777777777778,\"#fb9f3a\"],[0.8888888888888888,\"#fdca26\"],[1.0,\"#f0f921\"]]}],\"contourcarpet\":[{\"type\":\"contourcarpet\",\"colorbar\":{\"outlinewidth\":0,\"ticks\":\"\"}}],\"contour\":[{\"type\":\"contour\",\"colorbar\":{\"outlinewidth\":0,\"ticks\":\"\"},\"colorscale\":[[0.0,\"#0d0887\"],[0.1111111111111111,\"#46039f\"],[0.2222222222222222,\"#7201a8\"],[0.3333333333333333,\"#9c179e\"],[0.4444444444444444,\"#bd3786\"],[0.5555555555555556,\"#d8576b\"],[0.6666666666666666,\"#ed7953\"],[0.7777777777777778,\"#fb9f3a\"],[0.8888888888888888,\"#fdca26\"],[1.0,\"#f0f921\"]]}],\"surface\":[{\"type\":\"surface\",\"colorbar\":{\"outlinewidth\":0,\"ticks\":\"\"},\"colorscale\":[[0.0,\"#0d0887\"],[0.1111111111111111,\"#46039f\"],[0.2222222222222222,\"#7201a8\"],[0.3333333333333333,\"#9c179e\"],[0.4444444444444444,\"#bd3786\"],[0.5555555555555556,\"#d8576b\"],[0.6666666666666666,\"#ed7953\"],[0.7777777777777778,\"#fb9f3a\"],[0.8888888888888888,\"#fdca26\"],[1.0,\"#f0f921\"]]}],\"mesh3d\":[{\"type\":\"mesh3d\",\"colorbar\":{\"outlinewidth\":0,\"ticks\":\"\"}}],\"scatter\":[{\"fillpattern\":{\"fillmode\":\"overlay\",\"size\":10,\"solidity\":0.2},\"type\":\"scatter\"}],\"parcoords\":[{\"type\":\"parcoords\",\"line\":{\"colorbar\":{\"outlinewidth\":0,\"ticks\":\"\"}}}],\"scatterpolargl\":[{\"type\":\"scatterpolargl\",\"marker\":{\"colorbar\":{\"outlinewidth\":0,\"ticks\":\"\"}}}],\"bar\":[{\"error_x\":{\"color\":\"#2a3f5f\"},\"error_y\":{\"color\":\"#2a3f5f\"},\"marker\":{\"line\":{\"color\":\"#E5ECF6\",\"width\":0.5},\"pattern\":{\"fillmode\":\"overlay\",\"size\":10,\"solidity\":0.2}},\"type\":\"bar\"}],\"scattergeo\":[{\"type\":\"scattergeo\",\"marker\":{\"colorbar\":{\"outlinewidth\":0,\"ticks\":\"\"}}}],\"scatterpolar\":[{\"type\":\"scatterpolar\",\"marker\":{\"colorbar\":{\"outlinewidth\":0,\"ticks\":\"\"}}}],\"histogram\":[{\"marker\":{\"pattern\":{\"fillmode\":\"overlay\",\"size\":10,\"solidity\":0.2}},\"type\":\"histogram\"}],\"scattergl\":[{\"type\":\"scattergl\",\"marker\":{\"colorbar\":{\"outlinewidth\":0,\"ticks\":\"\"}}}],\"scatter3d\":[{\"type\":\"scatter3d\",\"line\":{\"colorbar\":{\"outlinewidth\":0,\"ticks\":\"\"}},\"marker\":{\"colorbar\":{\"outlinewidth\":0,\"ticks\":\"\"}}}],\"scattermapbox\":[{\"type\":\"scattermapbox\",\"marker\":{\"colorbar\":{\"outlinewidth\":0,\"ticks\":\"\"}}}],\"scatterternary\":[{\"type\":\"scatterternary\",\"marker\":{\"colorbar\":{\"outlinewidth\":0,\"ticks\":\"\"}}}],\"scattercarpet\":[{\"type\":\"scattercarpet\",\"marker\":{\"colorbar\":{\"outlinewidth\":0,\"ticks\":\"\"}}}],\"carpet\":[{\"aaxis\":{\"endlinecolor\":\"#2a3f5f\",\"gridcolor\":\"white\",\"linecolor\":\"white\",\"minorgridcolor\":\"white\",\"startlinecolor\":\"#2a3f5f\"},\"baxis\":{\"endlinecolor\":\"#2a3f5f\",\"gridcolor\":\"white\",\"linecolor\":\"white\",\"minorgridcolor\":\"white\",\"startlinecolor\":\"#2a3f5f\"},\"type\":\"carpet\"}],\"table\":[{\"cells\":{\"fill\":{\"color\":\"#EBF0F8\"},\"line\":{\"color\":\"white\"}},\"header\":{\"fill\":{\"color\":\"#C8D4E3\"},\"line\":{\"color\":\"white\"}},\"type\":\"table\"}],\"barpolar\":[{\"marker\":{\"line\":{\"color\":\"#E5ECF6\",\"width\":0.5},\"pattern\":{\"fillmode\":\"overlay\",\"size\":10,\"solidity\":0.2}},\"type\":\"barpolar\"}],\"pie\":[{\"automargin\":true,\"type\":\"pie\"}]},\"layout\":{\"autotypenumbers\":\"strict\",\"colorway\":[\"#636efa\",\"#EF553B\",\"#00cc96\",\"#ab63fa\",\"#FFA15A\",\"#19d3f3\",\"#FF6692\",\"#B6E880\",\"#FF97FF\",\"#FECB52\"],\"font\":{\"color\":\"#2a3f5f\"},\"hovermode\":\"closest\",\"hoverlabel\":{\"align\":\"left\"},\"paper_bgcolor\":\"white\",\"plot_bgcolor\":\"#E5ECF6\",\"polar\":{\"bgcolor\":\"#E5ECF6\",\"angularaxis\":{\"gridcolor\":\"white\",\"linecolor\":\"white\",\"ticks\":\"\"},\"radialaxis\":{\"gridcolor\":\"white\",\"linecolor\":\"white\",\"ticks\":\"\"}},\"ternary\":{\"bgcolor\":\"#E5ECF6\",\"aaxis\":{\"gridcolor\":\"white\",\"linecolor\":\"white\",\"ticks\":\"\"},\"baxis\":{\"gridcolor\":\"white\",\"linecolor\":\"white\",\"ticks\":\"\"},\"caxis\":{\"gridcolor\":\"white\",\"linecolor\":\"white\",\"ticks\":\"\"}},\"coloraxis\":{\"colorbar\":{\"outlinewidth\":0,\"ticks\":\"\"}},\"colorscale\":{\"sequential\":[[0.0,\"#0d0887\"],[0.1111111111111111,\"#46039f\"],[0.2222222222222222,\"#7201a8\"],[0.3333333333333333,\"#9c179e\"],[0.4444444444444444,\"#bd3786\"],[0.5555555555555556,\"#d8576b\"],[0.6666666666666666,\"#ed7953\"],[0.7777777777777778,\"#fb9f3a\"],[0.8888888888888888,\"#fdca26\"],[1.0,\"#f0f921\"]],\"sequentialminus\":[[0.0,\"#0d0887\"],[0.1111111111111111,\"#46039f\"],[0.2222222222222222,\"#7201a8\"],[0.3333333333333333,\"#9c179e\"],[0.4444444444444444,\"#bd3786\"],[0.5555555555555556,\"#d8576b\"],[0.6666666666666666,\"#ed7953\"],[0.7777777777777778,\"#fb9f3a\"],[0.8888888888888888,\"#fdca26\"],[1.0,\"#f0f921\"]],\"diverging\":[[0,\"#8e0152\"],[0.1,\"#c51b7d\"],[0.2,\"#de77ae\"],[0.3,\"#f1b6da\"],[0.4,\"#fde0ef\"],[0.5,\"#f7f7f7\"],[0.6,\"#e6f5d0\"],[0.7,\"#b8e186\"],[0.8,\"#7fbc41\"],[0.9,\"#4d9221\"],[1,\"#276419\"]]},\"xaxis\":{\"gridcolor\":\"white\",\"linecolor\":\"white\",\"ticks\":\"\",\"title\":{\"standoff\":15},\"zerolinecolor\":\"white\",\"automargin\":true,\"zerolinewidth\":2},\"yaxis\":{\"gridcolor\":\"white\",\"linecolor\":\"white\",\"ticks\":\"\",\"title\":{\"standoff\":15},\"zerolinecolor\":\"white\",\"automargin\":true,\"zerolinewidth\":2},\"scene\":{\"xaxis\":{\"backgroundcolor\":\"#E5ECF6\",\"gridcolor\":\"white\",\"linecolor\":\"white\",\"showbackground\":true,\"ticks\":\"\",\"zerolinecolor\":\"white\",\"gridwidth\":2},\"yaxis\":{\"backgroundcolor\":\"#E5ECF6\",\"gridcolor\":\"white\",\"linecolor\":\"white\",\"showbackground\":true,\"ticks\":\"\",\"zerolinecolor\":\"white\",\"gridwidth\":2},\"zaxis\":{\"backgroundcolor\":\"#E5ECF6\",\"gridcolor\":\"white\",\"linecolor\":\"white\",\"showbackground\":true,\"ticks\":\"\",\"zerolinecolor\":\"white\",\"gridwidth\":2}},\"shapedefaults\":{\"line\":{\"color\":\"#2a3f5f\"}},\"annotationdefaults\":{\"arrowcolor\":\"#2a3f5f\",\"arrowhead\":0,\"arrowwidth\":1},\"geo\":{\"bgcolor\":\"white\",\"landcolor\":\"#E5ECF6\",\"subunitcolor\":\"white\",\"showland\":true,\"showlakes\":true,\"lakecolor\":\"white\"},\"title\":{\"x\":0.05},\"mapbox\":{\"style\":\"light\"}}},\"xaxis\":{\"anchor\":\"y\",\"domain\":[0.0,1.0],\"title\":{\"text\":\"sentiment\"}},\"yaxis\":{\"anchor\":\"x\",\"domain\":[0.0,1.0],\"title\":{\"text\":\"Word Length\"}},\"legend\":{\"tracegroupgap\":0},\"title\":{\"text\":\"Boxplot of Word Length per Setiment\",\"font\":{\"color\":\"white\"}},\"boxmode\":\"group\",\"font\":{\"color\":\"white\"},\"plot_bgcolor\":\"black\",\"paper_bgcolor\":\"black\"},                        {\"responsive\": true}                    ).then(function(){\n",
       "                            \n",
       "var gd = document.getElementById('faa08766-39a4-4699-bf6a-413973374209');\n",
       "var x = new MutationObserver(function (mutations, observer) {{\n",
       "        var display = window.getComputedStyle(gd).display;\n",
       "        if (!display || display === 'none') {{\n",
       "            console.log([gd, 'removed!']);\n",
       "            Plotly.purge(gd);\n",
       "            observer.disconnect();\n",
       "        }}\n",
       "}});\n",
       "\n",
       "// Listen for the removal of the full notebook cells\n",
       "var notebookContainer = gd.closest('#notebook-container');\n",
       "if (notebookContainer) {{\n",
       "    x.observe(notebookContainer, {childList: true});\n",
       "}}\n",
       "\n",
       "// Listen for the clearing of the current output cell\n",
       "var outputEl = gd.closest('.output');\n",
       "if (outputEl) {{\n",
       "    x.observe(outputEl, {childList: true});\n",
       "}}\n",
       "\n",
       "                        })                };                });            </script>        </div>"
      ]
     },
     "metadata": {},
     "output_type": "display_data"
    }
   ],
   "source": [
    "#wrd len based on sentiment\n",
    "fig = px.box(df_with_summaries, x='sentiment', y='wrd_len', title='Boxplot of Word Length per Setiment', labels={'wrd_len': 'Word Length', 'news_type': 'News Type'})\n",
    "fig.update_layout(\n",
    "    plot_bgcolor='black',\n",
    "    paper_bgcolor='black',  \n",
    "    font=dict(color='white'),\n",
    "    title=dict(font=dict(color='white')))\n",
    "\n",
    "fig.show()"
   ]
  },
  {
   "cell_type": "code",
   "execution_count": 202,
   "id": "70653b91",
   "metadata": {},
   "outputs": [
    {
     "data": {
      "application/vnd.plotly.v1+json": {
       "config": {
        "plotlyServerURL": "https://plot.ly"
       },
       "data": [
        {
         "alignmentgroup": "True",
         "hovertemplate": "sentiment=Negative<br>News Type=%{x}<br>Count=%{y}<extra></extra>",
         "legendgroup": "Negative",
         "marker": {
          "color": "#636efa",
          "pattern": {
           "shape": ""
          }
         },
         "name": "Negative",
         "offsetgroup": "Negative",
         "orientation": "v",
         "showlegend": true,
         "textposition": "auto",
         "type": "bar",
         "x": [
          "Politics/Technology",
          "Politics",
          "Local News",
          "Business",
          "Politics",
          "Health",
          "Crime",
          "News",
          "Local News",
          "Politics",
          "Politics",
          "Politics",
          "Crime",
          "Politics",
          "Health",
          "Travel",
          "Politics",
          "Local News",
          "Science/Health",
          "Health",
          "Politics",
          "Politics",
          "Politics",
          "Health",
          "Politics",
          "Technology",
          "Politics",
          "Environment",
          "Local News",
          "Local News",
          "Health",
          "Politics",
          "Politics",
          "Politics",
          "Business",
          "Business",
          "Technology",
          "Crime"
         ],
         "xaxis": "x",
         "y": [
          1,
          1,
          1,
          1,
          1,
          1,
          1,
          1,
          1,
          1,
          1,
          1,
          1,
          1,
          1,
          1,
          1,
          1,
          1,
          1,
          1,
          1,
          1,
          1,
          1,
          1,
          1,
          1,
          1,
          1,
          1,
          1,
          1,
          1,
          1,
          1,
          1,
          1
         ],
         "yaxis": "y"
        },
        {
         "alignmentgroup": "True",
         "hovertemplate": "sentiment=Positive<br>News Type=%{x}<br>Count=%{y}<extra></extra>",
         "legendgroup": "Positive",
         "marker": {
          "color": "#EF553B",
          "pattern": {
           "shape": ""
          }
         },
         "name": "Positive",
         "offsetgroup": "Positive",
         "orientation": "v",
         "showlegend": true,
         "textposition": "auto",
         "type": "bar",
         "x": [
          "Religion/Entertainment",
          "Entertainment",
          "Entertainment",
          "Entertainment",
          "Politics",
          "Entertainment",
          "Entertainment",
          "Entertainment",
          "Politics",
          "Politics",
          "Politics",
          "Technology",
          "Health/Science",
          "Local News",
          "Entertainment (Arts)",
          "Politics",
          "Politics",
          "Entertainment",
          "Technology",
          "Entertainment",
          "Politics",
          "Technology",
          "Entertainment",
          "News",
          "Entertainment",
          "Entertainment",
          "Politics",
          "Travel",
          "Religion",
          "Entertainment",
          "Religion",
          "Religion/Culture",
          "Entertainment",
          "Art and Culture",
          "Technology",
          "Politics",
          "Religion/Spirituality",
          "Politics",
          "Sports",
          "Sports",
          "Politics",
          "Entertainment",
          "Politics"
         ],
         "xaxis": "x",
         "y": [
          1,
          1,
          1,
          1,
          1,
          1,
          1,
          1,
          1,
          1,
          1,
          1,
          1,
          1,
          1,
          1,
          1,
          1,
          1,
          1,
          1,
          1,
          1,
          1,
          1,
          1,
          1,
          1,
          1,
          1,
          1,
          1,
          1,
          1,
          1,
          1,
          1,
          1,
          1,
          1,
          1,
          1,
          1
         ],
         "yaxis": "y"
        },
        {
         "alignmentgroup": "True",
         "hovertemplate": "sentiment=Neutral<br>News Type=%{x}<br>Count=%{y}<extra></extra>",
         "legendgroup": "Neutral",
         "marker": {
          "color": "#00cc96",
          "pattern": {
           "shape": ""
          }
         },
         "name": "Neutral",
         "offsetgroup": "Neutral",
         "orientation": "v",
         "showlegend": true,
         "textposition": "auto",
         "type": "bar",
         "x": [
          "Environmental Issues",
          "Politics",
          "Politics",
          "Education",
          "Entertainment",
          "Politics",
          "Politics",
          "Politics",
          "Entertainment",
          "Weather",
          "Politics",
          "Politics",
          "Error",
          "",
          "Politics",
          "Religion",
          "Environment",
          "Politics",
          "Politics"
         ],
         "xaxis": "x",
         "y": [
          1,
          1,
          1,
          1,
          1,
          1,
          1,
          1,
          1,
          1,
          1,
          1,
          1,
          1,
          1,
          1,
          1,
          1,
          1
         ],
         "yaxis": "y"
        }
       ],
       "layout": {
        "barmode": "group",
        "font": {
         "color": "white"
        },
        "legend": {
         "title": {
          "text": "sentiment"
         },
         "tracegroupgap": 0
        },
        "paper_bgcolor": "black",
        "plot_bgcolor": "black",
        "template": {
         "data": {
          "bar": [
           {
            "error_x": {
             "color": "#2a3f5f"
            },
            "error_y": {
             "color": "#2a3f5f"
            },
            "marker": {
             "line": {
              "color": "#E5ECF6",
              "width": 0.5
             },
             "pattern": {
              "fillmode": "overlay",
              "size": 10,
              "solidity": 0.2
             }
            },
            "type": "bar"
           }
          ],
          "barpolar": [
           {
            "marker": {
             "line": {
              "color": "#E5ECF6",
              "width": 0.5
             },
             "pattern": {
              "fillmode": "overlay",
              "size": 10,
              "solidity": 0.2
             }
            },
            "type": "barpolar"
           }
          ],
          "carpet": [
           {
            "aaxis": {
             "endlinecolor": "#2a3f5f",
             "gridcolor": "white",
             "linecolor": "white",
             "minorgridcolor": "white",
             "startlinecolor": "#2a3f5f"
            },
            "baxis": {
             "endlinecolor": "#2a3f5f",
             "gridcolor": "white",
             "linecolor": "white",
             "minorgridcolor": "white",
             "startlinecolor": "#2a3f5f"
            },
            "type": "carpet"
           }
          ],
          "choropleth": [
           {
            "colorbar": {
             "outlinewidth": 0,
             "ticks": ""
            },
            "type": "choropleth"
           }
          ],
          "contour": [
           {
            "colorbar": {
             "outlinewidth": 0,
             "ticks": ""
            },
            "colorscale": [
             [
              0,
              "#0d0887"
             ],
             [
              0.1111111111111111,
              "#46039f"
             ],
             [
              0.2222222222222222,
              "#7201a8"
             ],
             [
              0.3333333333333333,
              "#9c179e"
             ],
             [
              0.4444444444444444,
              "#bd3786"
             ],
             [
              0.5555555555555556,
              "#d8576b"
             ],
             [
              0.6666666666666666,
              "#ed7953"
             ],
             [
              0.7777777777777778,
              "#fb9f3a"
             ],
             [
              0.8888888888888888,
              "#fdca26"
             ],
             [
              1,
              "#f0f921"
             ]
            ],
            "type": "contour"
           }
          ],
          "contourcarpet": [
           {
            "colorbar": {
             "outlinewidth": 0,
             "ticks": ""
            },
            "type": "contourcarpet"
           }
          ],
          "heatmap": [
           {
            "colorbar": {
             "outlinewidth": 0,
             "ticks": ""
            },
            "colorscale": [
             [
              0,
              "#0d0887"
             ],
             [
              0.1111111111111111,
              "#46039f"
             ],
             [
              0.2222222222222222,
              "#7201a8"
             ],
             [
              0.3333333333333333,
              "#9c179e"
             ],
             [
              0.4444444444444444,
              "#bd3786"
             ],
             [
              0.5555555555555556,
              "#d8576b"
             ],
             [
              0.6666666666666666,
              "#ed7953"
             ],
             [
              0.7777777777777778,
              "#fb9f3a"
             ],
             [
              0.8888888888888888,
              "#fdca26"
             ],
             [
              1,
              "#f0f921"
             ]
            ],
            "type": "heatmap"
           }
          ],
          "heatmapgl": [
           {
            "colorbar": {
             "outlinewidth": 0,
             "ticks": ""
            },
            "colorscale": [
             [
              0,
              "#0d0887"
             ],
             [
              0.1111111111111111,
              "#46039f"
             ],
             [
              0.2222222222222222,
              "#7201a8"
             ],
             [
              0.3333333333333333,
              "#9c179e"
             ],
             [
              0.4444444444444444,
              "#bd3786"
             ],
             [
              0.5555555555555556,
              "#d8576b"
             ],
             [
              0.6666666666666666,
              "#ed7953"
             ],
             [
              0.7777777777777778,
              "#fb9f3a"
             ],
             [
              0.8888888888888888,
              "#fdca26"
             ],
             [
              1,
              "#f0f921"
             ]
            ],
            "type": "heatmapgl"
           }
          ],
          "histogram": [
           {
            "marker": {
             "pattern": {
              "fillmode": "overlay",
              "size": 10,
              "solidity": 0.2
             }
            },
            "type": "histogram"
           }
          ],
          "histogram2d": [
           {
            "colorbar": {
             "outlinewidth": 0,
             "ticks": ""
            },
            "colorscale": [
             [
              0,
              "#0d0887"
             ],
             [
              0.1111111111111111,
              "#46039f"
             ],
             [
              0.2222222222222222,
              "#7201a8"
             ],
             [
              0.3333333333333333,
              "#9c179e"
             ],
             [
              0.4444444444444444,
              "#bd3786"
             ],
             [
              0.5555555555555556,
              "#d8576b"
             ],
             [
              0.6666666666666666,
              "#ed7953"
             ],
             [
              0.7777777777777778,
              "#fb9f3a"
             ],
             [
              0.8888888888888888,
              "#fdca26"
             ],
             [
              1,
              "#f0f921"
             ]
            ],
            "type": "histogram2d"
           }
          ],
          "histogram2dcontour": [
           {
            "colorbar": {
             "outlinewidth": 0,
             "ticks": ""
            },
            "colorscale": [
             [
              0,
              "#0d0887"
             ],
             [
              0.1111111111111111,
              "#46039f"
             ],
             [
              0.2222222222222222,
              "#7201a8"
             ],
             [
              0.3333333333333333,
              "#9c179e"
             ],
             [
              0.4444444444444444,
              "#bd3786"
             ],
             [
              0.5555555555555556,
              "#d8576b"
             ],
             [
              0.6666666666666666,
              "#ed7953"
             ],
             [
              0.7777777777777778,
              "#fb9f3a"
             ],
             [
              0.8888888888888888,
              "#fdca26"
             ],
             [
              1,
              "#f0f921"
             ]
            ],
            "type": "histogram2dcontour"
           }
          ],
          "mesh3d": [
           {
            "colorbar": {
             "outlinewidth": 0,
             "ticks": ""
            },
            "type": "mesh3d"
           }
          ],
          "parcoords": [
           {
            "line": {
             "colorbar": {
              "outlinewidth": 0,
              "ticks": ""
             }
            },
            "type": "parcoords"
           }
          ],
          "pie": [
           {
            "automargin": true,
            "type": "pie"
           }
          ],
          "scatter": [
           {
            "fillpattern": {
             "fillmode": "overlay",
             "size": 10,
             "solidity": 0.2
            },
            "type": "scatter"
           }
          ],
          "scatter3d": [
           {
            "line": {
             "colorbar": {
              "outlinewidth": 0,
              "ticks": ""
             }
            },
            "marker": {
             "colorbar": {
              "outlinewidth": 0,
              "ticks": ""
             }
            },
            "type": "scatter3d"
           }
          ],
          "scattercarpet": [
           {
            "marker": {
             "colorbar": {
              "outlinewidth": 0,
              "ticks": ""
             }
            },
            "type": "scattercarpet"
           }
          ],
          "scattergeo": [
           {
            "marker": {
             "colorbar": {
              "outlinewidth": 0,
              "ticks": ""
             }
            },
            "type": "scattergeo"
           }
          ],
          "scattergl": [
           {
            "marker": {
             "colorbar": {
              "outlinewidth": 0,
              "ticks": ""
             }
            },
            "type": "scattergl"
           }
          ],
          "scattermapbox": [
           {
            "marker": {
             "colorbar": {
              "outlinewidth": 0,
              "ticks": ""
             }
            },
            "type": "scattermapbox"
           }
          ],
          "scatterpolar": [
           {
            "marker": {
             "colorbar": {
              "outlinewidth": 0,
              "ticks": ""
             }
            },
            "type": "scatterpolar"
           }
          ],
          "scatterpolargl": [
           {
            "marker": {
             "colorbar": {
              "outlinewidth": 0,
              "ticks": ""
             }
            },
            "type": "scatterpolargl"
           }
          ],
          "scatterternary": [
           {
            "marker": {
             "colorbar": {
              "outlinewidth": 0,
              "ticks": ""
             }
            },
            "type": "scatterternary"
           }
          ],
          "surface": [
           {
            "colorbar": {
             "outlinewidth": 0,
             "ticks": ""
            },
            "colorscale": [
             [
              0,
              "#0d0887"
             ],
             [
              0.1111111111111111,
              "#46039f"
             ],
             [
              0.2222222222222222,
              "#7201a8"
             ],
             [
              0.3333333333333333,
              "#9c179e"
             ],
             [
              0.4444444444444444,
              "#bd3786"
             ],
             [
              0.5555555555555556,
              "#d8576b"
             ],
             [
              0.6666666666666666,
              "#ed7953"
             ],
             [
              0.7777777777777778,
              "#fb9f3a"
             ],
             [
              0.8888888888888888,
              "#fdca26"
             ],
             [
              1,
              "#f0f921"
             ]
            ],
            "type": "surface"
           }
          ],
          "table": [
           {
            "cells": {
             "fill": {
              "color": "#EBF0F8"
             },
             "line": {
              "color": "white"
             }
            },
            "header": {
             "fill": {
              "color": "#C8D4E3"
             },
             "line": {
              "color": "white"
             }
            },
            "type": "table"
           }
          ]
         },
         "layout": {
          "annotationdefaults": {
           "arrowcolor": "#2a3f5f",
           "arrowhead": 0,
           "arrowwidth": 1
          },
          "autotypenumbers": "strict",
          "coloraxis": {
           "colorbar": {
            "outlinewidth": 0,
            "ticks": ""
           }
          },
          "colorscale": {
           "diverging": [
            [
             0,
             "#8e0152"
            ],
            [
             0.1,
             "#c51b7d"
            ],
            [
             0.2,
             "#de77ae"
            ],
            [
             0.3,
             "#f1b6da"
            ],
            [
             0.4,
             "#fde0ef"
            ],
            [
             0.5,
             "#f7f7f7"
            ],
            [
             0.6,
             "#e6f5d0"
            ],
            [
             0.7,
             "#b8e186"
            ],
            [
             0.8,
             "#7fbc41"
            ],
            [
             0.9,
             "#4d9221"
            ],
            [
             1,
             "#276419"
            ]
           ],
           "sequential": [
            [
             0,
             "#0d0887"
            ],
            [
             0.1111111111111111,
             "#46039f"
            ],
            [
             0.2222222222222222,
             "#7201a8"
            ],
            [
             0.3333333333333333,
             "#9c179e"
            ],
            [
             0.4444444444444444,
             "#bd3786"
            ],
            [
             0.5555555555555556,
             "#d8576b"
            ],
            [
             0.6666666666666666,
             "#ed7953"
            ],
            [
             0.7777777777777778,
             "#fb9f3a"
            ],
            [
             0.8888888888888888,
             "#fdca26"
            ],
            [
             1,
             "#f0f921"
            ]
           ],
           "sequentialminus": [
            [
             0,
             "#0d0887"
            ],
            [
             0.1111111111111111,
             "#46039f"
            ],
            [
             0.2222222222222222,
             "#7201a8"
            ],
            [
             0.3333333333333333,
             "#9c179e"
            ],
            [
             0.4444444444444444,
             "#bd3786"
            ],
            [
             0.5555555555555556,
             "#d8576b"
            ],
            [
             0.6666666666666666,
             "#ed7953"
            ],
            [
             0.7777777777777778,
             "#fb9f3a"
            ],
            [
             0.8888888888888888,
             "#fdca26"
            ],
            [
             1,
             "#f0f921"
            ]
           ]
          },
          "colorway": [
           "#636efa",
           "#EF553B",
           "#00cc96",
           "#ab63fa",
           "#FFA15A",
           "#19d3f3",
           "#FF6692",
           "#B6E880",
           "#FF97FF",
           "#FECB52"
          ],
          "font": {
           "color": "#2a3f5f"
          },
          "geo": {
           "bgcolor": "white",
           "lakecolor": "white",
           "landcolor": "#E5ECF6",
           "showlakes": true,
           "showland": true,
           "subunitcolor": "white"
          },
          "hoverlabel": {
           "align": "left"
          },
          "hovermode": "closest",
          "mapbox": {
           "style": "light"
          },
          "paper_bgcolor": "white",
          "plot_bgcolor": "#E5ECF6",
          "polar": {
           "angularaxis": {
            "gridcolor": "white",
            "linecolor": "white",
            "ticks": ""
           },
           "bgcolor": "#E5ECF6",
           "radialaxis": {
            "gridcolor": "white",
            "linecolor": "white",
            "ticks": ""
           }
          },
          "scene": {
           "xaxis": {
            "backgroundcolor": "#E5ECF6",
            "gridcolor": "white",
            "gridwidth": 2,
            "linecolor": "white",
            "showbackground": true,
            "ticks": "",
            "zerolinecolor": "white"
           },
           "yaxis": {
            "backgroundcolor": "#E5ECF6",
            "gridcolor": "white",
            "gridwidth": 2,
            "linecolor": "white",
            "showbackground": true,
            "ticks": "",
            "zerolinecolor": "white"
           },
           "zaxis": {
            "backgroundcolor": "#E5ECF6",
            "gridcolor": "white",
            "gridwidth": 2,
            "linecolor": "white",
            "showbackground": true,
            "ticks": "",
            "zerolinecolor": "white"
           }
          },
          "shapedefaults": {
           "line": {
            "color": "#2a3f5f"
           }
          },
          "ternary": {
           "aaxis": {
            "gridcolor": "white",
            "linecolor": "white",
            "ticks": ""
           },
           "baxis": {
            "gridcolor": "white",
            "linecolor": "white",
            "ticks": ""
           },
           "bgcolor": "#E5ECF6",
           "caxis": {
            "gridcolor": "white",
            "linecolor": "white",
            "ticks": ""
           }
          },
          "title": {
           "x": 0.05
          },
          "xaxis": {
           "automargin": true,
           "gridcolor": "white",
           "linecolor": "white",
           "ticks": "",
           "title": {
            "standoff": 15
           },
           "zerolinecolor": "white",
           "zerolinewidth": 2
          },
          "yaxis": {
           "automargin": true,
           "gridcolor": "white",
           "linecolor": "white",
           "ticks": "",
           "title": {
            "standoff": 15
           },
           "zerolinecolor": "white",
           "zerolinewidth": 2
          }
         }
        },
        "title": {
         "font": {
          "color": "white"
         },
         "text": "Countplot of News Type and Sentiment"
        },
        "xaxis": {
         "anchor": "y",
         "domain": [
          0,
          1
         ],
         "title": {
          "text": "News Type"
         }
        },
        "yaxis": {
         "anchor": "x",
         "domain": [
          0,
          1
         ],
         "title": {
          "text": "Count"
         }
        }
       }
      },
      "text/html": [
       "<div>                            <div id=\"d3c2dd5c-a8d3-4eaa-969d-29fa644f6091\" class=\"plotly-graph-div\" style=\"height:525px; width:100%;\"></div>            <script type=\"text/javascript\">                require([\"plotly\"], function(Plotly) {                    window.PLOTLYENV=window.PLOTLYENV || {};                                    if (document.getElementById(\"d3c2dd5c-a8d3-4eaa-969d-29fa644f6091\")) {                    Plotly.newPlot(                        \"d3c2dd5c-a8d3-4eaa-969d-29fa644f6091\",                        [{\"alignmentgroup\":\"True\",\"hovertemplate\":\"sentiment=Negative\\u003cbr\\u003eNews Type=%{x}\\u003cbr\\u003eCount=%{y}\\u003cextra\\u003e\\u003c\\u002fextra\\u003e\",\"legendgroup\":\"Negative\",\"marker\":{\"color\":\"#636efa\",\"pattern\":{\"shape\":\"\"}},\"name\":\"Negative\",\"offsetgroup\":\"Negative\",\"orientation\":\"v\",\"showlegend\":true,\"textposition\":\"auto\",\"x\":[\"Politics\\u002fTechnology\",\"Politics\",\"Local News\",\"Business\",\"Politics\",\"Health\",\"Crime\",\"News\",\"Local News\",\"Politics\",\"Politics\",\"Politics\",\"Crime\",\"Politics\",\"Health\",\"Travel\",\"Politics\",\"Local News\",\"Science\\u002fHealth\",\"Health\",\"Politics\",\"Politics\",\"Politics\",\"Health\",\"Politics\",\"Technology\",\"Politics\",\"Environment\",\"Local News\",\"Local News\",\"Health\",\"Politics\",\"Politics\",\"Politics\",\"Business\",\"Business\",\"Technology\",\"Crime\"],\"xaxis\":\"x\",\"y\":[1,1,1,1,1,1,1,1,1,1,1,1,1,1,1,1,1,1,1,1,1,1,1,1,1,1,1,1,1,1,1,1,1,1,1,1,1,1],\"yaxis\":\"y\",\"type\":\"bar\"},{\"alignmentgroup\":\"True\",\"hovertemplate\":\"sentiment=Positive\\u003cbr\\u003eNews Type=%{x}\\u003cbr\\u003eCount=%{y}\\u003cextra\\u003e\\u003c\\u002fextra\\u003e\",\"legendgroup\":\"Positive\",\"marker\":{\"color\":\"#EF553B\",\"pattern\":{\"shape\":\"\"}},\"name\":\"Positive\",\"offsetgroup\":\"Positive\",\"orientation\":\"v\",\"showlegend\":true,\"textposition\":\"auto\",\"x\":[\"Religion\\u002fEntertainment\",\"Entertainment\",\"Entertainment\",\"Entertainment\",\"Politics\",\"Entertainment\",\"Entertainment\",\"Entertainment\",\"Politics\",\"Politics\",\"Politics\",\"Technology\",\"Health\\u002fScience\",\"Local News\",\"Entertainment (Arts)\",\"Politics\",\"Politics\",\"Entertainment\",\"Technology\",\"Entertainment\",\"Politics\",\"Technology\",\"Entertainment\",\"News\",\"Entertainment\",\"Entertainment\",\"Politics\",\"Travel\",\"Religion\",\"Entertainment\",\"Religion\",\"Religion\\u002fCulture\",\"Entertainment\",\"Art and Culture\",\"Technology\",\"Politics\",\"Religion\\u002fSpirituality\",\"Politics\",\"Sports\",\"Sports\",\"Politics\",\"Entertainment\",\"Politics\"],\"xaxis\":\"x\",\"y\":[1,1,1,1,1,1,1,1,1,1,1,1,1,1,1,1,1,1,1,1,1,1,1,1,1,1,1,1,1,1,1,1,1,1,1,1,1,1,1,1,1,1,1],\"yaxis\":\"y\",\"type\":\"bar\"},{\"alignmentgroup\":\"True\",\"hovertemplate\":\"sentiment=Neutral\\u003cbr\\u003eNews Type=%{x}\\u003cbr\\u003eCount=%{y}\\u003cextra\\u003e\\u003c\\u002fextra\\u003e\",\"legendgroup\":\"Neutral\",\"marker\":{\"color\":\"#00cc96\",\"pattern\":{\"shape\":\"\"}},\"name\":\"Neutral\",\"offsetgroup\":\"Neutral\",\"orientation\":\"v\",\"showlegend\":true,\"textposition\":\"auto\",\"x\":[\"Environmental Issues\",\"Politics\",\"Politics\",\"Education\",\"Entertainment\",\"Politics\",\"Politics\",\"Politics\",\"Entertainment\",\"Weather\",\"Politics\",\"Politics\",\"Error\",\"\",\"Politics\",\"Religion\",\"Environment\",\"Politics\",\"Politics\"],\"xaxis\":\"x\",\"y\":[1,1,1,1,1,1,1,1,1,1,1,1,1,1,1,1,1,1,1],\"yaxis\":\"y\",\"type\":\"bar\"}],                        {\"template\":{\"data\":{\"histogram2dcontour\":[{\"type\":\"histogram2dcontour\",\"colorbar\":{\"outlinewidth\":0,\"ticks\":\"\"},\"colorscale\":[[0.0,\"#0d0887\"],[0.1111111111111111,\"#46039f\"],[0.2222222222222222,\"#7201a8\"],[0.3333333333333333,\"#9c179e\"],[0.4444444444444444,\"#bd3786\"],[0.5555555555555556,\"#d8576b\"],[0.6666666666666666,\"#ed7953\"],[0.7777777777777778,\"#fb9f3a\"],[0.8888888888888888,\"#fdca26\"],[1.0,\"#f0f921\"]]}],\"choropleth\":[{\"type\":\"choropleth\",\"colorbar\":{\"outlinewidth\":0,\"ticks\":\"\"}}],\"histogram2d\":[{\"type\":\"histogram2d\",\"colorbar\":{\"outlinewidth\":0,\"ticks\":\"\"},\"colorscale\":[[0.0,\"#0d0887\"],[0.1111111111111111,\"#46039f\"],[0.2222222222222222,\"#7201a8\"],[0.3333333333333333,\"#9c179e\"],[0.4444444444444444,\"#bd3786\"],[0.5555555555555556,\"#d8576b\"],[0.6666666666666666,\"#ed7953\"],[0.7777777777777778,\"#fb9f3a\"],[0.8888888888888888,\"#fdca26\"],[1.0,\"#f0f921\"]]}],\"heatmap\":[{\"type\":\"heatmap\",\"colorbar\":{\"outlinewidth\":0,\"ticks\":\"\"},\"colorscale\":[[0.0,\"#0d0887\"],[0.1111111111111111,\"#46039f\"],[0.2222222222222222,\"#7201a8\"],[0.3333333333333333,\"#9c179e\"],[0.4444444444444444,\"#bd3786\"],[0.5555555555555556,\"#d8576b\"],[0.6666666666666666,\"#ed7953\"],[0.7777777777777778,\"#fb9f3a\"],[0.8888888888888888,\"#fdca26\"],[1.0,\"#f0f921\"]]}],\"heatmapgl\":[{\"type\":\"heatmapgl\",\"colorbar\":{\"outlinewidth\":0,\"ticks\":\"\"},\"colorscale\":[[0.0,\"#0d0887\"],[0.1111111111111111,\"#46039f\"],[0.2222222222222222,\"#7201a8\"],[0.3333333333333333,\"#9c179e\"],[0.4444444444444444,\"#bd3786\"],[0.5555555555555556,\"#d8576b\"],[0.6666666666666666,\"#ed7953\"],[0.7777777777777778,\"#fb9f3a\"],[0.8888888888888888,\"#fdca26\"],[1.0,\"#f0f921\"]]}],\"contourcarpet\":[{\"type\":\"contourcarpet\",\"colorbar\":{\"outlinewidth\":0,\"ticks\":\"\"}}],\"contour\":[{\"type\":\"contour\",\"colorbar\":{\"outlinewidth\":0,\"ticks\":\"\"},\"colorscale\":[[0.0,\"#0d0887\"],[0.1111111111111111,\"#46039f\"],[0.2222222222222222,\"#7201a8\"],[0.3333333333333333,\"#9c179e\"],[0.4444444444444444,\"#bd3786\"],[0.5555555555555556,\"#d8576b\"],[0.6666666666666666,\"#ed7953\"],[0.7777777777777778,\"#fb9f3a\"],[0.8888888888888888,\"#fdca26\"],[1.0,\"#f0f921\"]]}],\"surface\":[{\"type\":\"surface\",\"colorbar\":{\"outlinewidth\":0,\"ticks\":\"\"},\"colorscale\":[[0.0,\"#0d0887\"],[0.1111111111111111,\"#46039f\"],[0.2222222222222222,\"#7201a8\"],[0.3333333333333333,\"#9c179e\"],[0.4444444444444444,\"#bd3786\"],[0.5555555555555556,\"#d8576b\"],[0.6666666666666666,\"#ed7953\"],[0.7777777777777778,\"#fb9f3a\"],[0.8888888888888888,\"#fdca26\"],[1.0,\"#f0f921\"]]}],\"mesh3d\":[{\"type\":\"mesh3d\",\"colorbar\":{\"outlinewidth\":0,\"ticks\":\"\"}}],\"scatter\":[{\"fillpattern\":{\"fillmode\":\"overlay\",\"size\":10,\"solidity\":0.2},\"type\":\"scatter\"}],\"parcoords\":[{\"type\":\"parcoords\",\"line\":{\"colorbar\":{\"outlinewidth\":0,\"ticks\":\"\"}}}],\"scatterpolargl\":[{\"type\":\"scatterpolargl\",\"marker\":{\"colorbar\":{\"outlinewidth\":0,\"ticks\":\"\"}}}],\"bar\":[{\"error_x\":{\"color\":\"#2a3f5f\"},\"error_y\":{\"color\":\"#2a3f5f\"},\"marker\":{\"line\":{\"color\":\"#E5ECF6\",\"width\":0.5},\"pattern\":{\"fillmode\":\"overlay\",\"size\":10,\"solidity\":0.2}},\"type\":\"bar\"}],\"scattergeo\":[{\"type\":\"scattergeo\",\"marker\":{\"colorbar\":{\"outlinewidth\":0,\"ticks\":\"\"}}}],\"scatterpolar\":[{\"type\":\"scatterpolar\",\"marker\":{\"colorbar\":{\"outlinewidth\":0,\"ticks\":\"\"}}}],\"histogram\":[{\"marker\":{\"pattern\":{\"fillmode\":\"overlay\",\"size\":10,\"solidity\":0.2}},\"type\":\"histogram\"}],\"scattergl\":[{\"type\":\"scattergl\",\"marker\":{\"colorbar\":{\"outlinewidth\":0,\"ticks\":\"\"}}}],\"scatter3d\":[{\"type\":\"scatter3d\",\"line\":{\"colorbar\":{\"outlinewidth\":0,\"ticks\":\"\"}},\"marker\":{\"colorbar\":{\"outlinewidth\":0,\"ticks\":\"\"}}}],\"scattermapbox\":[{\"type\":\"scattermapbox\",\"marker\":{\"colorbar\":{\"outlinewidth\":0,\"ticks\":\"\"}}}],\"scatterternary\":[{\"type\":\"scatterternary\",\"marker\":{\"colorbar\":{\"outlinewidth\":0,\"ticks\":\"\"}}}],\"scattercarpet\":[{\"type\":\"scattercarpet\",\"marker\":{\"colorbar\":{\"outlinewidth\":0,\"ticks\":\"\"}}}],\"carpet\":[{\"aaxis\":{\"endlinecolor\":\"#2a3f5f\",\"gridcolor\":\"white\",\"linecolor\":\"white\",\"minorgridcolor\":\"white\",\"startlinecolor\":\"#2a3f5f\"},\"baxis\":{\"endlinecolor\":\"#2a3f5f\",\"gridcolor\":\"white\",\"linecolor\":\"white\",\"minorgridcolor\":\"white\",\"startlinecolor\":\"#2a3f5f\"},\"type\":\"carpet\"}],\"table\":[{\"cells\":{\"fill\":{\"color\":\"#EBF0F8\"},\"line\":{\"color\":\"white\"}},\"header\":{\"fill\":{\"color\":\"#C8D4E3\"},\"line\":{\"color\":\"white\"}},\"type\":\"table\"}],\"barpolar\":[{\"marker\":{\"line\":{\"color\":\"#E5ECF6\",\"width\":0.5},\"pattern\":{\"fillmode\":\"overlay\",\"size\":10,\"solidity\":0.2}},\"type\":\"barpolar\"}],\"pie\":[{\"automargin\":true,\"type\":\"pie\"}]},\"layout\":{\"autotypenumbers\":\"strict\",\"colorway\":[\"#636efa\",\"#EF553B\",\"#00cc96\",\"#ab63fa\",\"#FFA15A\",\"#19d3f3\",\"#FF6692\",\"#B6E880\",\"#FF97FF\",\"#FECB52\"],\"font\":{\"color\":\"#2a3f5f\"},\"hovermode\":\"closest\",\"hoverlabel\":{\"align\":\"left\"},\"paper_bgcolor\":\"white\",\"plot_bgcolor\":\"#E5ECF6\",\"polar\":{\"bgcolor\":\"#E5ECF6\",\"angularaxis\":{\"gridcolor\":\"white\",\"linecolor\":\"white\",\"ticks\":\"\"},\"radialaxis\":{\"gridcolor\":\"white\",\"linecolor\":\"white\",\"ticks\":\"\"}},\"ternary\":{\"bgcolor\":\"#E5ECF6\",\"aaxis\":{\"gridcolor\":\"white\",\"linecolor\":\"white\",\"ticks\":\"\"},\"baxis\":{\"gridcolor\":\"white\",\"linecolor\":\"white\",\"ticks\":\"\"},\"caxis\":{\"gridcolor\":\"white\",\"linecolor\":\"white\",\"ticks\":\"\"}},\"coloraxis\":{\"colorbar\":{\"outlinewidth\":0,\"ticks\":\"\"}},\"colorscale\":{\"sequential\":[[0.0,\"#0d0887\"],[0.1111111111111111,\"#46039f\"],[0.2222222222222222,\"#7201a8\"],[0.3333333333333333,\"#9c179e\"],[0.4444444444444444,\"#bd3786\"],[0.5555555555555556,\"#d8576b\"],[0.6666666666666666,\"#ed7953\"],[0.7777777777777778,\"#fb9f3a\"],[0.8888888888888888,\"#fdca26\"],[1.0,\"#f0f921\"]],\"sequentialminus\":[[0.0,\"#0d0887\"],[0.1111111111111111,\"#46039f\"],[0.2222222222222222,\"#7201a8\"],[0.3333333333333333,\"#9c179e\"],[0.4444444444444444,\"#bd3786\"],[0.5555555555555556,\"#d8576b\"],[0.6666666666666666,\"#ed7953\"],[0.7777777777777778,\"#fb9f3a\"],[0.8888888888888888,\"#fdca26\"],[1.0,\"#f0f921\"]],\"diverging\":[[0,\"#8e0152\"],[0.1,\"#c51b7d\"],[0.2,\"#de77ae\"],[0.3,\"#f1b6da\"],[0.4,\"#fde0ef\"],[0.5,\"#f7f7f7\"],[0.6,\"#e6f5d0\"],[0.7,\"#b8e186\"],[0.8,\"#7fbc41\"],[0.9,\"#4d9221\"],[1,\"#276419\"]]},\"xaxis\":{\"gridcolor\":\"white\",\"linecolor\":\"white\",\"ticks\":\"\",\"title\":{\"standoff\":15},\"zerolinecolor\":\"white\",\"automargin\":true,\"zerolinewidth\":2},\"yaxis\":{\"gridcolor\":\"white\",\"linecolor\":\"white\",\"ticks\":\"\",\"title\":{\"standoff\":15},\"zerolinecolor\":\"white\",\"automargin\":true,\"zerolinewidth\":2},\"scene\":{\"xaxis\":{\"backgroundcolor\":\"#E5ECF6\",\"gridcolor\":\"white\",\"linecolor\":\"white\",\"showbackground\":true,\"ticks\":\"\",\"zerolinecolor\":\"white\",\"gridwidth\":2},\"yaxis\":{\"backgroundcolor\":\"#E5ECF6\",\"gridcolor\":\"white\",\"linecolor\":\"white\",\"showbackground\":true,\"ticks\":\"\",\"zerolinecolor\":\"white\",\"gridwidth\":2},\"zaxis\":{\"backgroundcolor\":\"#E5ECF6\",\"gridcolor\":\"white\",\"linecolor\":\"white\",\"showbackground\":true,\"ticks\":\"\",\"zerolinecolor\":\"white\",\"gridwidth\":2}},\"shapedefaults\":{\"line\":{\"color\":\"#2a3f5f\"}},\"annotationdefaults\":{\"arrowcolor\":\"#2a3f5f\",\"arrowhead\":0,\"arrowwidth\":1},\"geo\":{\"bgcolor\":\"white\",\"landcolor\":\"#E5ECF6\",\"subunitcolor\":\"white\",\"showland\":true,\"showlakes\":true,\"lakecolor\":\"white\"},\"title\":{\"x\":0.05},\"mapbox\":{\"style\":\"light\"}}},\"xaxis\":{\"anchor\":\"y\",\"domain\":[0.0,1.0],\"title\":{\"text\":\"News Type\"}},\"yaxis\":{\"anchor\":\"x\",\"domain\":[0.0,1.0],\"title\":{\"text\":\"Count\"}},\"legend\":{\"title\":{\"text\":\"sentiment\"},\"tracegroupgap\":0},\"title\":{\"text\":\"Countplot of News Type and Sentiment\",\"font\":{\"color\":\"white\"}},\"barmode\":\"group\",\"font\":{\"color\":\"white\"},\"plot_bgcolor\":\"black\",\"paper_bgcolor\":\"black\"},                        {\"responsive\": true}                    ).then(function(){\n",
       "                            \n",
       "var gd = document.getElementById('d3c2dd5c-a8d3-4eaa-969d-29fa644f6091');\n",
       "var x = new MutationObserver(function (mutations, observer) {{\n",
       "        var display = window.getComputedStyle(gd).display;\n",
       "        if (!display || display === 'none') {{\n",
       "            console.log([gd, 'removed!']);\n",
       "            Plotly.purge(gd);\n",
       "            observer.disconnect();\n",
       "        }}\n",
       "}});\n",
       "\n",
       "// Listen for the removal of the full notebook cells\n",
       "var notebookContainer = gd.closest('#notebook-container');\n",
       "if (notebookContainer) {{\n",
       "    x.observe(notebookContainer, {childList: true});\n",
       "}}\n",
       "\n",
       "// Listen for the clearing of the current output cell\n",
       "var outputEl = gd.closest('.output');\n",
       "if (outputEl) {{\n",
       "    x.observe(outputEl, {childList: true});\n",
       "}}\n",
       "\n",
       "                        })                };                });            </script>        </div>"
      ]
     },
     "metadata": {},
     "output_type": "display_data"
    }
   ],
   "source": [
    "fig = px.bar(\n",
    "    df_with_summaries, \n",
    "    x='news_type', \n",
    "    color='sentiment', \n",
    "    title='Countplot of News Type and Sentiment', \n",
    "    labels={'news_type': 'News Type', 'count': 'Count'},\n",
    "    barmode='group'  # Grouped bar chart\n",
    ")\n",
    "\n",
    "# Customize layout\n",
    "fig.update_layout(\n",
    "    plot_bgcolor='black',\n",
    "    paper_bgcolor='black',\n",
    "    font=dict(color='white'),\n",
    "    title=dict(font=dict(color='white'))\n",
    ")\n",
    "\n",
    "fig.show()"
   ]
  },
  {
   "cell_type": "code",
   "execution_count": null,
   "id": "d20bdcd3",
   "metadata": {},
   "outputs": [],
   "source": []
  }
 ],
 "metadata": {
  "kernelspec": {
   "display_name": "Python 3 (ipykernel)",
   "language": "python",
   "name": "python3"
  },
  "language_info": {
   "codemirror_mode": {
    "name": "ipython",
    "version": 3
   },
   "file_extension": ".py",
   "mimetype": "text/x-python",
   "name": "python",
   "nbconvert_exporter": "python",
   "pygments_lexer": "ipython3",
   "version": "3.10.15"
  }
 },
 "nbformat": 4,
 "nbformat_minor": 5
}
